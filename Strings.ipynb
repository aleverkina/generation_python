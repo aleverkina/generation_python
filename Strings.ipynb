{
 "cells": [
  {
   "cell_type": "markdown",
   "id": "deedc76c",
   "metadata": {},
   "source": [
    "1. На вход программе подается натуральное число n, затем n строк, затем число k — количество поисковых запросов, затем k строк — поисковые запросы. Напишите программу, которая выводит все введенные строки, в которых встречаются одновременно все поисковые запросы."
   ]
  },
  {
   "cell_type": "code",
   "execution_count": null,
   "id": "0f223b51",
   "metadata": {},
   "outputs": [],
   "source": [
    "n = int(input())\n",
    "l1 = []\n",
    "for i in range(n):\n",
    "    s1 = input()\n",
    "    l1.append(s1)\n",
    "k = int(input())\n",
    "l2 = []\n",
    "for j in range(k):\n",
    "    s2 = input()\n",
    "    l2.append(s2)\n",
    "\n",
    "for i in range(len(l1)):\n",
    "    count=0\n",
    "    for j in range(len(l2)):\n",
    "        if l2[j].lower() in l1[i].lower():\n",
    "            count += 1\n",
    "    if count == len(l2):\n",
    "        print(l1[i])"
   ]
  },
  {
   "cell_type": "markdown",
   "id": "36ae5788",
   "metadata": {},
   "source": [
    "2. Напишите программу, которая принимает произвольное количество строк и в каждой введенной строке располагает все символы в обратном порядке. "
   ]
  },
  {
   "cell_type": "code",
   "execution_count": null,
   "id": "bffa3bb1",
   "metadata": {},
   "outputs": [],
   "source": [
    "import sys\n",
    "\n",
    "for line in sys.stdin:\n",
    "    print(line.strip('\\n')[::-1])"
   ]
  },
  {
   "cell_type": "markdown",
   "id": "46f1fa29",
   "metadata": {},
   "source": [
    "3. Дана строка, содержащая латинские буквы и цифры. Напишите программу, которая сортирует символы в строке согласно следующим правилам: 1. все отсортированные строчные буквы стоят перед заглавными буквами; 2. все отсортированные заглавные буквы стоят перед цифрами; 3. все отсортированные нечетные цифры стоят перед отсортированными четными."
   ]
  },
  {
   "cell_type": "code",
   "execution_count": null,
   "id": "01fa7b5f",
   "metadata": {},
   "outputs": [],
   "source": [
    "string = input()\n",
    "\n",
    "sorted_string = sorted(string, key=lambda x: (x.isdigit() and int(x) % 2 == 0, x.isdigit() and int(x) % 2 == 1, \n",
    "                                              x.isalpha and x.isupper(), x, x.isalpha and x.islower()))\n",
    "\n",
    "print(''.join(x for x in sorted_string))"
   ]
  }
 ],
 "metadata": {
  "kernelspec": {
   "display_name": "Python 3 (ipykernel)",
   "language": "python",
   "name": "python3"
  },
  "language_info": {
   "codemirror_mode": {
    "name": "ipython",
    "version": 3
   },
   "file_extension": ".py",
   "mimetype": "text/x-python",
   "name": "python",
   "nbconvert_exporter": "python",
   "pygments_lexer": "ipython3",
   "version": "3.11.5"
  }
 },
 "nbformat": 4,
 "nbformat_minor": 5
}
