{
 "cells": [
  {
   "cell_type": "markdown",
   "id": "1733fd13",
   "metadata": {},
   "source": [
    "1. номер начинается с 0 - 3 строчных латинских букв включительно; далее следует последовательность цифр, длина которой должна быть от 2 до 8 включительно; после цифр указываются 3 или более заглавные латинские буквы;"
   ]
  },
  {
   "cell_type": "code",
   "execution_count": null,
   "id": "95d224f8",
   "metadata": {},
   "outputs": [],
   "source": [
    "regex = r'[a-z]{0,3}[0-9]{2,8}[A-Z]{3,}'"
   ]
  },
  {
   "cell_type": "markdown",
   "id": "7e8e4716",
   "metadata": {},
   "source": [
    "2. строка начинается с Mr., Mrs., Ms., Dr. или Er; оставшаяся часть строки состоит только из одной или более букв латинского алфавита в произвольном регистре. regex"
   ]
  },
  {
   "cell_type": "code",
   "execution_count": null,
   "id": "4f78c616",
   "metadata": {},
   "outputs": [],
   "source": [
    "regex = r'^[MDE]r\\.[a-zA-Z]+$|^Mr?s\\.[a-zA-Z]+$'"
   ]
  },
  {
   "cell_type": "markdown",
   "id": "f34a9ca2",
   "metadata": {},
   "source": [
    "3. строка начинается с одной или двух цифр; после следуют три или более буквы латинского алфавита в произвольном регистре; оставшаяся часть строки содержит от 0 до 3 точек включительно."
   ]
  },
  {
   "cell_type": "code",
   "execution_count": null,
   "id": "9414e703",
   "metadata": {},
   "outputs": [],
   "source": [
    "regex = r'^\\d{1,2}[a-zA-Z]{3,}\\.{0,3}$'"
   ]
  },
  {
   "cell_type": "markdown",
   "id": "8c27a8ae",
   "metadata": {},
   "source": [
    "4. номер телефона начинается из трехцифрового кода города, который может заключаться в круглые скобки; далее через пробел или дефис следует номер с семью цифрами, разделенный на трехцифровой префикс и четырехцифровой номер линии, между которыми указывается дефис. В номере телефона могут использоваться любые цифры за двумя исключениями: первая цифра кода города и первая цифра префикса не могут быть 0 или 1."
   ]
  },
  {
   "cell_type": "code",
   "execution_count": null,
   "id": "db2d6e2d",
   "metadata": {},
   "outputs": [],
   "source": [
    "regex = r'(([2-9]\\d{2})|(\\([2-9]\\d{2}\\)))(\\s|-)[2-9]\\d{2}-\\d{4}'"
   ]
  },
  {
   "cell_type": "markdown",
   "id": "088fd64c",
   "metadata": {},
   "source": [
    "5. последовательность должна состоять только из bee и geek; 2.последовательность должна содержать хотя бы один geek; 3.bee не может находиться рядом с самим собой (не может быть beebee); 4.geek может появиться только после того, как до этого было записано bee; 5.после каждого bee когда-нибудь должен появиться geek."
   ]
  },
  {
   "cell_type": "code",
   "execution_count": null,
   "id": "be549c22",
   "metadata": {},
   "outputs": [],
   "source": [
    "regex = r'((bee){1}(geek)+)+'"
   ]
  },
  {
   "cell_type": "markdown",
   "id": "572d24a8",
   "metadata": {},
   "source": [
    "6. Чтобы переменная regex содержала регулярное выражение, которому соответствуют слова, содержащие повторяющиеся буквы."
   ]
  },
  {
   "cell_type": "code",
   "execution_count": null,
   "id": "7e011fd4",
   "metadata": {},
   "outputs": [],
   "source": [
    "regex = r'\\b\\w*(\\w)\\w*\\1\\w*\\b'"
   ]
  },
  {
   "cell_type": "markdown",
   "id": "178b9dce",
   "metadata": {},
   "source": [
    "7. соответствуют последовательности из 8 цифр, удовлетворяющие следующим условиям: последовательность может содержать символы -, --- или . в качестве разделителей, только если они делят ее на группы по 2 цифры; последовательность должна содержать только один тип разделителя, если он присутствует."
   ]
  },
  {
   "cell_type": "code",
   "execution_count": null,
   "id": "36039306",
   "metadata": {},
   "outputs": [],
   "source": [
    "regex = r'\\d{2}(-?|(---)?|\\.?)\\d{2}\\1\\d{2}\\1\\d{2}'"
   ]
  },
  {
   "cell_type": "markdown",
   "id": "90ecfe45",
   "metadata": {},
   "source": [
    "8. Чтобы переменная regex содержала регулярное выражение, которому соответствуют слова, записанные дважды подряд. Слова могут быть разделены одним или несколькими пробелами."
   ]
  },
  {
   "cell_type": "code",
   "execution_count": null,
   "id": "7d8e2ae3",
   "metadata": {},
   "outputs": [],
   "source": [
    "regex = r'\\b(\\w+)\\s+\\1\\b'"
   ]
  },
  {
   "cell_type": "markdown",
   "id": "ec0ce6be",
   "metadata": {},
   "source": [
    "9. Напишите программу, которая принимает произвольное количество телефонных номеров и для каждого выводит отдельно его код страны, код города и номер."
   ]
  },
  {
   "cell_type": "code",
   "execution_count": null,
   "id": "7401b835",
   "metadata": {},
   "outputs": [],
   "source": [
    "import sys, re\n",
    "from re import fullmatch\n",
    "\n",
    "\n",
    "data = [line.strip() for line in sys.stdin]\n",
    "\n",
    "for i in data:\n",
    "    t = re.fullmatch(r'(?P<код_страны>\\d{1,3})(-| )(?P<код_города>\\d{1,3})\\2(?P<номер>\\d{4,10})', i)\n",
    "    print(f'Код страны: {t.group(\"код_страны\")}', end=', ')\n",
    "    print(f'Код города: {t.group(\"код_города\")}', end=', ')\n",
    "    print(f'Номер: {t.group(\"номер\")}', end='\\n')"
   ]
  },
  {
   "cell_type": "markdown",
   "id": "f8fc747f",
   "metadata": {},
   "source": [
    "10. Напишите программу, которая выводит слова, состоящие из двух одинаковых слогов. "
   ]
  },
  {
   "cell_type": "code",
   "execution_count": null,
   "id": "a603bf78",
   "metadata": {},
   "outputs": [],
   "source": [
    "import sys, re\n",
    "from re import fullmatch\n",
    "\n",
    "data = [line.strip() for line in sys.stdin]\n",
    "\n",
    "for i in data:\n",
    "    t = re.fullmatch(r'(\\w+)\\1', i)\n",
    "    if bool(t):\n",
    "        print(i)"
   ]
  },
  {
   "cell_type": "markdown",
   "id": "495e635d",
   "metadata": {},
   "source": [
    "11. Напишите программу, определяющую: количество строк, в которых bee встречается в качестве подстроки не менее двух раз; количество строк, в которых geek встречается в качестве слова хотя бы один раз"
   ]
  },
  {
   "cell_type": "code",
   "execution_count": null,
   "id": "c0c7e992",
   "metadata": {},
   "outputs": [],
   "source": [
    "import sys, re\n",
    "from re import fullmatch, search, findall\n",
    "\n",
    "data = [line.strip() for line in sys.stdin]\n",
    "\n",
    "b_count = 0\n",
    "g_count = 0\n",
    "\n",
    "for i in data:\n",
    "    b = re.findall(r'bee.*bee', i)\n",
    "    g = re.search(r'\\bgeek\\b', i)\n",
    "    if bool(b):\n",
    "        b_count += 1\n",
    "    if bool(g):\n",
    "        g_count += 1\n",
    "\n",
    "print(b_count)\n",
    "print(g_count)"
   ]
  },
  {
   "cell_type": "markdown",
   "id": "b785b779",
   "metadata": {},
   "source": [
    "12. Напишите программу, которая определяет популярность онлайн-школы BEEGEEK путем суммирования баллов всех публикаций. 3 балла, если она начинается и заканчивается строкой beegeek; 2 балла, если она только начинается или только заканчивается строкой beegeek; 1 балл, если она содержит строку beegeek только внутри; 0 баллов, если она не содержит строку beegeek. "
   ]
  },
  {
   "cell_type": "code",
   "execution_count": null,
   "id": "92518c0b",
   "metadata": {},
   "outputs": [],
   "source": [
    "import sys, re\n",
    "from re import fullmatch, search, findall\n",
    "\n",
    "data = [line.rstrip() for line in sys.stdin]\n",
    "\n",
    "balls = 0\n",
    "\n",
    "for i in data:\n",
    "    three = re.search(r'^beegeek.*beegeek$', i)\n",
    "    two = re.search(r'(^beegeek.+$)|(^.+beegeek$)', i)\n",
    "    one = re.search(r'^.+beegeek.+$', i)\n",
    "    if bool(three):\n",
    "        balls += 3\n",
    "        continue\n",
    "    if bool(two):\n",
    "        balls += 2\n",
    "        continue\n",
    "    if bool(one):\n",
    "        balls += 1\n",
    "        continue\n",
    "        \n",
    "print(balls)"
   ]
  },
  {
   "cell_type": "markdown",
   "id": "a18e1104",
   "metadata": {},
   "source": [
    "13. На электронную почту Тимура нередко приходят письма с предложением о сотрудничестве. Тимур ценит взаимное уважение и считает письмо достойным внимания, если оно начинается с одного из следующих выражений: Здравствуйте; Доброе утро; Добрый день; Добрый вечер. Напишите программу, которая определяет, является ли письмо достойным внимания Тимура."
   ]
  },
  {
   "cell_type": "code",
   "execution_count": null,
   "id": "058a622f",
   "metadata": {},
   "outputs": [],
   "source": [
    "from re import search, MULTILINE, IGNORECASE\n",
    "\n",
    "text = input()\n",
    "\n",
    "match1 = search('(^Здравствуйте)|(^Доброе\\sутро)|(^Добрый\\sдень)|(^Добрый\\sвечер)', text, flags=MULTILINE | IGNORECASE)\n",
    "\n",
    "print(True if match1 else False)"
   ]
  },
  {
   "cell_type": "markdown",
   "id": "10d8ed60",
   "metadata": {},
   "source": [
    "14. Напишите программу, которая меняет местами первые две буквы в каждом слове, состоящем из двух или более букв."
   ]
  },
  {
   "cell_type": "code",
   "execution_count": null,
   "id": "29648510",
   "metadata": {},
   "outputs": [],
   "source": [
    "import re\n",
    "from re import sub\n",
    "\n",
    "s = input()\n",
    "\n",
    "result = sub(r'\\b(\\w)(\\w)(\\w*)\\b', r'\\2\\1\\3', s)\n",
    "\n",
    "print(result)"
   ]
  },
  {
   "cell_type": "markdown",
   "id": "63f7f482",
   "metadata": {},
   "source": [
    "15. Напишите программу, которая складывает все натуральные числа в строке, находящиеся в указанном диапазоне индексов."
   ]
  },
  {
   "cell_type": "code",
   "execution_count": null,
   "id": "f652e1f6",
   "metadata": {},
   "outputs": [],
   "source": [
    "import re\n",
    "digits = input().split()\n",
    "a = int(digits[0])\n",
    "b = int(digits[1])\n",
    "\n",
    "string = input()\n",
    "\n",
    "regex_obj = re.compile(r'\\d+')\n",
    "result = regex_obj.findall(string, pos=a, endpos=b)\n",
    "\n",
    "\n",
    "print(sum(int(i) for i in result))"
   ]
  }
 ],
 "metadata": {
  "kernelspec": {
   "display_name": "Python 3 (ipykernel)",
   "language": "python",
   "name": "python3"
  },
  "language_info": {
   "codemirror_mode": {
    "name": "ipython",
    "version": 3
   },
   "file_extension": ".py",
   "mimetype": "text/x-python",
   "name": "python",
   "nbconvert_exporter": "python",
   "pygments_lexer": "ipython3",
   "version": "3.11.5"
  }
 },
 "nbformat": 4,
 "nbformat_minor": 5
}
