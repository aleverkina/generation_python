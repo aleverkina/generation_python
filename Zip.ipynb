{
 "cells": [
  {
   "cell_type": "markdown",
   "id": "091342ba",
   "metadata": {},
   "source": [
    "1. Вам доступен архив workbook.**zip**, содержащий различные папки и файлы. Напишите программу, которая выводит единственное число — **количество файлов в этом архиве**."
   ]
  },
  {
   "cell_type": "code",
   "execution_count": null,
   "id": "ed60546b",
   "metadata": {},
   "outputs": [],
   "source": [
    "from zipfile import ZipFile\n",
    "\n",
    "with ZipFile('workbook.zip') as zip_file:\n",
    "    info = zip_file.namelist()\n",
    "    counter = 0\n",
    "    for i in info:\n",
    "        if not i.endswith('/'):\n",
    "            counter += 1\n",
    "    print(counter)"
   ]
  },
  {
   "cell_type": "markdown",
   "id": "1cee9824",
   "metadata": {},
   "source": [
    "2. Вам доступен архив workbook.zip, содержащий различные папки и файлы. Напишите программу, которая выводит суммарный объем файлов этого архива в сжатом и не сжатом видах в байтах."
   ]
  },
  {
   "cell_type": "code",
   "execution_count": null,
   "id": "1ea8da67",
   "metadata": {},
   "outputs": [],
   "source": [
    "from zipfile import ZipFile\n",
    "\n",
    "with ZipFile('workbook.zip') as zip_file:\n",
    "    sum_file = 0\n",
    "    sum_compress = 0\n",
    "            \n",
    "    for info in zip_file.infolist():\n",
    "        sum_file += info.file_size\n",
    "        sum_compress += info.compress_size\n",
    "        \n",
    "    print(f'Объем исходных файлов: {sum_file} байт(а)')\n",
    "    print(f'Объем сжатых файлов: {sum_compress} байт(а)')"
   ]
  },
  {
   "cell_type": "markdown",
   "id": "956d5125",
   "metadata": {},
   "source": [
    "3. Вам доступен архив workbook.zip, содержащий различные папки и файлы. Напишите программу, которая выводит название файла из этого архива, который имеет наилучший показатель степени сжатия."
   ]
  },
  {
   "cell_type": "code",
   "execution_count": null,
   "id": "a7121162",
   "metadata": {},
   "outputs": [],
   "source": [
    "from zipfile import ZipFile\n",
    "import os\n",
    "\n",
    "with ZipFile('workbook.zip') as zip_file:\n",
    "    \n",
    "    best_zip = 0\n",
    "    file_name = ''\n",
    "    \n",
    "    for info in zip_file.infolist():\n",
    "        if info.is_dir() == False and 100 - (info.compress_size / info.file_size * 100) > best_zip:\n",
    "            best_zip = 100 - (info.compress_size / info.file_size * 100)\n",
    "            file_name = os.path.basename(info.filename) # получаем имя файла без указания пути\n",
    "            \n",
    "    print(file_name)"
   ]
  },
  {
   "cell_type": "markdown",
   "id": "519bb2b7",
   "metadata": {},
   "source": [
    "4. Вам доступен архив workbook.zip, содержащий различные папки и файлы. Напишите программу, которая выводит названия файлов из этого архива, которые были созданы или изменены позднее 2021-11-30 14:22:00. Названия файлов должны быть расположены в лексикографическом порядке, каждое на отдельной строке."
   ]
  },
  {
   "cell_type": "code",
   "execution_count": null,
   "id": "3c4226bd",
   "metadata": {},
   "outputs": [],
   "source": [
    "from zipfile import ZipFile\n",
    "from datetime import *\n",
    "import os\n",
    "\n",
    "date = datetime(2021, 11, 30, 14, 22, 0)\n",
    "file_names = []\n",
    "\n",
    "with ZipFile('workbook.zip') as zip_file:\n",
    "    for info in zip_file.infolist():\n",
    "        name_file = os.path.basename(info.filename)\n",
    "        \n",
    "        if datetime(*info.date_time) >= date and name_file != '':\n",
    "            file_names.append(name_file)\n",
    "            \n",
    "file_names"
   ]
  },
  {
   "cell_type": "markdown",
   "id": "dc097d63",
   "metadata": {},
   "source": [
    "5. Реализуйте функцию extract_this(), которая принимает один или более аргументов в следующем порядке: zip_name — название zip архива, например, data.zip *args — переменное количество позиционных аргументов, каждый из которых является названием некоторого файла Функция должна извлекать файлы *args из архива zip_name в папку с программой. Если в функцию не передано ни одного названия файла для извлечения, то функция должна извлечь все файлы из архива."
   ]
  },
  {
   "cell_type": "code",
   "execution_count": null,
   "id": "751e4347",
   "metadata": {},
   "outputs": [],
   "source": [
    "from zipfile import ZipFile\n",
    "\n",
    "\n",
    "def extract_this(zip_name, *args):\n",
    "    with ZipFile(zip_name, mode='a') as zip_file:\n",
    "        if len(args) == 0:\n",
    "            args_fullname = None\n",
    "            zip_file.extractall(members=args_fullname)\n",
    "        else:\n",
    "            zip_file.extractall(members=args)"
   ]
  },
  {
   "cell_type": "markdown",
   "id": "5b3fa432",
   "metadata": {},
   "source": [
    "6. Вам доступен архив workbook.zip, содержащий различные папки и файлы. Напишите программу, которая выводит названия всех файлов из этого архива в лексикографическом порядке, указывая для каждого его дату изменения, а также объем до и после сжатия. Между данными о двух файлах должна располагаться пустая строка. Если файл находится в папке, вывести следует только название без пути. В качестве отступов используйте два пробела."
   ]
  },
  {
   "cell_type": "code",
   "execution_count": null,
   "id": "ec251a2e",
   "metadata": {},
   "outputs": [],
   "source": [
    "from zipfile import ZipFile\n",
    "from datetime import datetime\n",
    "\n",
    "with ZipFile('workbook.zip') as file:\n",
    "    k = [(i.filename.split('/')[-1], i.date_time, i.file_size, i.compress_size) for i in ZipFile.infolist(file) \n",
    "         if i.is_dir() == False]\n",
    "    k = sorted(k)\n",
    "    \n",
    "    for i in k:\n",
    "        print(f'{i[0]}')\n",
    "        print(f'  Дата модификации файла: {datetime(*i[1])}')\n",
    "        print(f'  Объем исходного файла: {i[2]} байт(а)')\n",
    "        print(f'  Объем сжатого файла: {i[3]} байт(а)\\n')"
   ]
  }
 ],
 "metadata": {
  "kernelspec": {
   "display_name": "Python 3 (ipykernel)",
   "language": "python",
   "name": "python3"
  },
  "language_info": {
   "codemirror_mode": {
    "name": "ipython",
    "version": 3
   },
   "file_extension": ".py",
   "mimetype": "text/x-python",
   "name": "python",
   "nbconvert_exporter": "python",
   "pygments_lexer": "ipython3",
   "version": "3.11.5"
  }
 },
 "nbformat": 4,
 "nbformat_minor": 5
}
