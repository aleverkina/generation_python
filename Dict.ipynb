{
 "cells": [
  {
   "cell_type": "markdown",
   "id": "44cd4051",
   "metadata": {},
   "source": [
    "1. Рассчитать профит каждой категории товаров."
   ]
  },
  {
   "cell_type": "code",
   "execution_count": null,
   "id": "28124cca",
   "metadata": {},
   "outputs": [],
   "source": [
    "from collections import defaultdict\n",
    "\n",
    "data = [('Books', 1343), ('Books', 1166), ('Merch', 616), ('Courses', 966), ('Merch', 1145), ('Courses', 1061), ('Books', 848), ('Courses', 964), ('Tutorials', 832), ('Merch', 642), ('Books', 815), ('Tutorials', 1041), ('Books', 1218), ('Tutorials', 880), ('Books', 1003), ('Merch', 951), ('Books', 920), ('Merch', 729), ('Tutorials', 977), ('Books', 656)]\n",
    "\n",
    "profit = defaultdict(int, data)\n",
    "\n",
    "for elem in data[:-3]:\n",
    "    profit[elem[0]] += elem[1]\n",
    "\n",
    "profit = dict(sorted(profit.items()))\n",
    "    \n",
    "for key in profit:\n",
    "    print(f\"{key}: ${profit[key]}\")"
   ]
  },
  {
   "cell_type": "markdown",
   "id": "55f51a97",
   "metadata": {},
   "source": [
    "2. Вам доступен словарь data с четным количеством элементов. Дополните приведенный ниже код, чтобы он вывел данный словарь, расположив его элементы по следующему правилу: первый, последний, второй, предпоследний, третий, и так далее."
   ]
  },
  {
   "cell_type": "code",
   "execution_count": null,
   "id": "b58205e9",
   "metadata": {},
   "outputs": [],
   "source": [
    "from collections import OrderedDict\n",
    "\n",
    "data = OrderedDict({'Name': 'Брусника', 'IsNetObject': 'да', 'OperatingCompany': 'Брусника', 'TypeObject': 'кафе', 'AdmArea': 'Центральный административный округ', 'District': 'район Арбат', 'Address': 'город Москва, переулок Сивцев Вражек, дом 6/2', 'SeatsCount': '10'})\n",
    "\n",
    "\n",
    "rule = [False if i % 2 == 0 else True for i in range(len(data))]\n",
    "result = OrderedDict()\n",
    "\n",
    "for r in rule:    \n",
    "    k, v = data.popitem(last=r)\n",
    "    result[k] = v\n",
    "    \n",
    "print(result)"
   ]
  },
  {
   "cell_type": "markdown",
   "id": "27943903",
   "metadata": {},
   "source": [
    "3. **Реализуйте функцию** custom_sort(), которая принимает два аргумента в следующем порядке:\n",
    "ordered_dict — словарь OrderedDict\n",
    "by_values — булево значение, по умолчанию имеет значение False\n",
    "\n",
    "Функция должна сортировать словарь ordered_dict:\n",
    "по ключам, если by_values имеет значение False\n",
    "по значениям, если by_values имеет значение True\n",
    "\n",
    "Примечание 1. Функция должна **изменять переданный словарь**, а не возвращать новый. Возвращаемым значением функции должно быть None.\n",
    "\n",
    "Примечание 2. Гарантируется, что переданный в функцию **словарь можно отсортировать**, то есть он не содержит ключи, имеющие разные типы, а также значения, имеющие разные типы.\n",
    "\n",
    "Примечание 3. Если два элемента имеют равные значения, то следует сохранить их исходный порядок следования.\n",
    "\n",
    "Примечание 4. В тестирующую систему сдайте программу, содержащую только необходимую функцию custom_sort(), но не код, вызывающий ее."
   ]
  },
  {
   "cell_type": "code",
   "execution_count": null,
   "id": "3e7c9a5b",
   "metadata": {},
   "outputs": [],
   "source": [
    "from collections import OrderedDict\n",
    "\n",
    "\n",
    "def custom_sort(ordered_dict, by_values=False):\n",
    "    if by_values:\n",
    "        for key in sorted(ordered_dict, key=lambda x: ordered_dict[x]):\n",
    "            ordered_dict.move_to_end(key)   \n",
    "    else:\n",
    "        for key in sorted(ordered_dict): #сортировка по ключам\n",
    "            ordered_dict.move_to_end(key)\n",
    "                   \n",
    "    return None"
   ]
  },
  {
   "cell_type": "markdown",
   "id": "2b9f06ac",
   "metadata": {},
   "source": [
    "4. Реализуйте функцию flip_dict(), которая принимает один аргумент: dict_of_lists — словарь, в котором ключом является число или строка, а значением — список чисел или строк. Функция должна возвращать новый словарь (тип defaultdict с типом list в качестве значения по умолчанию), который представляет собой «перевернутый» словарь dict_of_lists (представив ключи в виде значений, а значения — в виде ключей)."
   ]
  },
  {
   "cell_type": "code",
   "execution_count": null,
   "id": "7cfadec0",
   "metadata": {},
   "outputs": [],
   "source": [
    "from collections import defaultdict\n",
    "\n",
    "def flip_dict(dict_of_lists):\n",
    "    dict_of_lists_flipped = defaultdict(list)\n",
    "    \n",
    "    for key, values in dict_of_lists.items():\n",
    "        for value in values:\n",
    "            dict_of_lists_flipped[value].append(key)\n",
    "            \n",
    "    return dict_of_lists_flipped"
   ]
  },
  {
   "cell_type": "markdown",
   "id": "5cb78ba7",
   "metadata": {},
   "source": [
    "5. Реализуйте функцию best_sender(), которая принимает два аргумента в следующем порядке: messages — список сообщений, senders — список имен отправителей. Функция должна определять отправителя, имеющего наибольшее количество слов, и возвращать его имя. Если таких отправителей несколько, следует вернуть имя того, чье имя больше в лексикографическом сравнении."
   ]
  },
  {
   "cell_type": "code",
   "execution_count": null,
   "id": "3aaeec77",
   "metadata": {},
   "outputs": [],
   "source": [
    "from collections import defaultdict\n",
    "\n",
    "def best_sender(messages, senders):\n",
    "    \n",
    "    stats = defaultdict(int)\n",
    "    \n",
    "    for k, v in zip(senders, messages):\n",
    "        stats[k]+= int(len(v.split()))\n",
    "        \n",
    "    result =  max(stats, key=lambda x: (stats[x], x))\n",
    "    \n",
    "    return result"
   ]
  },
  {
   "cell_type": "markdown",
   "id": "45f5118b",
   "metadata": {},
   "source": [
    "6. Дан список имен учеников и их оценок за экзамен. Напишите программу, которая определяет второго по счету ученика, имеющего самую низкую оценку."
   ]
  },
  {
   "cell_type": "code",
   "execution_count": null,
   "id": "b5ed82ba",
   "metadata": {},
   "outputs": [],
   "source": [
    "import sys\n",
    "\n",
    "from collections import defaultdict\n",
    "\n",
    "\n",
    "inp = [s.strip() for s in sys.stdin]\n",
    "\n",
    "d = {k: v for k, v in map(str.split, inp)}\n",
    "\n",
    "sorted_d = sorted(d.items(), key=lambda x: int(x[1])) \n",
    "\n",
    "print(sorted_d[1][0])"
   ]
  },
  {
   "cell_type": "markdown",
   "id": "03a377c3",
   "metadata": {},
   "source": [
    "7. Вам доступен список кортежей staff с данными о сотрудниках некоторой компании. Первым элементом кортежа является название отдела, вторым — имя и фамилия сотрудника, работающего в этом отделе.\n",
    "\n",
    "Дополните приведенный ниже код, чтобы он определил, какое число сотрудников работает в каждом отделе и вывел названия всех отделов, указав для каждого соответствующее количество сотрудников. Отделы должны быть расположены в лексикографическом порядке, каждый на отдельной строке"
   ]
  },
  {
   "cell_type": "code",
   "execution_count": null,
   "id": "a54363de",
   "metadata": {},
   "outputs": [],
   "source": [
    "from collections import defaultdict\n",
    "\n",
    "s = [('Developing', 'Miguel Norris'), ('Sales', 'Connie Reid'), ('Sales', 'Joseph Lee'), ('Marketing', 'Carol Peters'), ('Accounting', 'Linda Hudson'), ('Accounting', 'Ann Bell'), ('Marketing', 'Ralph Morgan'), ('Accounting', 'Gloria Higgins'), ('Developing', 'Wilma Woods'), ('Developing', 'Wilma Woods'), ('Marketing', 'Bernice Ramos'), ('Marketing', 'Joyce Lawrence'), ('Accounting', 'Craig Wood'), ('Developing', 'Nicole Watts'), ('Sales', 'Jose Taylor'), ('Accounting', 'Linda Hudson'), ('Accounting', 'Edna Cunningham'), ('Sales', 'Jose Taylor'), ('Marketing', 'Helen Taylor'), ('Accounting', 'Kimberly Reynolds'), ('Marketing', 'Mary King'), ('Sales', 'Joseph Lee'), ('Accounting', 'Gloria Higgins'), ('Marketing', 'Andrew Clark'), ('Accounting', 'John Watts'), ('Accounting', 'Rosemary Garcia'), ('Accounting', 'Steven Diaz'), ('Marketing', 'Mary King'), ('Sales', 'Gladys Taylor'), ('Developing', 'Thomas Porter'), ('Accounting', 'Brenda Davis'), ('Sales', 'Connie Reid'), ('Sales', 'Alicia Mendoza'), ('Marketing', 'Mario Reynolds'), ('Sales', 'John White'), ('Developing', 'Joyce Rivera'), ('Accounting', 'Steven Diaz'), ('Developing', 'Arlene Gibson'), ('Sales', 'Robert Barnes'), ('Sales', 'Charlotte Cox'), ('Accounting', 'Craig Wood'), ('Marketing', 'Carol Peters'), ('Marketing', 'Ralph Morgan'), ('Accounting', 'Kay Scott'), ('Sales', 'Evelyn Martin'), ('Marketing', 'Billy Lloyd'), ('Sales', 'Gladys Taylor'), ('Developing', 'Deborah George'), ('Sales', 'Charlotte Cox'), ('Marketing', 'Sam Davis'), ('Sales', 'John White'), ('Sales', 'Marie Cooper'), ('Marketing', 'John Gonzalez'), ('Sales', 'John Washington'), ('Sales', 'Chester Fernandez'), ('Sales', 'Alicia Mendoza'), ('Sales', 'Katie Warner'), ('Accounting', 'Jane Jackson'), ('Sales', 'Chester Fernandez'), ('Marketing', 'Charles Bailey'), ('Marketing', 'Gail Hill'), ('Accounting', 'Casey Jenkins'), ('Accounting', 'James Wilkins'), ('Accounting', 'Casey Jenkins'), ('Marketing', 'Mario Reynolds'), ('Accounting', 'Aaron Ferguson'), ('Accounting', 'Kimberly Reynolds'), ('Sales', 'Robert Barnes'), ('Accounting', 'Aaron Ferguson'), ('Accounting', 'Jane Jackson'), ('Developing', 'Deborah George'), ('Accounting', 'Michelle Wright'), ('Accounting', 'Dale Houston')]\n",
    "\n",
    "d = defaultdict(set)\n",
    "for k, v in s:\n",
    "    d[k].add(v)\n",
    "\n",
    "sorted_tuple = sorted(d.items(), key=lambda x: x[0])\n",
    "\n",
    "for k, v in sorted_tuple:\n",
    "    print(f\"{k}: {', '.join(sorted(list(v)))}\")"
   ]
  },
  {
   "cell_type": "markdown",
   "id": "5d7a2808",
   "metadata": {},
   "source": [
    "8. Реализуйте функцию deep_update(), которая принимает три аргумента в следующем порядке: chainmap — объект типа ChainMap, элементами которого являются словари; key — хешируемый объект; value — произвольный объект. Функция должна изменять все значения по ключу key во всех словарях в chainmap на value. Если ключ key отсутствует в chainmap, функция должна добавить пару key: value в первый словарь. Функция должна изменять передаваемый объект типа ChainMap и возвращать значение None. Гарантируется, что передаваемый в функцию объект типа ChainMap содержит хотя бы один словарь."
   ]
  },
  {
   "cell_type": "code",
   "execution_count": null,
   "id": "2d448a32",
   "metadata": {},
   "outputs": [],
   "source": [
    "from collections import ChainMap\n",
    "from collections import defaultdict \n",
    "\n",
    "def deep_update(chainmap, key, value):\n",
    "    \n",
    "    for element in chainmap.maps:\n",
    "        for k, v in element.items():\n",
    "            if k == key:\n",
    "                element[k] = value\n",
    "        chainmap.setdefault(key, value)\n",
    "                \n",
    "                \n",
    "    return None"
   ]
  },
  {
   "cell_type": "markdown",
   "id": "f72543f3",
   "metadata": {},
   "source": [
    "9. Реализуйте функцию get_value(), которая принимает три аргумента в следующем порядке: chainmap — объект типа ChainMap, элементами которого являются словари; key — произвольный объект; from_left — булево значение, по умолчанию равное True. Функция должна возвращать значение по ключу key из chainmap, причем: если from_left имеет значение True, поиск ключа в chainmap должен происходить от первого словаря к последнему; если from_left имеет значение False, поиск ключа в chainmap должен происходить от последнего словаря к первому. Если ключ key отсутствует в chainmap, функция должна вернуть значение None."
   ]
  },
  {
   "cell_type": "code",
   "execution_count": null,
   "id": "b4c1bc86",
   "metadata": {},
   "outputs": [],
   "source": [
    "from collections import ChainMap\n",
    "\n",
    "\n",
    "def get_value(chainmap, key, from_left = True):        \n",
    "    if from_left == True:\n",
    "        if key in chainmap:\n",
    "            return chainmap.get(key)\n",
    "        else:\n",
    "            return None\n",
    "    else:\n",
    "        if key in chainmap:\n",
    "                chainmap.maps.reverse()\n",
    "                return chainmap.get(key)\n",
    "        else:\n",
    "            return None"
   ]
  }
 ],
 "metadata": {
  "kernelspec": {
   "display_name": "Python 3 (ipykernel)",
   "language": "python",
   "name": "python3"
  },
  "language_info": {
   "codemirror_mode": {
    "name": "ipython",
    "version": 3
   },
   "file_extension": ".py",
   "mimetype": "text/x-python",
   "name": "python",
   "nbconvert_exporter": "python",
   "pygments_lexer": "ipython3",
   "version": "3.11.5"
  }
 },
 "nbformat": 4,
 "nbformat_minor": 5
}
