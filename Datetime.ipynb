{
 "cells": [
  {
   "cell_type": "markdown",
   "id": "599091df",
   "metadata": {},
   "source": [
    "1. Во время решения очередной задачи программист фиксирует время начала и окончания ее решения и добавляет полученные результаты в список data. Каждый результат представляет собой кортеж, первым элементом которого является время начала решения в виде строки в формате HH:MM, вторым элементом — время окончания решения в виде строки в том же формате. Дополните приведенный ниже код, чтобы он вывел общее целое количество минут, которое программист затратил на решение всех задач."
   ]
  },
  {
   "cell_type": "code",
   "execution_count": null,
   "id": "7c71d696",
   "metadata": {},
   "outputs": [],
   "source": [
    "from datetime import date, time, datetime, timedelta\n",
    "\n",
    "data = [('07:14', '08:46'),\n",
    "        ('09:01', '09:37'),\n",
    "        ('10:00', '11:43'),\n",
    "        ('12:13', '13:49'),\n",
    "        ('15:00', '15:19'),\n",
    "        ('15:58', '17:24'),\n",
    "        ('17:57', '19:21'),\n",
    "        ('19:30', '19:59')]\n",
    "                 \n",
    "minutes_diff = list(map(lambda x: datetime.strptime(x[1], '%H:%M') - datetime.strptime(x[0], '%H:%M'), data))\n",
    "\n",
    "print(int(sum([x.seconds / 60 for x in minutes_diff])))"
   ]
  },
  {
   "cell_type": "markdown",
   "id": "f38425d5",
   "metadata": {},
   "source": [
    "2. Докажите, что 13-е число месяца чаще всего приходится на пятницу. Напишите программу, которая вычисляет, сколько тринадцатых чисел приходится на каждый день недели в период с 01.01.0001 по 31.12.9999."
   ]
  },
  {
   "cell_type": "code",
   "execution_count": null,
   "id": "26933698",
   "metadata": {},
   "outputs": [],
   "source": [
    "from collections import Counter\n",
    "from datetime import date\n",
    "\n",
    "weekdays_13th = []\n",
    "\n",
    "for year in range(1, 10000):\n",
    "    for month in range(1, 13):\n",
    "        weekdays_13th.append(date(year, month, 13).weekday())\n",
    "\n",
    "stat_weekdays = Counter(weekdays_13th)\n",
    "\n",
    "for i in range(7):\n",
    "    print(stat_weekdays[i])"
   ]
  },
  {
   "cell_type": "markdown",
   "id": "6f565e7f",
   "metadata": {},
   "source": [
    "3. Дан режим работы магазина.Напишите программу, которая принимает на вход текущие дату и время и определяет количество минут, оставшееся до закрытия магазина.Программа должна вывести количество минут, которое осталось до закрытия магазина, или текст Магазин не работает, если он закрыт."
   ]
  },
  {
   "cell_type": "code",
   "execution_count": null,
   "id": "6008c43c",
   "metadata": {},
   "outputs": [],
   "source": [
    "from datetime import date, time, datetime, timedelta\n",
    "\n",
    "data = datetime.strptime(input(), '%d.%m.%Y %H:%M')\n",
    "\n",
    "# будни\n",
    "if data.weekday() < 5:\n",
    "    if 9 <= data.hour < 21:\n",
    "        print((21 - data.hour) * 60 - data.minute)\n",
    "    else:\n",
    "        print('Магазин не работает')\n",
    "\n",
    "# выходные\n",
    "else:\n",
    "    if 10 <= data.hour < 18:\n",
    "        print((18 - data.hour) * 60 - data.minute)\n",
    "    else:\n",
    "        print('Магазин не работает')"
   ]
  },
  {
   "cell_type": "markdown",
   "id": "bfe4efd1",
   "metadata": {},
   "source": [
    "4. Даны две даты — левая и правая границы диапазона соответственно. Напишите программу, которая из этого диапазона, включая границы, выводит, начиная с даты, у которой сумма дня и месяца нечетная, каждую третью дату, только если она не понедельник и не четверг."
   ]
  },
  {
   "cell_type": "code",
   "execution_count": null,
   "id": "26c5b1c0",
   "metadata": {},
   "outputs": [],
   "source": [
    "from datetime import date, time, datetime, timedelta\n",
    "\n",
    "start_date = datetime.strptime(input(), '%d.%m.%Y')\n",
    "end_date = datetime.strptime(input(),'%d.%m.%Y')\n",
    "\n",
    "\n",
    "while (start_date.day + start_date.month) % 2 == 0:\n",
    "    start_date += timedelta(days=1)\n",
    "    \n",
    "while start_date <= end_date:\n",
    "        if start_date.weekday() not in (0, 3):\n",
    "            for_print = datetime.strftime(start_date, '%d.%m.%Y')\n",
    "            print(for_print)\n",
    "        start_date += timedelta(days=3)"
   ]
  },
  {
   "cell_type": "markdown",
   "id": "4005b564",
   "metadata": {},
   "source": [
    "5. Реализуйте функцию get_the_fastest_func(), которая принимает два аргумента в следующем порядке: 1.funcs — список произвольных функций 2.arg — произвольный объект\n",
    "\n",
    "Функция get_the_fastest_func() должна возвращать функцию из списка funcs, которая затратила на вычисление значения при вызове с аргументом arg наименьшее количество времени.\n",
    "\n",
    "В тестирующую систему сдайте программу, содержащую только необходимую функцию get_the_fastest_func(), но не код, вызывающий ее."
   ]
  },
  {
   "cell_type": "code",
   "execution_count": null,
   "id": "accf6d34",
   "metadata": {},
   "outputs": [],
   "source": [
    "import time\n",
    "\n",
    "def calculate_it(func, args):\n",
    "    start_time = time.perf_counter()\n",
    "    func1 = func(args)\n",
    "    end_time = time.perf_counter()\n",
    "    elapsed_time = end_time - start_time\n",
    "    return (elapsed_time)\n",
    "    \n",
    "def get_the_fastest_func(funcs, arg):\n",
    "    l = []\n",
    "    for i in range(len(funcs)):\n",
    "        t = calculate_it(funcs[i], arg)\n",
    "        l.append(t)\n",
    "    min_value = min(l)\n",
    "    min_index = l.index(min_value)\n",
    "    return funcs[min_index]\n"
   ]
  },
  {
   "cell_type": "markdown",
   "id": "1108f0f5",
   "metadata": {},
   "source": [
    "6. Напишите программу, которая выводит календарь на заданные год и месяц."
   ]
  },
  {
   "cell_type": "code",
   "execution_count": null,
   "id": "08038c4c",
   "metadata": {},
   "outputs": [],
   "source": [
    "import calendar\n",
    "from datetime import datetime, date\n",
    "\n",
    "s = input()\n",
    "s = datetime.strptime(s, '%Y %b')\n",
    "\n",
    "calendar.prmonth(s.year,s.month)"
   ]
  },
  {
   "cell_type": "markdown",
   "id": "0000eeca",
   "metadata": {},
   "source": [
    "7. Напишите программу, которая определяет количество дней в заданном месяце."
   ]
  },
  {
   "cell_type": "code",
   "execution_count": null,
   "id": "a27592c3",
   "metadata": {},
   "outputs": [],
   "source": [
    "import calendar\n",
    "from datetime import * \n",
    "\n",
    "s = input()\n",
    "s = datetime.strptime(s, '%Y %m')\n",
    "\n",
    "year = s.year\n",
    "month = s.month\n",
    "\n",
    "print(calendar.monthrange(year, month)[1]) "
   ]
  },
  {
   "cell_type": "markdown",
   "id": "8843366f",
   "metadata": {},
   "source": [
    "8. Реализуйте функцию get_days_in_month(), которая принимает два аргумента в следующем порядке: year — натуральное число month — полное название месяца на английском.\n",
    "\n",
    "Функция должна возвращать отсортированный по возрастанию список всех дат (тип date) месяца month и года year."
   ]
  },
  {
   "cell_type": "code",
   "execution_count": null,
   "id": "44123af2",
   "metadata": {},
   "outputs": [],
   "source": [
    "import calendar\n",
    "from datetime import *\n",
    "\n",
    "MonthNums = {'January': 1, 'February': 2, 'March': 3, 'April': 4, 'May': 5, 'June': 6, 'July': 7, 'August': 8, 'September': 9, 'October': 10, 'November': 11, 'December': 12}\n",
    "\n",
    "def get_days_in_month(year, month):   \n",
    "    month_num = MonthNums.get(month)\n",
    "    \n",
    "    l = []\n",
    "        \n",
    "    for day in range(1, calendar.monthrange(year, month_num)[1]+1):\n",
    "        our_date = date(year, month_num, day)\n",
    "        \n",
    "        l.append(our_date)\n",
    "        \n",
    "        \n",
    "    return(sorted(l))"
   ]
  },
  {
   "cell_type": "markdown",
   "id": "f2b99817",
   "metadata": {},
   "source": [
    "9. Реализуйте функцию get_all_mondays(), которая принимает один аргумент: year — натуральное число.\n",
    "\n",
    "Функция должна возвращать отсортированный по возрастанию список всех дат (тип date) года year, выпадающих на понедельник."
   ]
  },
  {
   "cell_type": "code",
   "execution_count": null,
   "id": "ef76bb8b",
   "metadata": {},
   "outputs": [],
   "source": [
    "import calendar\n",
    "from datetime import *\n",
    "\n",
    "def get_all_mondays(year):   \n",
    "        \n",
    "    l = []\n",
    "        \n",
    "    for month in range(1, 13):\n",
    "        \n",
    "        for day in range(1, calendar.monthrange(year, month)[1]+1):\n",
    "            now_date = date(year, month, day)\n",
    "            \n",
    "            if now_date.weekday() == 0:\n",
    "                l.append(now_date)\n",
    "               \n",
    "    return(sorted(l))"
   ]
  },
  {
   "cell_type": "markdown",
   "id": "33d0816f",
   "metadata": {},
   "source": [
    "10. Во многих музеях существует один день месяца, когда посещение музея для всех лиц или отдельных категорий граждан происходит без взимания платы. Например, в Эрмитаже это третий четверг месяца.\n",
    "\n",
    "Напишите программу, которая определяет даты бесплатных дней посещения Эрмитажа в заданном году."
   ]
  },
  {
   "cell_type": "code",
   "execution_count": null,
   "id": "8ef81620",
   "metadata": {},
   "outputs": [],
   "source": [
    "import calendar\n",
    "from datetime import *\n",
    "\n",
    "\n",
    "def get_all_thursdays(year): \n",
    "    l = []\n",
    "    for month in range(1, 13):\n",
    "        for day in range(15, 22):\n",
    "            now_date = date(year, month, day)\n",
    "            \n",
    "            if now_date.weekday() == 3:\n",
    "                l.append(now_date.strftime('%d.%m.%Y'))\n",
    "                break\n",
    "               \n",
    "    return l\n",
    "\n",
    "\n",
    "year = int(input())\n",
    "\n",
    "for third_thousday_month in get_all_hursdays(year):    \n",
    "    print(third_thousday_month)"
   ]
  },
  {
   "cell_type": "markdown",
   "id": "cb7b27df",
   "metadata": {},
   "source": [
    "11. Дана последовательность дат. Напишите программу, которая выводит количество дней между максимальной и минимальной датами данной последовательности. "
   ]
  },
  {
   "cell_type": "code",
   "execution_count": null,
   "id": "92fd0add",
   "metadata": {},
   "outputs": [],
   "source": [
    "import sys\n",
    "from datetime import *\n",
    "\n",
    "data = [datetime.strptime(i.strip(), '%Y-%m-%d') for i in sys.stdin.read().splitlines()]\n",
    "\n",
    "print((max(data) - min(data)).days)"
   ]
  },
  {
   "cell_type": "markdown",
   "id": "bdc43efb",
   "metadata": {},
   "source": [
    "12. Дана последовательность дат. Напишите программу, которая определяет, в каком порядке расположены даты в данной последовательности. Файлы ввода - вывода.\n",
    "\n",
    "Программа должны вывести текст: 1.ASC, если даты в введенной последовательности расположены строго в порядке возрастания 2.DESC, если даты в введенной последовательности расположены строго в порядке убывания 3.MIX, если даты в введенной последовательности расположены ни в порядке возрастания, ни в порядке убывания"
   ]
  },
  {
   "cell_type": "code",
   "execution_count": null,
   "id": "f3e6a213",
   "metadata": {},
   "outputs": [],
   "source": [
    "import sys\n",
    "from datetime import *\n",
    "\n",
    "inp = [line.strip() for line in sys.stdin]\n",
    "inp = [datetime.strptime(x, '%d.%m.%Y') for x in inp]\n",
    "    \n",
    "counter = 0\n",
    "line_compr = inp[0]\n",
    "\n",
    "for line in inp[1:]:\n",
    "    if line > line_compr:\n",
    "        counter += 1\n",
    "    line_compr = line\n",
    "\n",
    "if len(inp) != len(set(inp)):\n",
    "    print('MIX')   \n",
    "elif counter == 0:\n",
    "    print('DESC')\n",
    "elif counter == len(inp) - 1:\n",
    "    print('ASC')\n",
    "else:\n",
    "    print('MIX')"
   ]
  },
  {
   "cell_type": "markdown",
   "id": "7bb31a04",
   "metadata": {},
   "source": [
    "13. Дан список сотрудников организации, в котором указаны их фамилии, имена и даты рождения. Напишите программу, которая определяет самого молодого сотрудника, празднующего свой день рождения в течение ближайших семи дней от текущей даты."
   ]
  },
  {
   "cell_type": "code",
   "execution_count": null,
   "id": "942dc619",
   "metadata": {},
   "outputs": [],
   "source": [
    "from datetime import *\n",
    "from datetime import timedelta\n",
    "\n",
    "data_start = datetime.strptime(input(), '%d.%m.%Y')\n",
    "\n",
    "employee_cnt = int(input())\n",
    "employees = [input().split(' ') for _ in range(employee_cnt)]\n",
    "\n",
    "full_name_youngest = None\n",
    "birthday_youngest = datetime.strptime('1000-01-01',\"%Y-%m-%d\")\n",
    "\n",
    "for employee in employees:\n",
    "    full_name = employee[0] + ' ' +  employee[1]\n",
    "\n",
    "    dt_employee = datetime.strptime(employee[2], '%d.%m.%Y')\n",
    "    dt_calc = datetime(data_start.year, dt_employee.month, dt_employee.day)\n",
    "    \n",
    "    if 1 <= ((dt_calc - data_start).days + 365) % 365 <= 7:\n",
    "        if dt_employee > birthday_youngest:\n",
    "            full_name_youngest = full_name\n",
    "            birthday_youngest = dt_employee\n",
    "    \n",
    "if full_name_youngest:\n",
    "    print(full_name_youngest)\n",
    "else:\n",
    "    print('Дни рождения не планируются')"
   ]
  }
 ],
 "metadata": {
  "kernelspec": {
   "display_name": "Python 3 (ipykernel)",
   "language": "python",
   "name": "python3"
  },
  "language_info": {
   "codemirror_mode": {
    "name": "ipython",
    "version": 3
   },
   "file_extension": ".py",
   "mimetype": "text/x-python",
   "name": "python",
   "nbconvert_exporter": "python",
   "pygments_lexer": "ipython3",
   "version": "3.11.5"
  }
 },
 "nbformat": 4,
 "nbformat_minor": 5
}
