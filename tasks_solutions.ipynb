{
 "cells": [
  {
   "cell_type": "markdown",
   "id": "36416fba",
   "metadata": {},
   "source": [
    "Дано натуральное число. Напишите программу, которая вычисляет:\n",
    "\n",
    "**количество цифр** 3 в нем;\n",
    "сколько раз в нем встречается последняя цифра;\n",
    "количество четных цифр;\n",
    "сумму его цифр, больших пяти;\n",
    "произведение цифр, больших семи (если цифр больших семи нет, то вывести 1, если такая цифра одна, то вывести ее);\n",
    "сколько раз в нем встречается цифры 0 и 5 (всего суммарно)"
   ]
  },
  {
   "cell_type": "code",
   "execution_count": null,
   "id": "2c8b4327",
   "metadata": {},
   "outputs": [],
   "source": [
    "n = int(input())\n",
    "l = n % 10\n",
    "a = 0  # переменная для последней цифры\n",
    "three = 0 #количество цифр 3 в нем\n",
    "last = 0 #сколько раз в нем встречается последняя цифра\n",
    "chet = 0 #количество четных цифр\n",
    "sum_five = 0 #сумму его цифр, больших пяти\n",
    "proiv_seven = 1 #произведение цифр, больших семи (если цифр больших семи нет, то вывести 1, если такая цифра одна, то вывести ее)\n",
    "o_f = 0 #сколько раз в нем встречается цифры 0 и 5 (всего суммарно)\n",
    "\n",
    "while n > 0:         \n",
    "    a = n % 10  # находим и в переменную перезаписываем последнию цифру\n",
    "    n = n // 10      # убираем последнюю цифру\n",
    "    if a == 3:\n",
    "        three += 1\n",
    "    if a == l:\n",
    "        last += 1\n",
    "    if a % 2 == 0:\n",
    "        chet += 1\n",
    "    if a >5:\n",
    "        sum_five += a\n",
    "    if a > 7:\n",
    "        proiv_seven *= a\n",
    "    if a == 0 or a == 5:\n",
    "        o_f += 1\n",
    "print(three)\n",
    "print(last)\n",
    "print(chet)\n",
    "print(sum_five)\n",
    "print(proiv_seven)\n",
    "print(o_f)"
   ]
  },
  {
   "cell_type": "markdown",
   "id": "1d71dad7",
   "metadata": {},
   "source": [
    "На вход программе подается натуральное число n, затем n **строк**, затем число k — количество поисковых запросов, затем \n",
    "k строк — поисковые запросы. Напишите программу, которая выводит все введенные строки, в которых встречаются одновременно все поисковые запросы."
   ]
  },
  {
   "cell_type": "code",
   "execution_count": null,
   "id": "f9d695b2",
   "metadata": {},
   "outputs": [],
   "source": [
    "n = int(input())\n",
    "l1 = []\n",
    "for i in range(n):\n",
    "    s1 = input()\n",
    "    l1.append(s1)\n",
    "k = int(input())\n",
    "l2 = []\n",
    "for j in range(k):\n",
    "    s2 = input()\n",
    "    l2.append(s2)\n",
    "\n",
    "for i in range(len(l1)):\n",
    "    count=0\n",
    "    for j in range(len(l2)):\n",
    "        if l2[j].lower() in l1[i].lower():\n",
    "            count += 1\n",
    "    if count == len(l2):\n",
    "        print(l1[i])"
   ]
  },
  {
   "cell_type": "markdown",
   "id": "b1dc7584",
   "metadata": {},
   "source": [
    "Во время решения очередной задачи программист фиксирует время начала и окончания ее решения и добавляет полученные результаты в список data. Каждый результат представляет собой кортеж, первым элементом которого является время начала решения в виде строки в формате HH:MM, вторым элементом — время окончания решения в виде строки в том же формате. Дополните приведенный ниже код, чтобы он вывел общее **целое количество минут**, которое программист затратил на решение всех задач. "
   ]
  },
  {
   "cell_type": "code",
   "execution_count": 31,
   "id": "786fc4a4",
   "metadata": {},
   "outputs": [
    {
     "name": "stdout",
     "output_type": "stream",
     "text": [
      "545\n"
     ]
    }
   ],
   "source": [
    "from datetime import date, time, datetime, timedelta\n",
    "\n",
    "data = [('07:14', '08:46'),\n",
    "        ('09:01', '09:37'),\n",
    "        ('10:00', '11:43'),\n",
    "        ('12:13', '13:49'),\n",
    "        ('15:00', '15:19'),\n",
    "        ('15:58', '17:24'),\n",
    "        ('17:57', '19:21'),\n",
    "        ('19:30', '19:59')]\n",
    "                 \n",
    "minutes_diff = list(map(lambda x: datetime.strptime(x[1], '%H:%M') - datetime.strptime(x[0], '%H:%M'), data))\n",
    "\n",
    "print(int(sum([x.seconds / 60 for x in minutes_diff])))"
   ]
  },
  {
   "cell_type": "markdown",
   "id": "0f8571b8",
   "metadata": {},
   "source": [
    "Докажите, что 13-е число месяца чаще всего приходится на пятницу. Напишите программу, которая вычисляет, **сколько тринадцатых чисел приходится на каждый день недели в период** с 01.01.0001 по 31.12.9999."
   ]
  },
  {
   "cell_type": "code",
   "execution_count": 38,
   "id": "7e7a231b",
   "metadata": {},
   "outputs": [
    {
     "name": "stdout",
     "output_type": "stream",
     "text": [
      "17123\n",
      "17124\n",
      "17173\n",
      "17097\n",
      "17199\n",
      "17099\n",
      "17173\n"
     ]
    }
   ],
   "source": [
    "from collections import Counter\n",
    "from datetime import date\n",
    "\n",
    "weekdays_13th = []\n",
    "\n",
    "for year in range(1, 10000):\n",
    "    for month in range(1, 13):\n",
    "        weekdays_13th.append(date(year, month, 13).weekday())\n",
    "\n",
    "stat_weekdays = Counter(weekdays_13th)\n",
    "\n",
    "for i in range(7):\n",
    "    print(stat_weekdays[i])"
   ]
  },
  {
   "cell_type": "markdown",
   "id": "87988782",
   "metadata": {},
   "source": [
    "Дан режим работы магазина.Напишите программу, которая принимает на вход текущие дату и время и **определяет количество минут, оставшееся до закрытия магазина**.Программа должна вывести количество минут, которое осталось до закрытия магазина, или текст Магазин не работает, если он закрыт."
   ]
  },
  {
   "cell_type": "code",
   "execution_count": 17,
   "id": "d53bffa1",
   "metadata": {
    "scrolled": true
   },
   "outputs": [
    {
     "name": "stdout",
     "output_type": "stream",
     "text": [
      "11.02.2013 11:30\n"
     ]
    }
   ],
   "source": [
    "from datetime import date, time, datetime, timedelta\n",
    "\n",
    "data = datetime.strptime(input(), '%d.%m.%Y %H:%M')\n",
    "\n",
    "# будни\n",
    "if data.weekday() < 5:\n",
    "    if 9 <= data.hour < 21:\n",
    "        print((21 - data.hour) * 60 - data.minute)\n",
    "    else:\n",
    "        print('Магазин не работает')\n",
    "\n",
    "# выходные\n",
    "else:\n",
    "    if 10 <= data.hour < 18:\n",
    "        print((18 - data.hour) * 60 - data.minute)\n",
    "    else:\n",
    "        print('Магазин не работает')"
   ]
  },
  {
   "cell_type": "markdown",
   "id": "09a71681",
   "metadata": {},
   "source": [
    "Даны две даты — левая и правая границы диапазона соответственно. Напишите программу, которая **из этого диапазона, включая границы, выводит, начиная с даты, у которой сумма дня и месяца нечетная, каждую третью дату, только если она не понедельник и не четверг**.\n"
   ]
  },
  {
   "cell_type": "code",
   "execution_count": 42,
   "id": "8452cbe8",
   "metadata": {},
   "outputs": [],
   "source": [
    "from datetime import date, time, datetime, timedelta\n",
    "\n",
    "start_date = datetime.strptime(input(), '%d.%m.%Y')\n",
    "end_date = datetime.strptime(input(),'%d.%m.%Y')\n",
    "\n",
    "\n",
    "while (start_date.day + start_date.month) % 2 == 0:\n",
    "    start_date += timedelta(days=1)\n",
    "    \n",
    "while start_date <= end_date:\n",
    "        if start_date.weekday() not in (0, 3):\n",
    "            for_print = datetime.strftime(start_date, '%d.%m.%Y')\n",
    "            print(for_print)\n",
    "        start_date += timedelta(days=3)"
   ]
  },
  {
   "cell_type": "markdown",
   "id": "bf477e20",
   "metadata": {},
   "source": [
    "Реализуйте функцию get_the_fastest_func(), которая принимает два аргумента в следующем порядке:\n",
    "1.funcs — список произвольных функций\n",
    "2.arg — произвольный объект\n",
    "\n",
    "Функция get_the_fastest_func() должна возвращать функцию из списка funcs, которая **затратила на вычисление значения** при вызове с аргументом arg **наименьшее количество времени**.\n",
    "\n",
    "В тестирующую систему сдайте программу, содержащую только необходимую функцию get_the_fastest_func(), но не код, вызывающий ее."
   ]
  },
  {
   "cell_type": "code",
   "execution_count": 3,
   "id": "76914bf0",
   "metadata": {},
   "outputs": [],
   "source": [
    "import time\n",
    "\n",
    "def calculate_it(func, args):\n",
    "    start_time = time.perf_counter()\n",
    "    func1 = func(args)\n",
    "    end_time = time.perf_counter()\n",
    "    elapsed_time = end_time - start_time\n",
    "    return (elapsed_time)\n",
    "    \n",
    "def get_the_fastest_func(funcs, arg):\n",
    "    l = []\n",
    "    for i in range(len(funcs)):\n",
    "        t = calculate_it(funcs[i], arg)\n",
    "        l.append(t)\n",
    "    min_value = min(l)\n",
    "    min_index = l.index(min_value)\n",
    "    return funcs[min_index]\n",
    "\n"
   ]
  },
  {
   "cell_type": "markdown",
   "id": "3e5b7204",
   "metadata": {},
   "source": [
    "Напишите программу, которая **выводит календарь на заданные год и месяц**."
   ]
  },
  {
   "cell_type": "code",
   "execution_count": 6,
   "id": "44049676",
   "metadata": {},
   "outputs": [
    {
     "name": "stdout",
     "output_type": "stream",
     "text": [
      "2011 Aug\n"
     ]
    }
   ],
   "source": [
    "import calendar\n",
    "from datetime import datetime, date\n",
    "\n",
    "s = input()\n",
    "s = datetime.strptime(s, '%Y %b')\n",
    "\n",
    "calendar.prmonth(s.year,s.month)\n"
   ]
  },
  {
   "cell_type": "markdown",
   "id": "0fdc1d63",
   "metadata": {},
   "source": [
    "Напишите программу, которая определяет **количество дней** в заданном месяце.\n"
   ]
  },
  {
   "cell_type": "code",
   "execution_count": 16,
   "id": "98ffc972",
   "metadata": {},
   "outputs": [
    {
     "name": "stdout",
     "output_type": "stream",
     "text": [
      "    August 2011\n",
      "Mo Tu We Th Fr Sa Su\n",
      " 1  2  3  4  5  6  7\n",
      " 8  9 10 11 12 13 14\n",
      "15 16 17 18 19 20 21\n",
      "22 23 24 25 26 27 28\n",
      "29 30 31\n"
     ]
    }
   ],
   "source": [
    "import calendar\n",
    "from datetime import * \n",
    "\n",
    "s = input()\n",
    "s = datetime.strptime(s, '%Y %m')\n",
    "\n",
    "year = s.year\n",
    "month = s.month\n",
    "\n",
    "print(calendar.monthrange(year, month)[1]) "
   ]
  },
  {
   "cell_type": "markdown",
   "id": "9a2c5d6b",
   "metadata": {},
   "source": [
    "Реализуйте **функцию** get_days_in_month(), которая принимает два аргумента в следующем порядке:\n",
    "year — натуральное число\n",
    "month — полное название месяца на английском.\n",
    "\n",
    "Функция должна возвращать **отсортированный по возрастанию список всех дат** (тип date) месяца month и года year."
   ]
  },
  {
   "cell_type": "code",
   "execution_count": 13,
   "id": "468b3e29",
   "metadata": {
    "scrolled": true
   },
   "outputs": [
    {
     "data": {
      "text/plain": [
       "11"
      ]
     },
     "execution_count": 13,
     "metadata": {},
     "output_type": "execute_result"
    }
   ],
   "source": [
    "import calendar\n",
    "from datetime import *\n",
    "\n",
    "MonthNums = {'January': 1, 'February': 2, 'March': 3, 'April': 4, 'May': 5, 'June': 6, 'July': 7, 'August': 8, 'September': 9, 'October': 10, 'November': 11, 'December': 12}\n",
    "\n",
    "def get_days_in_month(year, month):   \n",
    "    month_num = MonthNums.get(month)\n",
    "    \n",
    "    l = []\n",
    "        \n",
    "    for day in range(1, calendar.monthrange(year, month_num)[1]+1):\n",
    "        our_date = date(year, month_num, day)\n",
    "        \n",
    "        l.append(our_date)\n",
    "        \n",
    "        \n",
    "    return(sorted(l))"
   ]
  },
  {
   "cell_type": "markdown",
   "id": "bbda30fc",
   "metadata": {},
   "source": [
    "Реализуйте **функцию** get_all_mondays(), которая принимает один аргумент: year — натуральное число.\n",
    "\n",
    "Функция должна возвращать **отсортированный по возрастанию список всех дат** (тип date) года year, **выпадающих на понедельник**."
   ]
  },
  {
   "cell_type": "code",
   "execution_count": 21,
   "id": "6d17d5d5",
   "metadata": {
    "scrolled": true
   },
   "outputs": [
    {
     "name": "stdout",
     "output_type": "stream",
     "text": [
      "[datetime.date(2012, 11, 1), datetime.date(2012, 11, 2), datetime.date(2012, 11, 3), datetime.date(2012, 11, 4), datetime.date(2012, 11, 5), datetime.date(2012, 11, 6), datetime.date(2012, 11, 7), datetime.date(2012, 11, 8), datetime.date(2012, 11, 9), datetime.date(2012, 11, 10), datetime.date(2012, 11, 11), datetime.date(2012, 11, 12), datetime.date(2012, 11, 13), datetime.date(2012, 11, 14), datetime.date(2012, 11, 15), datetime.date(2012, 11, 16), datetime.date(2012, 11, 17), datetime.date(2012, 11, 18), datetime.date(2012, 11, 19), datetime.date(2012, 11, 20), datetime.date(2012, 11, 21), datetime.date(2012, 11, 22), datetime.date(2012, 11, 23), datetime.date(2012, 11, 24), datetime.date(2012, 11, 25), datetime.date(2012, 11, 26), datetime.date(2012, 11, 27), datetime.date(2012, 11, 28), datetime.date(2012, 11, 29), datetime.date(2012, 11, 30)]\n"
     ]
    }
   ],
   "source": [
    "import calendar\n",
    "from datetime import *\n",
    "\n",
    "def get_all_mondays(year):   \n",
    "        \n",
    "    l = []\n",
    "        \n",
    "    for month in range(1, 13):\n",
    "        \n",
    "        for day in range(1, calendar.monthrange(year, month)[1]+1):\n",
    "            now_date = date(year, month, day)\n",
    "            \n",
    "            if now_date.weekday() == 0:\n",
    "                l.append(now_date)\n",
    "               \n",
    "    return(sorted(l))"
   ]
  },
  {
   "cell_type": "markdown",
   "id": "a6fdb87b",
   "metadata": {},
   "source": [
    "Во многих музеях существует один день месяца, когда посещение музея для всех лиц или отдельных категорий граждан происходит без взимания платы. Например, в Эрмитаже это третий четверг месяца.\n",
    "\n",
    "Напишите программу, которая **определяет даты** бесплатных дней посещения Эрмитажа **в заданном году**."
   ]
  },
  {
   "cell_type": "code",
   "execution_count": null,
   "id": "bf3e5faf",
   "metadata": {},
   "outputs": [],
   "source": [
    "import calendar\n",
    "from datetime import *\n",
    "\n",
    "\n",
    "def get_all_thursdays(year): \n",
    "    l = []\n",
    "    for month in range(1, 13):\n",
    "        for day in range(15, 22):\n",
    "            now_date = date(year, month, day)\n",
    "            \n",
    "            if now_date.weekday() == 3:\n",
    "                l.append(now_date.strftime('%d.%m.%Y'))\n",
    "                break\n",
    "               \n",
    "    return l\n",
    "\n",
    "\n",
    "year = int(input())\n",
    "\n",
    "for third_thousday_month in get_all_hursdays(year):    \n",
    "    print(third_thousday_month)"
   ]
  },
  {
   "cell_type": "markdown",
   "id": "eac971b4",
   "metadata": {},
   "source": [
    "Напишите программу, которая принимает произвольное количество строк и в каждой введенной строке располагает все символы в обратном порядке. **Файлы ввода - вывода**."
   ]
  },
  {
   "cell_type": "code",
   "execution_count": 28,
   "id": "5f252956",
   "metadata": {},
   "outputs": [
    {
     "name": "stdout",
     "output_type": "stream",
     "text": [
      "]["
     ]
    },
    {
     "data": {
      "text/plain": [
       "2"
      ]
     },
     "execution_count": 28,
     "metadata": {},
     "output_type": "execute_result"
    }
   ],
   "source": [
    "import sys\n",
    "\n",
    "for line in sys.stdin:\n",
    "    print(line.strip('\\n')[::-1])"
   ]
  },
  {
   "cell_type": "markdown",
   "id": "e51cfe54",
   "metadata": {},
   "source": [
    "Дана последовательность дат. Напишите программу, которая выводит количество дней между максимальной и минимальной датами данной последовательности. **Файлы ввода - вывода**."
   ]
  },
  {
   "cell_type": "code",
   "execution_count": null,
   "id": "f91339a9",
   "metadata": {},
   "outputs": [],
   "source": [
    "import sys\n",
    "from datetime import *\n",
    "\n",
    "data = [datetime.strptime(i.strip(), '%Y-%m-%d') for i in sys.stdin.read().splitlines()]\n",
    "\n",
    "print((max(data) - min(data)).days)"
   ]
  },
  {
   "cell_type": "markdown",
   "id": "85f4448b",
   "metadata": {},
   "source": [
    "Анри и Дима, имея на руках ящик с бесконечным количеством носков, решили сыграть в игру. Ребята по очереди достают из ящика произвольное количество носков, и после неопределенного числа ходов игра заканчивается. Если тот, кто сделал последний ход, вытащил четное количество носков — он побеждает, в противном случае проигрывает.\n",
    "\n",
    "Напишите программу, которая определяет победителя в данной игре, если первый ход делает Анри.\n",
    "\n",
    "**Файлы ввода - вывода**"
   ]
  },
  {
   "cell_type": "code",
   "execution_count": null,
   "id": "32f1bdd1",
   "metadata": {},
   "outputs": [],
   "source": [
    "import sys\n",
    "\n",
    "names = ['Анри', 'Дима']\n",
    "count = 1\n",
    "number = 0 \n",
    "\n",
    "for line in sys.stdin:\n",
    "    number = line\n",
    "    count += 1\n",
    "\n",
    "if int(number) % 2 == 0:\n",
    "    print(names[count % 2])\n",
    "else:\n",
    "    print(names[(count - 1) % 2])"
   ]
  },
  {
   "cell_type": "markdown",
   "id": "387304b7",
   "metadata": {},
   "source": [
    "Дана последовательность дат. Напишите программу, которая **определяет, в каком порядке расположены даты** в данной последовательности. **Файлы ввода - вывода**.\n",
    "\n",
    "Программа должны вывести текст:\n",
    "1.ASC, если даты в введенной последовательности расположены строго в порядке возрастания\n",
    "2.DESC, если даты в введенной последовательности расположены строго в порядке убывания\n",
    "3.MIX, если даты в введенной последовательности расположены ни в порядке возрастания, ни в порядке убывания"
   ]
  },
  {
   "cell_type": "code",
   "execution_count": null,
   "id": "46e9e297",
   "metadata": {},
   "outputs": [],
   "source": [
    "import sys\n",
    "from datetime import *\n",
    "\n",
    "inp = [line.strip() for line in sys.stdin]\n",
    "inp = [datetime.strptime(x, '%d.%m.%Y') for x in inp]\n",
    "    \n",
    "counter = 0\n",
    "line_compr = inp[0]\n",
    "\n",
    "for line in inp[1:]:\n",
    "    if line > line_compr:\n",
    "        counter += 1\n",
    "    line_compr = line\n",
    "\n",
    "if len(inp) != len(set(inp)):\n",
    "    print('MIX')   \n",
    "elif counter == 0:\n",
    "    print('DESC')\n",
    "elif counter == len(inp) - 1:\n",
    "    print('ASC')\n",
    "else:\n",
    "    print('MIX')"
   ]
  },
  {
   "cell_type": "markdown",
   "id": "3dea95cb",
   "metadata": {},
   "source": [
    "**Файлы ввода - вывода**. Дана последовательность целых чисел. Напишите программу, которая **определяет, является ли данная последовательность прогрессией**, и если да, то **определяет её вид**."
   ]
  },
  {
   "cell_type": "code",
   "execution_count": null,
   "id": "fa934cfe",
   "metadata": {},
   "outputs": [],
   "source": [
    "import sys\n",
    "inp = [line.strip() for line in sys.stdin]\n",
    "\n",
    "difference =[]\n",
    "quotient  =[]\n",
    "\n",
    "for number in range(len(inp) - 1):\n",
    "    difference.append(int(inp[number + 1]) - int(inp[number]))\n",
    "    quotient.append(int(inp[number + 1]) / int(inp[number]))                  \n",
    "                      \n",
    "if len(set(difference)) == 1:\n",
    "    print('Арифметическая прогрессия')\n",
    "elif len(set(quotient)) == 1:\n",
    "    print('Геометрическая прогрессия')\n",
    "else:\n",
    "    print('Не прогрессия')"
   ]
  },
  {
   "cell_type": "markdown",
   "id": "c6b893a9",
   "metadata": {},
   "source": [
    "Напишите программу, которая **упорядочивает** компании **по возрастанию средней зарплаты** ее сотрудников и выводит их названия, каждое на отдельной строке. Если две компании имеют одинаковые средние зарплаты, они должны быть расположены **в лексикографическом порядке** их названий. **чтение файла**"
   ]
  },
  {
   "cell_type": "code",
   "execution_count": 29,
   "id": "7415a083",
   "metadata": {},
   "outputs": [
    {
     "name": "stdout",
     "output_type": "stream",
     "text": [
      "Информзащита\n",
      "Форс\n",
      "OFT group\n",
      "Oracle\n",
      "Atos\n",
      "Микрон\n",
      "Гринатом\n",
      "ХайТэк\n",
      "Сател\n",
      "Лига Цифровой Экономики\n",
      "TerraLink\n",
      "АйТеко\n",
      "Itransition\n",
      "Эвотор\n",
      "Angara\n",
      "OCS Distribution\n",
      "Hikvision\n",
      "Тринити\n",
      "iCore\n",
      "Ростелеком\n",
      "Сигма\n",
      "Аквариус\n",
      "Philax\n",
      "Softline\n",
      "IBS\n",
      "Инфосистемы Джет\n",
      "Ситроникс\n",
      "ИнфоТеКС\n",
      "Инлайн Груп\n",
      "Элтекс\n"
     ]
    }
   ],
   "source": [
    "\n",
    "with open('salary_data.csv', encoding='utf-8') as file:\n",
    "    data = file.read()\n",
    "    \n",
    "    table = [r.split(';') for r in data.splitlines()]\n",
    "    del table[0]\n",
    "    \n",
    "    sal_sum = {}\n",
    "    sal_count = {}\n",
    "    \n",
    "    for name, salary in table:\n",
    "        if name not in sal_sum:\n",
    "            sal_sum.setdefault(name, 0)\n",
    "            sal_count.setdefault(name, 0)\n",
    "        \n",
    "        sal_sum[name] += int(salary)\n",
    "        sal_count[name] += 1\n",
    "        \n",
    "    sal_mean = []\n",
    "    for name, sum_salary in sal_sum.items():\n",
    "        cnt_employees = sal_count[name]\n",
    "        \n",
    "        sal_mean.append([name, sum_salary / cnt_employe es])\n",
    "        \n",
    "    sal_mean = sorted(sal_mean, key=lambda x: (x[1], x[0]))\n",
    "    \n",
    "    for name, _ in sal_mean:\n",
    "        print(name)"
   ]
  },
  {
   "cell_type": "markdown",
   "id": "f00bbcf8",
   "metadata": {},
   "source": [
    "**csv**. Напишите программу, которая **сортирует содержимое данного файла по указанному столбцу**. Причем данные должны быть отсортированы в порядке возрастания чисел, если столбец содержит числа, и в лексикографическом порядке слов, если столбец содержит слова."
   ]
  },
  {
   "cell_type": "code",
   "execution_count": 24,
   "id": "65cf8731",
   "metadata": {},
   "outputs": [
    {
     "name": "stdout",
     "output_type": "stream",
     "text": [
      "1\n",
      "Greetings,1968,86\n",
      "Bloody Mama,1970,17\n",
      "Born to Win,1971,40\n",
      "Bang the Drum Slowly,1973,88\n",
      "Mean Streets,1973,98\n",
      "Taxi Driver,1976,99\n",
      "The Last Tycoon,1976,41\n",
      "New York,1977,67\n",
      "The Deer Hunter,1978,93\n",
      "Raging Bull,1980,97\n",
      "True Confessions,1981,75\n",
      "The King of Comedy,1983,90\n",
      "Falling in Love,1984,60\n",
      "Once Upon a Time in America,1984,89\n",
      "Brazil,1985,98\n",
      "The Mission,1986,65\n",
      "The Untouchables,1987,80\n",
      "Angel Heart,1987,78\n",
      "Dear America: Letters Home From Vietnam,1987,100\n",
      "Midnight Run,1988,96\n",
      "We're No Angels,1989,47\n",
      "Jacknife,1989,64\n",
      "Goodfellas,1990,96\n",
      "Awakenings,1990,88\n",
      "Stanley & Iris,1990,29\n",
      "Backdraft,1991,71\n",
      "Cape Fear,1991,76\n",
      "Mistress,1991,69\n",
      "Guilty by Suspicion,1991,65\n",
      "Night and the City,1992,67\n",
      "Thunderheart,1992,87\n",
      "This Boy's Life,1993,75\n",
      "Mad Dog and Glory,1993,78\n",
      "A Bronx Tale,1993,96\n",
      "Mary Shelley's Frankenstein,1994,39\n",
      "Heat,1995,86\n",
      "Casino,1995,80\n",
      "Marvin's Room,1996,80\n",
      "Sleepers,1996,74\n",
      "The Fan,1996,38\n",
      "Jackie Brown,1997,87\n",
      "Wag the Dog,1997,85\n",
      "Cop Land,1997,72\n",
      "Ronin,1998,68\n",
      "Great Expectations,1998,38\n",
      "Analyze This,1999,69\n",
      "Flawless,1999,43\n",
      "Meet the Parents,2000,84\n",
      "The Adventures of Rocky & Bullwinkle,2000,43\n",
      "Men of Honor,2000,41\n",
      "The Score,2001,73\n",
      "15 Minutes,2001,33\n",
      "Analyze That,2002,27\n",
      "City by the Sea,2002,48\n",
      "Godsend,2003,4\n",
      "Shark Tale,2004,35\n",
      "Meet the Fockers,2004,38\n",
      "Hide and Seek,2005,13\n",
      "Rent,2005,46\n",
      "The Bridge of San Luis Rey,2005,4\n",
      "The Good Shepherd,2006,54\n",
      "Captain Shakespeare,2007,76\n",
      "Arthur and the Invisibles,2007,21\n",
      "Righteous Kill,2008,19\n",
      "What Just Happened?,2008,51\n",
      "Everybody's Fine,2009,46\n",
      "Machete,2010,72\n",
      "Stone,2010,50\n",
      "Little Fockers,2010,10\n",
      "Limitless,2011,70\n",
      "Killer Elite,2011,25\n",
      "New Year's Eve,2011,7\n",
      "Silver Linings Playbook,2012,92\n",
      "Being Flynn,2012,51\n",
      "Red Lights,2012,29\n",
      "The Big Wedding,2013,7\n",
      "Last Vegas,2013,46\n",
      "Killing Season,2013,11\n",
      "Grudge Match,2013,29\n",
      "The Bag Man,2014,9\n",
      "The Intern,2015,61\n",
      "Joy,2015,60\n",
      "Heist,2015,26\n",
      "Dirty Grandpa,2016,11\n"
     ]
    }
   ],
   "source": [
    "import csv\n",
    "\n",
    "with open('deniro.csv', encoding='utf-8') as file:\n",
    "    rows = list(csv.reader(file))                               # создаем reader объект\n",
    "    \n",
    "    sorting_col = int(input()) - 1\n",
    "       \n",
    "    rows = sorted(rows, key=lambda x: int(x[sorting_col]) if x[sorting_col].isdigit() else x[sorting_col])\n",
    "    \n",
    "    for row in rows:\n",
    "        print(*row,sep=',')"
   ]
  },
  {
   "cell_type": "markdown",
   "id": "4d6c2014",
   "metadata": {},
   "source": [
    "**csv**. **Реализуйте функцию** csv_columns(), которая принимает один аргумент: filename — название csv файла. Функция должна **возвращать словарь**, в котором ключом является название столбца файла filename, а значением — список элементов этого столбца."
   ]
  },
  {
   "cell_type": "code",
   "execution_count": null,
   "id": "742c6273",
   "metadata": {},
   "outputs": [],
   "source": [
    "def csv_columns(filename):\n",
    "    import csv\n",
    "    dict = {}\n",
    "    \n",
    "    with open(filename, encoding='utf-8') as file:\n",
    "        rows = csv.DictReader(file, delimiter=',')\n",
    "        for row in rows:\n",
    "            for key in list(row.keys()):\n",
    "                dict[key] = dict.get(key, []) + [row[key]]\n",
    "    \n",
    "    return dict"
   ]
  },
  {
   "cell_type": "markdown",
   "id": "bdabeb83",
   "metadata": {},
   "source": [
    "Напишите программу, которая **создает файл** domain_usage.csv, где в первом столбце записано название почтового домена, а во втором — количество пользователей, использующих данный домен. Домены в файле должны быть **расположены в порядке возрастания количества их использований**, при совпадении количества использований — **в лексикографическом порядке**."
   ]
  },
  {
   "cell_type": "code",
   "execution_count": 1,
   "id": "0b2cb8f0",
   "metadata": {},
   "outputs": [
    {
     "ename": "SyntaxError",
     "evalue": "unexpected EOF while parsing (2480213008.py, line 22)",
     "output_type": "error",
     "traceback": [
      "\u001b[1;36m  File \u001b[1;32m\"C:\\Users\\acher\\AppData\\Local\\Temp\\ipykernel_6208\\2480213008.py\"\u001b[1;36m, line \u001b[1;32m22\u001b[0m\n\u001b[1;33m    \u001b[0m\n\u001b[1;37m    ^\u001b[0m\n\u001b[1;31mSyntaxError\u001b[0m\u001b[1;31m:\u001b[0m unexpected EOF while parsing\n"
     ]
    }
   ],
   "source": [
    "import csv\n",
    "\n",
    "with open('data.csv', encoding='utf-8') as file:\n",
    "    data = file.read()\n",
    "    \n",
    "    rows = [r.split('@') for r in data.splitlines()]\n",
    "    del rows[0]\n",
    "    \n",
    "    \n",
    "    domain_count = {}\n",
    "    \n",
    "    for name, domain in rows:\n",
    "        if domain not in domain_count:\n",
    "            domain_count.setdefault(domain, 0)\n",
    "        \n",
    "        domain_count[domain] += 1\n",
    "        \n",
    "    sorted_domain = sorted(domain_count.items(), key=lambda x: (x[1], x[0]))\n",
    "    \n",
    "    columns = ['domain', 'count']\n",
    "    \n",
    "    with open('domain_usage.csv', 'w', encoding='utf-8', newline='') as file:\n",
    "        writer = csv.writer(file)\n",
    "        writer.writerow(columns)                 # запись заголовков\n",
    "        for row in sorted_domain:                         # запись строк\n",
    "            writer.writerow(row)\n",
    "        \n",
    "        \n",
    "       \n",
    "        \n",
    "    "
   ]
  },
  {
   "cell_type": "markdown",
   "id": "37b4c477",
   "metadata": {},
   "source": [
    "Напишите программу, которая **принимает на вход** описание одного объекта **в формате JSON** и **выводит все пары ключ-значение** этого объекта."
   ]
  },
  {
   "cell_type": "code",
   "execution_count": 10,
   "id": "c66a95af",
   "metadata": {},
   "outputs": [
    {
     "data": {
      "text/plain": [
       "{'name': 'FC Barcelona',\n",
       " 'country': 'Spain',\n",
       " 'founded': 1899,\n",
       " 'trainer': 'Xavier Creus',\n",
       " 'goalkeeper': 'M. Ter Stegen',\n",
       " 'league_position': 7}"
      ]
     },
     "execution_count": 10,
     "metadata": {},
     "output_type": "execute_result"
    }
   ],
   "source": [
    "import sys\n",
    "import json\n",
    "\n",
    "py_str = json.loads(sys.stdin.read())\n",
    "\n",
    "for key,value in py_str.items():\n",
    "    if type(value) is not list:\n",
    "        print(f'{key}: {value}')\n",
    "    else:\n",
    "        value = \", \".join(map(str,value))\n",
    "        print(f'{key}: {value}')"
   ]
  },
  {
   "cell_type": "markdown",
   "id": "32d479fc",
   "metadata": {},
   "source": [
    "Вам доступен архив workbook.**zip**, содержащий различные папки и файлы. Напишите программу, которая выводит единственное число — **количество файлов в этом архиве**."
   ]
  },
  {
   "cell_type": "code",
   "execution_count": null,
   "id": "f6d7f1db",
   "metadata": {},
   "outputs": [],
   "source": [
    "from zipfile import ZipFile\n",
    "\n",
    "with ZipFile('workbook.zip') as zip_file:\n",
    "    info = zip_file.namelist()\n",
    "    counter = 0\n",
    "    for i in info:\n",
    "        if not i.endswith('/'):\n",
    "            counter += 1\n",
    "    print(counter)"
   ]
  },
  {
   "cell_type": "markdown",
   "id": "add8a94b",
   "metadata": {},
   "source": [
    "Вам доступны два файла data1.json и data2.json, каждый из которых содержит по единственному **JSON**-объекту. Напишите программу, которая **объединяет два данных JSON-объекта в один JSON-объект**, причем если пары из первого и второго объектов имеют совпадающие ключи, то значение следует взять из второго объекта. Полученный JSON-объект программа должна **записать в файл** data_merge.json."
   ]
  },
  {
   "cell_type": "code",
   "execution_count": null,
   "id": "b7e85b88",
   "metadata": {},
   "outputs": [],
   "source": [
    "import json\n",
    "\n",
    "with open('data1.json', 'r', encoding='utf-8') as file1:\n",
    "    data1 = json.load(file1)                # передаем файловый объект\n",
    "    \n",
    "    with open('data2.json', 'r', encoding='utf-8') as file2:\n",
    "        data2 = json.load(file2)\n",
    "        \n",
    "        data_total = {**data1, **data2}\n",
    "        \n",
    "        data_total = dict(data_total)\n",
    "        \n",
    "        with open('data_merge.json', 'w') as file3:\n",
    "            json.dump(data_total, file3, indent=3)"
   ]
  },
  {
   "cell_type": "markdown",
   "id": "6b9ae6bb",
   "metadata": {},
   "source": [
    "Дан **pickle файл**, содержащий единственную сериализованную функцию. Напишите программу, которая вызывает данную функцию с заданными аргументами и выводит возвращаемое значение функции."
   ]
  },
  {
   "cell_type": "code",
   "execution_count": null,
   "id": "34390de8",
   "metadata": {},
   "outputs": [],
   "source": [
    "import sys\n",
    "\n",
    "with open(input(), 'rb') as file: \n",
    "    func = pickle.load(file)\n",
    "    print(func(*list(map(str.strip, sys.stdin))))"
   ]
  },
  {
   "cell_type": "markdown",
   "id": "95e9fdb9",
   "metadata": {},
   "source": [
    "**Реализуйте функцию** filter_dump(), которая принимает три аргумента в следующем порядке:\n",
    "filename — название pickle файла, например, data.pkl\n",
    "objects — список произвольных объектов\n",
    "typename — тип данных.\n",
    "\n",
    "Функция должна **создавать pickle файл** с названием filename, который содержит сериализованный список только тех объектов из списка objects, тип которых равен typename.\n",
    "        \n",
    "    \n",
    "        \n",
    "\n",
    "    \n",
    " "
   ]
  },
  {
   "cell_type": "code",
   "execution_count": 21,
   "id": "1b386d37",
   "metadata": {},
   "outputs": [
    {
     "name": "stdout",
     "output_type": "stream",
     "text": [
      "[['survived;name;sex;age'], ['0;Mr', ' Owen Harris Braund;male;22'], ['1;Mrs', ' John Bradley (Florence Briggs Thayer) Cumings;female;38'], ['1;Miss', ' Laina Heikkinen;female;26'], ['1;Mrs', ' Jacques Heath (Lily May Peel) Futrelle;female;35'], ['0;Mr', ' William Henry Allen;male;35'], ['0;Mr', ' James Moran;male;27'], ['0;Mr', ' Timothy J McCarthy;male;54'], ['0;Master', ' Gosta Leonard Palsson;male;2'], ['1;Mrs', ' Oscar W (Elisabeth Vilhelmina Berg) Johnson;female;27'], ['1;Mrs', ' Nicholas (Adele Achem) Nasser;female;14'], ['1;Miss', ' Marguerite Rut Sandstrom;female;4'], ['1;Miss', ' Elizabeth Bonnell;female;58'], ['0;Mr', ' William Henry Saundercock;male;20'], ['0;Mr', ' Anders Johan Andersson;male;39'], ['0;Miss', ' Hulda Amanda Adolfina Vestrom;female;14'], ['1;Mrs', ' (Mary D Kingcome) Hewlett;female;55'], ['0;Master', ' Eugene Rice;male;2'], ['1;Mr', ' Charles Eugene Williams;male;23'], ['0;Mrs', ' Julius (Emelia Maria Vandemoortele) Vander Planke;female;31'], ['1;Mrs', ' Fatima Masselmani;female;22'], ['0;Mr', ' Joseph J Fynney;male;35'], ['1;Mr', ' Lawrence Beesley;male;34'], ['1;Miss', ' Anna McGowan;female;15'], ['1;Mr', ' William Thompson Sloper;male;28'], ['0;Miss', ' Torborg Danira Palsson;female;8'], ['1;Mrs', ' Carl Oscar (Selma Augusta Emilia Johansson) Asplund;female;38'], ['0;Mr', ' Farred Chehab Emir;male;26'], ['0;Mr', ' Charles Alexander Fortune;male;19'], ['1;Miss', \" Ellen O'Dwyer;female;24\"], ['0;Mr', ' Lalio Todoroff;male;23'], ['0;Don', ' Manuel E Uruchurtu;male;40'], ['1;Mrs', ' William Augustus (Marie Eugenie) Spencer;female;48'], ['1;Miss', ' Mary Agatha Glynn;female;18'], ['0;Mr', ' Edward H Wheadon;male;66'], ['0;Mr', ' Edgar Joseph Meyer;male;28'], ['0;Mr', ' Alexander Oskar Holverson;male;42'], ['1;Mr', ' Hanna Mamee;male;18'], ['0;Mr', ' Ernest Charles Cann;male;21'], ['0;Miss', ' Augusta Maria Vander Planke;female;18'], ['1;Miss', ' Jamila Nicola-Yarred;female;14'], ['0;Mrs', ' Johan (Johanna Persdotter Larsson) Ahlin;female;40'], ['0;Mrs', ' William John Robert (Dorothy Ann Wonnacott) Turpin;female;27'], ['1;Miss', ' Simonne Marie Anne Andree Laroche;female;3'], ['1;Miss', ' Margaret Delia Devaney;female;19'], ['0;Mr', ' William John Rogers;male;30'], ['0;Mr', ' Denis Lennon;male;20'], ['1;Miss', \" Bridget O'Driscoll;female;27\"], ['0;Mr', ' Youssef Samaan;male;16'], ['0;Mrs', ' Josef (Josefine Franchi) Arnold-Franchi;female;18'], ['0;Master', ' Juha Niilo Panula;male;7'], ['0;Mr', ' Richard Cater Nosworthy;male;21'], ['1;Mrs', ' Henry Sleeper (Myna Haxtun) Harper;female;49'], ['1;Mrs', ' Lizzie (Elizabeth Anne Wilkinson) Faunthorpe;female;29'], ['0;Mr', ' Engelhart Cornelius Ostby;male;65'], ['1;Mr', ' Hugh Woolner;male;46'], ['1;Miss', ' Emily Rugg;female;21'], ['0;Mr', ' Mansouer Novel;male;28'], ['1;Miss', ' Constance Mirium West;female;5'], ['0;Master', ' William Frederick Goodwin;male;11'], ['0;Mr', ' Orsen Sirayanian;male;22'], ['1;Miss', ' Amelie Icard;female;38'], ['0;Mr', ' Henry Birkhardt Harris;male;45'], ['0;Master', ' Harald Skoog;male;4'], ['0;Mr', ' Albert A Stewart;male;64'], ['1;Master', ' Gerios Moubarek;male;7'], ['1;Mrs', ' (Elizabeth Ramell) Nye;female;29'], ['0;Mr', ' Ernest James Crease;male;19'], ['1;Miss', ' Erna Alexandra Andersson;female;17'], ['0;Mr', ' Vincenz Kink;male;26'], ['0;Mr', ' Stephen Curnow Jenkin;male;32'], ['0;Miss', ' Lillian Amy Goodwin;female;16'], ['0;Mr', ' Ambrose Jr Hood;male;21'], ['0;Mr', ' Apostolos Chronopoulos;male;26'], ['1;Mr', ' Lee Bing;male;32'], ['0;Mr', ' Sigurd Hansen Moen;male;25'], ['0;Mr', ' Ivan Staneff;male;23'], ['0;Mr', ' Rahamin Haim Moutal;male;28'], ['1;Master', ' Alden Gates Caldwell;male;0', '83'], ['1;Miss', ' Elizabeth Dowdell;female;30'], ['0;Mr', ' Achille Waelens;male;22'], ['1;Mr', ' Jan Baptist Sheerlinck;male;29'], ['1;Miss', ' Brigdet Delia McDermott;female;31'], ['0;Mr', ' Francisco M Carrau;male;28'], ['1;Miss', ' Bertha Ilett;female;17'], ['1;Mrs', ' Karl Alfred (Maria Mathilda Gustafsson) Backstrom;female;33'], ['0;Mr', ' William Neal Ford;male;16'], ['0;Mr', ' Selman Francis Slocovski;male;20'], ['1;Miss', ' Mabel Helen Fortune;female;23'], ['0;Mr', ' Francesco Celotti;male;24'], ['0;Mr', ' Emil Christmann;male;29'], ['0;Mr', ' Paul Edvin Andreasson;male;20'], ['0;Mr', ' Herbert Fuller Chaffee;male;46'], ['0;Mr', ' Bertram Frank Dean;male;26'], ['0;Mr', ' Daniel Coxon;male;59'], ['0;Mr', ' Charles Joseph Shorney;male;22'], ['0;Mr', ' George B Goldschmidt;male;71'], ['1;Mr', ' William Bertram Greenfield;male;23'], ['1;Mrs', ' John T (Ada Julia Bone) Doling;female;34'], ['0;Mr', ' Sinai Kantor;male;34'], ['0;Miss', ' Matilda Petranec;female;28'], ['0;Mr', ' Pastcho Petroff;male;29'], ['0;Mr', ' Richard Frasar White;male;21'], ['0;Mr', ' Gustaf Joel Johansson;male;33'], ['0;Mr', ' Anders Vilhelm Gustafsson;male;37'], ['0;Mr', ' Stoytcho Mionoff;male;28'], ['1;Miss', ' Anna Kristine Salkjelsvik;female;21'], ['1;Mr', ' Albert Johan Moss;male;29'], ['0;Mr', ' Tido Rekic;male;38'], ['1;Miss', ' Bertha Moran;female;28'], ['0;Mr', ' Walter Chamberlain Porter;male;47'], ['0;Miss', ' Hileni Zabour;female;14'], ['0;Mr', ' David John Barton;male;22'], ['0;Miss', ' Katriina Jussila;female;20'], ['0;Miss', ' Malake Attalah;female;17'], ['0;Mr', ' Edvard Pekoniemi;male;21'], ['0;Mr', ' Patrick Connors;male;70', '5'], ['0;Mr', ' William John Robert Turpin;male;29'], ['0;Mr', ' Quigg Edmond Baxter;male;24'], ['0;Miss', ' Ellis Anna Maria Andersson;female;2'], ['0;Mr', ' Stanley George Hickman;male;21'], ['0;Mr', ' Leonard Charles Moore;male;19'], ['0;Mr', ' Nicholas Nasser;male;32', '5'], ['1;Miss', ' Susan Webber;female;32', '5'], ['0;Mr', ' Percival Wayland White;male;54'], ['1;Master', ' Elias Nicola-Yarred;male;12'], ['0;Mr', ' Martin McMahon;male;19'], ['1;Mr', ' Fridtjof Arne Madsen;male;24'], ['1;Miss', ' Anna Peter;female;2'], ['0;Mr', ' Johan Ekstrom;male;45'], ['0;Mr', ' Jozef Drazenoic;male;33'], ['0;Mr', ' Domingos Fernandeo Coelho;male;20'], ['0;Mrs', ' Alexander A (Grace Charity Laury) Robins;female;47'], ['1;Mrs', ' Leopold (Mathilde Francoise Pede) Weisz;female;29'], ['0;Mr', ' Samuel James Hayden Sobey;male;25'], ['0;Mr', ' Emile Richard;male;23'], ['1;Miss', ' Helen Monypeny Newsom;female;19'], ['0;Mr', ' Jacques Heath Futrelle;male;37'], ['0;Mr', ' Olaf Elon Osen;male;16'], ['0;Mr', ' Victor Giglio;male;24'], ['0;Mrs', ' Joseph (Sultana) Boulos;female;40'], ['1;Miss', ' Anna Sofia Nysten;female;22'], ['1;Mrs', ' Pekka Pietari (Elin Matilda Dolck) Hakkarainen;female;24'], ['0;Mr', ' Jeremiah Burke;male;19'], ['0;Mr', ' Edgardo Samuel Andrew;male;18'], ['0;Mr', ' Joseph Charles Nicholls;male;19'], ['1;Mr', ' August Edvard Andersson;male;27'], ['0;Miss', ' Robina Maggie Ford;female;9'], ['0;Mr', ' Michel Navratil;male;36', '5'], ['0;Rev', ' Thomas Roussel Davids Byles;male;42'], ['0;Rev', ' Robert James Bateman;male;51'], ['1;Mrs', ' Thomas (Edith Wearne) Pears;female;22'], ['0;Mr', ' Alfonzo Meo;male;55', '5'], ['0;Mr', ' Austin Blyler van Billiard;male;40', '5'], ['0;Mr', ' Ole Martin Olsen;male;27'], ['0;Mr', ' Charles Duane Williams;male;51'], ['1;Miss', ' Katherine Gilnagh;female;16'], ['0;Mr', ' Harry Corn;male;30'], ['0;Mr', ' Mile Smiljanic;male;37'], ['0;Master', ' Thomas Henry Sage;male;5'], ['0;Mr', ' John Hatfield Cribb;male;44'], ['1;Mrs', ' James (Elizabeth Inglis Milne) Watt;female;40'], ['0;Mr', ' John Viktor Bengtsson;male;26'], ['0;Mr', ' Jovo Calic;male;17'], ['0;Master', ' Eino Viljami Panula;male;1'], ['1;Master', ' Frank John William Goldsmith;male;9'], ['1;Mrs', ' (Edith Martha Bowerman) Chibnall;female;48'], ['0;Mrs', ' William (Anna Bernhardina Karlsson) Skoog;female;45'], ['0;Mr', ' John D Baumann;male;60'], ['0;Mr', ' Lee Ling;male;28'], ['0;Mr', ' Wyckoff Van der hoef;male;61'], ['0;Master', ' Arthur Rice;male;4'], ['1;Miss', ' Eleanor Ileen Johnson;female;1'], ['0;Mr', ' Antti Wilhelm Sivola;male;21'], ['0;Mr', ' James Clinch Smith;male;56'], ['0;Mr', ' Klas Albin Klasen;male;18'], ['0;Master', ' Henry Forbes Lefebre;male;5'], ['0;Miss', ' Ann Elizabeth Isham;female;50'], ['0;Mr', ' Reginald Hale;male;30'], ['0;Mr', ' Lionel Leonard;male;36'], ['0;Miss', ' Constance Gladys Sage;female;8'], ['0;Mr', ' Rene Pernot;male;39'], ['0;Master', ' Clarence Gustaf Hugo Asplund;male;9'], ['1;Master', ' Richard F Becker;male;1'], ['1;Miss', ' Luise Gretchen Kink-Heilmann;female;4'], ['0;Mr', ' Hugh Roscoe Rood;male;39'], ['1;Mrs', \" Thomas (Johanna Godfrey) O'Brien;female;26\"], ['1;Mr', ' Charles Hallace Romaine;male;45'], ['0;Mr', ' John Bourke;male;40'], ['0;Mr', ' Stjepan Turcin;male;36'], ['1;Mrs', ' (Rosa) Pinsky;female;32'], ['0;Mr', ' William Carbines;male;19'], ['1;Miss', ' Carla Christine Nielsine Andersen-Jensen;female;19'], ['1;Master', ' Michel M Navratil;male;3'], ['1;Mrs', ' James Joseph (Margaret Tobin) Brown;female;44'], ['1;Miss', ' Elise Lurette;female;58'], ['0;Mr', ' Robert Mernagh;male;28'], ['0;Mr', ' Karl Siegwart Andreas Olsen;male;42'], ['1;Miss', ' Margaret Madigan;female;21'], ['0;Miss', ' Henriette Yrois;female;24'], ['0;Mr', ' Nestor Cyriel Vande Walle;male;28'], ['0;Mr', ' Frederick Sage;male;17'], ['0;Mr', ' Jakob Alfred Johanson;male;34'], ['0;Mr', ' Gerious Youseff;male;45', '5'], ['1;Mr', ' Gurshon Cohen;male;18'], ['0;Miss', ' Telma Matilda Strom;female;2'], ['0;Mr', ' Karl Alfred Backstrom;male;32'], ['1;Mr', ' Nassef Cassem Albimona;male;26'], ['1;Miss', ' Helen Carr;female;16'], ['1;Mr', ' Henry Blank;male;40'], ['0;Mr', ' Ahmed Ali;male;24'], ['1;Miss', ' Clear Annie Cameron;female;35'], ['0;Mr', ' John Henry Perkin;male;22'], ['0;Mr', ' Hans Kristensen Givard;male;30'], ['0;Mr', ' Philip Kiernan;male;22'], ['1;Miss', ' Madeleine Newell;female;31'], ['1;Miss', ' Eliina Honkanen;female;27'], ['0;Mr', ' Sidney Samuel Jacobsohn;male;42'], ['1;Miss', ' Albina Bazzani;female;32'], ['0;Mr', ' Walter Harris;male;30'], ['1;Mr', ' Victor Francis Sunderland;male;16'], ['0;Mr', ' James H Bracken;male;27'], ['0;Mr', ' George Henry Green;male;51'], ['0;Mr', ' Christo Nenkoff;male;22'], ['1;Mr', ' Frederick Maxfield Hoyt;male;38'], ['0;Mr', ' Karl Ivar Sven Berglund;male;22'], ['1;Mr', ' William John Mellors;male;19'], ['0;Mr', ' John Hall Lovell;male;20'], ['0;Mr', ' Arne Jonas Fahlstrom;male;18'], ['0;Miss', ' Mathilde Lefebre;female;12'], ['1;Mrs', ' Henry Birkhardt (Irene Wallach) Harris;female;35'], ['0;Mr', ' Bengt Edvin Larsson;male;29'], ['0;Mr', ' Ernst Adolf Sjostedt;male;59'], ['1;Miss', ' Lillian Gertrud Asplund;female;5'], ['0;Mr', ' Robert William Norman Leyson;male;24'], ['0;Miss', ' Alice Phoebe Harknett;female;21'], ['0;Mr', ' Stephen Hold;male;44'], ['1;Miss', ' Marjorie Collyer;female;8'], ['0;Mr', ' Frederick William Pengelly;male;19'], ['0;Mr', ' George Henry Hunt;male;33'], ['0;Miss', ' Thamine Zabour;female;19'], ['1;Miss', ' Katherine Murphy;female;18'], ['0;Mr', ' Reginald Charles Coleridge;male;29'], ['0;Mr', ' Matti Alexanteri Maenpaa;male;22'], ['0;Mr', ' Sleiman Attalah;male;30'], ['0;Dr', ' William Edward Minahan;male;44'], ['0;Miss', ' Agda Thorilda Viktoria Lindahl;female;25'], ['1;Mrs', ' William (Anna) Hamalainen;female;24'], ['1;Mr', ' Richard Leonard Beckwith;male;37'], ['0;Rev', ' Ernest Courtenay Carter;male;54'], ['0;Mr', ' James George Reed;male;18'], ['0;Mrs', ' Wilhelm (Elna Matilda Persson) Strom;female;29'], ['0;Mr', ' William Thomas Stead;male;62'], ['0;Mr', ' William Arthur Lobb;male;30'], ['0;Mrs', ' Viktor (Helena Wilhelmina) Rosblom;female;41'], ['1;Mrs', ' Darwis (Hanne Youssef Razi) Touma;female;29'], ['1;Mrs', ' Gertrude Maybelle Thorne;female;38'], ['1;Miss', ' Gladys Cherry;female;30'], ['1;Miss', ' Anna Ward;female;35'], ['1;Mrs', ' (Lutie Davis) Parrish;female;50'], ['1;Master', ' Edvin Rojj Felix Asplund;male;3'], ['0;Mr', ' Emil Taussig;male;52'], ['0;Mr', ' William Harrison;male;40'], ['0;Miss', ' Delia Henry;female;21'], ['0;Mr', ' David Reeves;male;36'], ['0;Mr', ' Ernesti Arvid Panula;male;16'], ['1;Mr', ' Ernst Ulrik Persson;male;25'], ['1;Mrs', ' William Thompson (Edith Junkins) Graham;female;58'], ['1;Miss', ' Amelia Bissette;female;35'], ['0;Mr', ' Alexander Cairns;male;28'], ['1;Mr', ' William Henry Tornquist;male;25'], ['1;Mrs', ' (Elizabeth Anne Maidment) Mellinger;female;41'], ['0;Mr', ' Charles H Natsch;male;37'], ['1;Miss', ' Hanora Healy;female;33'], ['1;Miss', ' Kornelia Theodosia Andrews;female;63'], ['0;Miss', ' Augusta Charlotta Lindblom;female;45'], ['0;Mr', ' Francis Parkes;male;21'], ['0;Master', ' Eric Rice;male;7'], ['1;Mrs', ' Stanton (Rosa Hunt) Abbott;female;35'], ['0;Mr', ' Frank Duane;male;65'], ['0;Mr', ' Nils Johan Goransson Olsson;male;28'], ['0;Mr', ' Alfons de Pelsmaeker;male;16'], ['1;Mr', ' Edward Arthur Dorking;male;19'], ['0;Mr', ' Richard William Smith;male;57'], ['0;Mr', ' Ivan Stankovic;male;33'], ['1;Mr', ' Theodore de Mulder;male;30'], ['0;Mr', ' Penko Naidenoff;male;22'], ['1;Mr', ' Masabumi Hosono;male;42'], ['1;Miss', ' Kate Connolly;female;22'], ['1;Miss', ' Ellen Barber;female;26'], ['1;Mrs', ' Dickinson H (Helen Walton) Bishop;female;19'], ['0;Mr', ' Rene Jacques Levy;male;36'], ['0;Miss', ' Aloisia Haas;female;24'], ['0;Mr', ' Ivan Mineff;male;24'], ['0;Mr', ' Ervin G Lewy;male;30'], ['0;Mr', ' Mansour Hanna;male;23'], ['0;Miss', ' Helen Loraine Allison;female;2'], ['1;Mr', ' Adolphe Saalfeld;male;47'], ['1;Mrs', ' James (Helene DeLaudeniere Chaput) Baxter;female;50'], ['1;Miss', ' Anna Katherine Kelly;female;20'], ['1;Mr', ' Bernard McCoy;male;24'], ['0;Mr', ' William Cahoone Jr Johnson;male;19'], ['1;Miss', ' Nora A Keane;female;46'], ['0;Mr', ' Howard Hugh Williams;male;28'], ['1;Master', ' Hudson Trevor Allison;male;0', '92'], ['1;Miss', ' Margaret Fleming;female;42'], ['1;Mrs', ' Victor de Satode (Maria Josefa Perez de Soto y Vallejo) Penasco y Castellana;female;17'], ['0;Mr', ' Samuel Abelson;male;30'], ['1;Miss', ' Laura Mabel Francatelli;female;30'], ['1;Miss', ' Margaret Bechstein Hays;female;24'], ['1;Miss', ' Emily Borie Ryerson;female;18'], ['0;Mrs', ' William (Anna Sylfven) Lahtinen;female;26'], ['0;Mr', ' Ignjac Hendekovic;male;28'], ['0;Mr', ' Benjamin Hart;male;43'], ['1;Miss', ' Helmina Josefina Nilsson;female;26'], ['1;Mrs', ' Sinai (Miriam Sternin) Kantor;female;24'], ['0;Dr', ' Ernest Moraweck;male;54'], ['1;Miss', ' Mary Natalie Wick;female;31'], ['1;Mrs', ' Frederic Oakley (Margaretta Corning Stone) Spedden;female;40'], ['0;Mr', ' Samuel Dennis;male;22'], ['0;Mr', ' Yoto Danoff;male;27'], ['1;Miss', ' Hilda Mary Slayter;female;30'], ['1;Mrs', ' Albert Francis (Sylvia Mae Harbaugh) Caldwell;female;22'], ['0;Mr', ' George John Jr Sage;male;20'], ['1;Miss', ' Marie Grice Young;female;36'], ['0;Mr', ' Johan Hansen Nysveen;male;61'], ['1;Mrs', ' (Ada E Hall) Ball;female;36'], ['1;Mrs', ' Frank John (Emily Alice Brown) Goldsmith;female;31'], ['1;Miss', ' Jean Gertrude Hippach;female;16'], ['1;Miss', ' Agnes McCoy;female;28'], ['0;Mr', ' Austen Partner;male;45', '5'], ['0;Mr', ' George Edward Graham;male;38'], ['0;Mr', ' Leo Edmondus Vander Planke;male;16'], ['1;Mrs', ' Henry William (Clara Heinsheimer) Frauenthal;female;42'], ['0;Mr', ' Mitto Denkoff;male;30'], ['0;Mr', ' Thomas Clinton Pears;male;29'], ['1;Miss', ' Elizabeth Margaret Burns;female;41'], ['1;Mr', ' Karl Edwart Dahl;male;45'], ['0;Mr', ' Stephen Weart Blackwell;male;45'], ['1;Master', ' Edmond Roger Navratil;male;2'], ['1;Miss', ' Alice Elizabeth Fortune;female;24'], ['0;Mr', ' Erik Gustaf Collander;male;28'], ['0;Mr', ' Charles Frederick Waddington Sedgwick;male;25'], ['0;Mr', ' Stanley Hubert Fox;male;36'], ['1;Miss', ' Amelia Brown;female;24'], ['1;Miss', ' Marion Elsie Smith;female;40'], ['1;Mrs', ' Thomas Henry (Mary E Finck) Davison;female;34'], ['1;Master', ' William Loch Coutts;male;3'], ['0;Mr', ' Jovan Dimic;male;42'], ['0;Mr', ' Nils Martin Odahl;male;23'], ['0;Mr', ' Fletcher Fellows Williams-Lambert;male;43'], ['0;Mr', ' Tannous Elias;male;15'], ['0;Mr', ' Josef Arnold-Franchi;male;25'], ['0;Mr', ' Wazli Yousif;male;23'], ['0;Mr', ' Leo Peter Vanden Steen;male;28'], ['1;Miss', ' Elsie Edith Bowerman;female;22'], ['0;Miss', ' Annie Clemmer Funk;female;38'], ['1;Miss', ' Mary McGovern;female;22'], ['1;Miss', ' Helen Mary Mockler;female;23'], ['0;Mr', ' Wilhelm Skoog;male;40'], ['0;Mr', ' Sebastiano del Carlo;male;29'], ['0;Mrs', ' (Catherine David) Barbara;female;45'], ['0;Mr', ' Adola Asim;male;35'], ['0;Mr', \" Thomas O'Brien;male;27\"], ['0;Mr', ' Mauritz Nils Martin Adahl;male;30'], ['1;Mrs', ' Frank Manley (Anna Sophia Atkinson) Warren;female;60'], ['1;Mrs', ' (Mantoura Boulos) Moussa;female;35'], ['1;Miss', ' Annie Jermyn;female;22'], ['1;Mme', ' Leontine Pauline Aubart;female;24'], ['1;Mr', ' George Achilles Harder;male;25'], ['0;Mr', ' Jakob Alfred Wiklund;male;18'], ['0;Mr', ' William Thomas Beavan;male;19'], ['0;Mr', ' Sante Ringhini;male;22'], ['0;Miss', ' Stina Viola Palsson;female;3'], ['1;Mrs', ' Edgar Joseph (Leila Saks) Meyer;female;25'], ['1;Miss', ' Aurora Adelia Landergren;female;22'], ['0;Mr', ' Harry Elkins Widener;male;27'], ['0;Mr', ' Tannous Betros;male;20'], ['0;Mr', ' Karl Gideon Gustafsson;male;19'], ['1;Miss', ' Rosalie Bidois;female;42'], ['1;Miss', ' Maria Nakid;female;1'], ['0;Mr', ' Juho Tikkanen;male;32'], ['1;Mrs', ' Alexander Oskar (Mary Aline Towner) Holverson;female;35'], ['0;Mr', ' Vasil Plotcharsky;male;27'], ['0;Mr', ' Charles Henry Davies;male;18'], ['0;Master', ' Sidney Leonard Goodwin;male;1'], ['1;Miss', ' Kate Buss;female;36'], ['0;Mr', ' Matthew Sadlier;male;19'], ['1;Miss', ' Bertha Lehmann;female;17'], ['1;Mr', ' William Ernest Carter;male;36'], ['1;Mr', ' Carl Olof Jansson;male;21'], ['0;Mr', ' Johan Birger Gustafsson;male;28'], ['1;Miss', ' Marjorie Newell;female;23'], ['1;Mrs', ' Hjalmar (Agnes Charlotta Bengtsson) Sandstrom;female;24'], ['0;Mr', ' Erik Johansson;male;22'], ['0;Miss', ' Elina Olsson;female;31'], ['0;Mr', ' Peter David McKane;male;46'], ['0;Dr', ' Alfred Pain;male;23'], ['1;Mrs', ' William H (Jessie L) Trout;female;28'], ['1;Mr', ' Juha Niskanen;male;39'], ['0;Mr', ' John Adams;male;26'], ['0;Miss', ' Mari Aina Jussila;female;21'], ['0;Mr', ' Pekka Pietari Hakkarainen;male;28'], ['0;Miss', ' Marija Oreskovic;female;20'], ['0;Mr', ' Shadrach Gale;male;34'], ['0;Mr', ' Carl/Charles Peter Widegren;male;51'], ['1;Master', ' William Rowe Richards;male;3'], ['0;Mr', ' Hans Martin Monsen Birkeland;male;21'], ['0;Miss', ' Ida Lefebre;female;3'], ['0;Mr', ' Todor Sdycoff;male;42'], ['0;Mr', ' Henry Hart;male;27'], ['1;Miss', ' Daisy E Minahan;female;33'], ['0;Mr', ' Alfred Fleming Cunningham;male;22'], ['1;Mr', ' Johan Julian Sundman;male;44'], ['0;Mrs', ' Thomas (Annie Louise Rowley) Meek;female;32'], ['1;Mrs', ' James Vivian (Lulu Thorne Christian) Drew;female;34'], ['1;Miss', ' Lyyli Karoliina Silven;female;18'], ['0;Mr', ' William John Matthews;male;30'], ['0;Miss', ' Catharina Van Impe;female;10'], ['0;Mr', ' David Charters;male;21'], ['0;Mr', ' Leo Zimmerman;male;29'], ['0;Mrs', ' Ernst Gilbert (Anna Sigrid Maria Brogren) Danbom;female;28'], ['0;Mr', ' Viktor Richard Rosblom;male;18'], ['0;Mr', ' Phillippe Wiseman;male;54'], ['1;Mrs', ' Charles V (Ada Maria Winfield) Clarke;female;28'], ['1;Miss', ' Kate Florence Phillips;female;19'], ['0;Mr', ' James Flynn;male;28'], ['1;Mr', ' Berk (Berk Trembisky) Pickard;male;32'], ['1;Mr', ' Mauritz Hakan Bjornstrom-Steffansson;male;28'], ['1;Mrs', ' Percival (Florence Kate White) Thorneycroft;female;33'], ['1;Mrs', ' Charles Alexander (Alice Adelaide Slow) Louch;female;42'], ['0;Mr', ' Nikolai Erland Kallio;male;17'], ['0;Mr', ' William Baird Silvey;male;50'], ['1;Miss', ' Lucile Polk Carter;female;14'], ['0;Miss', ' Doolina Margaret Ford;female;21'], ['1;Mrs', ' Sidney (Emily Hocking) Richards;female;24'], ['0;Mr', ' Mark Fortune;male;64'], ['0;Mr', ' Johan Henrik Johannesson Kvillner;male;31'], ['1;Mrs', ' Benjamin (Esther Ada Bloomfield) Hart;female;45'], ['0;Mr', ' Leon Hampe;male;20'], ['0;Mr', ' Johan Emil Petterson;male;25'], ['1;Ms', ' Encarnacion Reynaldo;female;28'], ['1;Mr', ' Bernt Johannesen-Bratthammer;male;29'], ['1;Master', ' Washington Dodge;male;4'], ['1;Miss', ' Madeleine Violet Mellinger;female;13'], ['1;Mr', ' Frederic Kimber Seward;male;34'], ['1;Miss', ' Marie Catherine Baclini;female;5'], ['1;Major', ' Arthur Godfrey Peuchen;male;52'], ['0;Mr', ' Edwy Arthur West;male;36'], ['0;Mr', ' Ingvald Olai Olsen Hagland;male;28'], ['0;Mr', ' Benjamin Laventall Foreman;male;30'], ['1;Mr', ' Samuel L Goldenberg;male;49'], ['0;Mr', ' Joseph Peduzzi;male;24'], ['1;Mr', ' Ivan Jalsevac;male;29'], ['0;Mr', ' Francis Davis Millet;male;65'], ['1;Mrs', ' Frederick R (Marion) Kenyon;female;41'], ['1;Miss', ' Ellen Toomey;female;50'], ['0;Mr', \" Maurice O'Connor;male;17\"], ['1;Mr', ' Harry Anderson;male;48'], ['0;Mr', ' William Morley;male;34'], ['0;Mr', ' Arthur H Gee;male;47'], ['0;Mr', ' Jacob Christian Milling;male;48'], ['0;Mr', ' Simon Maisner;male;34'], ['0;Mr', ' Manuel Estanslas Goncalves;male;38'], ['0;Mr', ' William Campbell;male;21'], ['0;Mr', ' John Montgomery Smart;male;56'], ['0;Mr', ' James Scanlan;male;22'], ['1;Miss', ' Helene Barbara Baclini;female;0', '75'], ['0;Mr', ' Arthur Keefe;male;39'], ['0;Mr', ' Luka Cacic;male;38'], ['1;Mrs', ' Edwy Arthur (Ada Mary Worth) West;female;33'], ['1;Mrs', ' Amin S (Marie Marthe Thuillard) Jerwan;female;23'], ['0;Miss', ' Ida Sofia Strandberg;female;22'], ['0;Mr', ' George Quincy Clifford;male;40'], ['0;Mr', ' Peter Henry Renouf;male;34'], ['0;Mr', ' Lewis Richard Braund;male;29'], ['0;Mr', ' Nils August Karlsson;male;22'], ['1;Miss', ' Hildur E Hirvonen;female;2'], ['0;Master', ' Harold Victor Goodwin;male;9'], ['0;Mr', ' Anthony Wood Frost;male;37'], ['0;Mr', ' Richard Henry Rouse;male;50'], ['1;Mrs', ' (Hedwig) Turkula;female;63'], ['1;Mr', ' Dickinson H Bishop;male;25'], ['0;Miss', ' Jeannie Lefebre;female;8'], ['1;Mrs', ' Frederick Maxfield (Jane Anne Forby) Hoyt;female;35'], ['0;Mr', ' Edward Austin Kent;male;58'], ['0;Mr', ' Francis William Somerton;male;30'], ['1;Master', ' Eden Leslie Coutts;male;9'], ['0;Mr', ' Konrad Mathias Reiersen Hagland;male;19'], ['0;Mr', ' Einar Windelov;male;21'], ['0;Mr', ' Harry Markland Molson;male;55'], ['0;Mr', ' Ramon Artagaveytia;male;71'], ['0;Mr', ' Edward Roland Stanley;male;21'], ['0;Mr', ' Gerious Yousseff;male;26'], ['1;Miss', ' Elizabeth Mussey Eustis;female;54'], ['0;Mr', ' Frederick William Shellard;male;55'], ['0;Mrs', ' Hudson J C (Bessie Waldo Daniels) Allison;female;25'], ['0;Mr', ' Olof Svensson;male;24'], ['0;Mr', ' Petar Calic;male;17'], ['0;Miss', ' Mary Canavan;female;21'], ['0;Miss', \" Bridget Mary O'Sullivan;female;21\"], ['0;Miss', ' Kristina Sofia Laitinen;female;37'], ['1;Miss', ' Roberta Maioni;female;16'], ['0;Mr', ' Victor de Satode Penasco y Castellana;male;18'], ['1;Mrs', ' Frederick Charles (Jane Richards) Quick;female;33'], ['1;Mr', ' George Bradley;male;37'], ['0;Mr', ' Henry Margido Olsen;male;28'], ['1;Mr', ' Fang Lang;male;26'], ['1;Mr', ' Eugene Patrick Daly;male;29'], ['0;Mr', ' James Webber;male;66'], ['1;Mr', ' James Robert McGough;male;36'], ['1;Mrs', ' Martin (Elizabeth L', ' Barrett) Rothschild;female;54'], ['0;Mr', ' Satio Coleff;male;24'], ['0;Mr', ' William Anderson Walker;male;47'], ['1;Mrs', ' (Amelia Milley) Lemore;female;34'], ['0;Mr', ' Patrick Ryan;male;30'], ['1;Mrs', ' William A (Florence Agnes Hughes) Angle;female;36'], ['0;Mr', ' Stefo Pavlovic;male;32'], ['1;Miss', ' Anne Perreault;female;30'], ['0;Mr', ' Janko Vovk;male;22'], ['0;Mr', ' Sarkis Lahoud;male;35'], ['1;Mrs', ' Louis Albert (Ida Sophia Fischer) Hippach;female;44'], ['0;Mr', ' Fared Kassem;male;18'], ['0;Mr', ' James Farrell;male;40', '5'], ['1;Miss', ' Lucy Ridsdale;female;50'], ['0;Mr', ' John Farthing;male;49'], ['0;Mr', ' Johan Werner Salonen;male;39'], ['0;Mr', ' Richard George Hocking;male;23'], ['1;Miss', ' Phyllis May Quick;female;2'], ['0;Mr', ' Nakli Toufik;male;17'], ['0;Mr', ' Joseph Jr Elias;male;17'], ['1;Mrs', ' Catherine (Catherine Rizk) Peter;female;24'], ['0;Miss', ' Marija Cacic;female;30'], ['1;Miss', ' Eva Miriam Hart;female;7'], ['0;Major', ' Archibald Willingham Butt;male;45'], ['1;Miss', ' Bertha LeRoy;female;30'], ['0;Mr', ' Samuel Beard Risien;male;69'], ['1;Miss', ' Hedwig Margaritha Frolicher;female;22'], ['1;Miss', ' Harriet R Crosby;female;36'], ['0;Miss', ' Ingeborg Constanzia Andersson;female;9'], ['0;Miss', ' Sigrid Elisabeth Andersson;female;11'], ['1;Mr', ' Edward Beane;male;32'], ['0;Mr', ' Walter Donald Douglas;male;50'], ['0;Mr', ' Arthur Ernest Nicholson;male;64'], ['1;Mrs', ' Edward (Ethel Clarke) Beane;female;19'], ['1;Mr', ' Julian Padro y Manent;male;27'], ['0;Mr', ' Frank John Goldsmith;male;33'], ['1;Master', ' John Morgan Jr Davies;male;8'], ['1;Mr', ' John Borland Jr Thayer;male;17'], ['0;Mr', ' Percival James R Sharp;male;27'], ['0;Mr', \" Timothy O'Brien;male;21\"], ['1;Mr', ' Fahim Leeni;male;22'], ['1;Miss', ' Velin Ohman;female;22'], ['0;Mr', ' George Wright;male;62'], ['1;Lady', ' (Lucille Christiana Sutherland)Duff Gordon;female;48'], ['0;Mr', ' Victor Robbins;male;45'], ['1;Mrs', ' Emil (Tillie Mandelbaum) Taussig;female;39'], ['1;Mrs', ' Guillaume Joseph (Emma) de Messemaeker;female;36'], ['0;Mr', ' Thomas Rowan Morrow;male;30'], ['0;Mr', ' Husein Sivic;male;40'], ['0;Mr', ' Robert Douglas Norman;male;28'], ['0;Mr', ' John Simmons;male;40'], ['0;Miss', ' (Marion Ogden) Meanwell;female;62'], ['0;Mr', ' Alfred J Davies;male;24'], ['0;Mr', ' Ilia Stoytcheff;male;19'], ['0;Mrs', ' Nils (Alma Cornelia Berglund) Palsson;female;29'], ['0;Mr', ' Tannous Doharr;male;28'], ['1;Mr', ' Carl Jonsson;male;32'], ['1;Mr', ' George Harris;male;62'], ['1;Mrs', ' Edward Dale (Charlotte Lamson) Appleton;female;53'], ['1;Mr', ' John Irwin Flynn;male;36'], ['1;Miss', ' Mary Kelly;female;22'], ['0;Mr', ' Alfred George John Rush;male;16'], ['0;Mr', ' George Patchett;male;19'], ['1;Miss', ' Ethel Garside;female;34'], ['1;Mrs', ' William Baird (Alice Munger) Silvey;female;39'], ['0;Mrs', ' Joseph (Maria Elias) Caram;female;18'], ['1;Mr', ' Eiriik Jussila;male;32'], ['1;Miss', ' Julie Rachel Christy;female;25'], ['1;Mrs', ' John Borland (Marian Longstreth Morris) Thayer;female;39'], ['0;Mr', ' William James Downton;male;54'], ['0;Mr', ' John Hugo Ross;male;36'], ['0;Mr', ' Uscher Paulner;male;16'], ['1;Miss', ' Ruth Taussig;female;18'], ['0;Mr', ' John Denzil Jarvis;male;47'], ['1;Mr', ' Maxmillian Frolicher-Stehli;male;60'], ['0;Mr', ' Eliezer Gilinski;male;22'], ['0;Mr', ' Joseph Murdlin;male;22'], ['0;Mr', ' Matti Rintamaki;male;35'], ['1;Mrs', ' Walter Bertram (Martha Eustis) Stephenson;female;52'], ['0;Mr', ' William James Elsbury;male;47'], ['0;Miss', ' Mary Bourke;female;40'], ['0;Mr', ' John Henry Chapman;male;37'], ['0;Mr', ' Jean Baptiste Van Impe;male;36'], ['1;Miss', ' Jessie Wills Leitch;female;31'], ['0;Mr', ' Alfred Johnson;male;49'], ['0;Mr', ' Hanna Boulos;male;18'], ['1;Sir', ' Cosmo Edmund Duff Gordon;male;49'], ['1;Mrs', ' Sidney Samuel (Amy Frances Christy) Jacobsohn;female;24'], ['0;Mr', ' Petco Slabenoff;male;42'], ['0;Mr', ' Charles H Harrington;male;37'], ['0;Mr', ' Ernst William Torber;male;44'], ['1;Mr', ' Harry Homer;male;35'], ['0;Mr', ' Edvard Bengtsson Lindell;male;36'], ['0;Mr', ' Milan Karaic;male;30'], ['1;Mr', ' Robert Williams Daniel;male;27'], ['1;Mrs', ' Joseph (Juliette Marie Louise Lafargue) Laroche;female;22'], ['1;Miss', ' Elizabeth W Shutes;female;40'], ['0;Mrs', ' Anders Johan (Alfrida Konstantia Brogren) Andersson;female;39'], ['0;Mr', ' Jose Neto Jardin;male;21'], ['1;Miss', ' Margaret Jane Murphy;female;18'], ['0;Mr', ' John Horgan;male;22'], ['0;Mr', ' William Alfred Brocklebank;male;35'], ['1;Miss', ' Alice Herman;female;24'], ['0;Mr', ' Ernst Gilbert Danbom;male;34'], ['0;Mrs', ' William Arthur (Cordelia K Stanlick) Lobb;female;26'], ['1;Miss', ' Marion Louise Becker;female;4'], ['0;Mr', ' Lawrence Gavey;male;26'], ['0;Mr', ' Antoni Yasbeck;male;27'], ['1;Mr', ' Edwin Nelson Jr Kimball;male;42'], ['1;Mr', ' Sahid Nakid;male;20'], ['0;Mr', ' Henry Damsgaard Hansen;male;21'], ['0;Mr', ' David John Bowen;male;21'], ['0;Mr', ' Frederick Sutton;male;61'], ['0;Rev', ' Charles Leonard Kirkland;male;57'], ['1;Miss', ' Gretchen Fiske Longley;female;21'], ['0;Mr', ' Guentcho Bostandyeff;male;26'], ['0;Mr', \" Patrick D O'Connell;male;18\"], ['1;Mr', ' Algernon Henry Wilson Barkworth;male;80'], ['0;Mr', ' Johan Svensson Lundahl;male;51'], ['1;Dr', ' Max Stahelin-Maeglin;male;32'], ['0;Mr', ' William Henry Marsh Parr;male;30'], ['0;Miss', ' Mabel Skoog;female;9'], ['1;Miss', ' Mary Davis;female;28'], ['0;Mr', ' Antti Gustaf Leinonen;male;32'], ['0;Mr', ' Harvey Collyer;male;31'], ['0;Mrs', ' Juha (Maria Emilia Ojala) Panula;female;41'], ['0;Mr', ' Percival Thorneycroft;male;37'], ['0;Mr', ' Hans Peder Jensen;male;20'], ['1;Mlle', ' Emma Sagesser;female;24'], ['0;Miss', ' Margit Elizabeth Skoog;female;2'], ['1;Mr', ' Choong Foo;male;32'], ['1;Miss', ' Eugenie Baclini;female;0', '75'], ['1;Mr', ' Henry Sleeper Harper;male;48'], ['0;Mr', ' Liudevit Cor;male;19'], ['1;Col', ' Oberst Alfons Simonius-Blumer;male;56'], ['0;Mr', ' Edward Willey;male;21'], ['1;Miss', ' Amy Zillah Elsie Stanley;female;23'], ['0;Mr', ' Mito Mitkoff;male;23'], ['1;Miss', ' Elsie Doling;female;18'], ['0;Mr', ' Johannes Halvorsen Kalvik;male;21'], ['1;Miss', \" Hanora O'Leary;female;16\"], ['0;Miss', ' Hanora Hegarty;female;18'], ['0;Mr', ' Leonard Mark Hickman;male;24'], ['0;Mr', ' Alexander Radeff;male;27'], ['0;Mrs', ' John (Catherine) Bourke;female;32'], ['0;Mr', ' George Floyd Eitemiller;male;23'], ['0;Mr', ' Arthur Webster Newell;male;58'], ['1;Dr', ' Henry William Frauenthal;male;50'], ['0;Mr', ' Mohamed Badt;male;40'], ['0;Mr', ' Edward Pomeroy Colley;male;47'], ['0;Mr', ' Peju Coleff;male;36'], ['1;Mr', ' Eino William Lindqvist;male;20'], ['0;Mr', ' Lewis Hickman;male;32'], ['0;Mr', ' Reginald Fenton Butler;male;25'], ['0;Mr', ' Knud Paust Rommetvedt;male;49'], ['0;Mr', ' Jacob Cook;male;43'], ['1;Mrs', ' Elmer Zebley (Juliet Cummins Wright) Taylor;female;48'], ['1;Mrs', ' Thomas William Solomon (Elizabeth Catherine Ford) Brown;female;40'], ['0;Mr', ' Thornton Davidson;male;31'], ['0;Mr', ' Henry Michael Mitchell;male;70'], ['1;Mr', ' Charles Wilhelms;male;31'], ['0;Mr', ' Ennis Hastings Watson;male;19'], ['0;Mr', ' Gustaf Hjalmar Edvardsson;male;18'], ['0;Mr', ' Frederick Charles Sawyer;male;24'], ['1;Miss', ' Anna Sofia Turja;female;18'], ['0;Mrs', ' Frederick (Augusta Tyler) Goodwin;female;43'], ['1;Mr', ' Thomas Drake Martinez Cardeza;male;36'], ['0;Miss', ' Katie Peters;female;28'], ['1;Mr', ' Hammad Hassab;male;27'], ['0;Mr', ' Thor Anderson Olsvigen;male;20'], ['0;Mr', ' Charles Edward Goodwin;male;14'], ['0;Mr', ' Thomas William Solomon Brown;male;60'], ['0;Mr', ' Joseph Philippe Lemercier Laroche;male;25'], ['0;Mr', ' Jaako Arnold Panula;male;14'], ['0;Mr', ' Branko Dakic;male;19'], ['0;Mr', ' Eberhard Thelander Fischer;male;18'], ['1;Miss', ' Georgette Alexandra Madill;female;15'], ['1;Mr', ' Albert Adrian Dick;male;31'], ['1;Miss', ' Manca Karun;female;4'], ['1;Mr', ' Ali Lam;male;37'], ['0;Mr', ' Khalil Saad;male;25'], ['0;Col', ' John Weir;male;60'], ['0;Mr', ' Charles Henry Chapman;male;52'], ['0;Mr', ' James Kelly;male;44'], ['1;Miss', ' Katherine Mullens;female;19'], ['0;Mr', ' John Borland Thayer;male;49'], ['0;Mr', ' Adolf Mathias Nicolai Olsen Humblen;male;42'], ['1;Mrs', ' John Jacob (Madeleine Talmadge Force) Astor;female;18'], ['1;Mr', ' Spencer Victor Silverthorne;male;35'], ['0;Miss', ' Saiide Barbara;female;18'], ['0;Mr', ' Martin Gallagher;male;25'], ['0;Mr', ' Henrik Juul Hansen;male;26'], ['0;Mr', ' Henry Samuel Morley;male;39'], ['1;Mrs', ' Florence Kelly;female;45'], ['1;Mr', ' Edward Pennington Calderhead;male;42'], ['1;Miss', ' Alice Cleaver;female;22'], ['1;Master', ' Halim Gonios Moubarek;male;4'], ['1;Mlle', ' Berthe Antonine Mayne;female;24'], ['0;Mr', ' Herman Klaber;male;41'], ['1;Mr', ' Elmer Zebley Taylor;male;48'], ['0;Mr', ' August Viktor Larsson;male;29'], ['0;Mr', ' Samuel Greenberg;male;52'], ['0;Mr', ' Peter Andreas Lauritz Andersen Soholt;male;19'], ['1;Miss', ' Caroline Louise Endres;female;38'], ['1;Miss', ' Edwina Celia Troutt;female;27'], ['0;Mr', ' Malkolm Joackim Johnson;male;33'], ['1;Miss', ' Annie Jessie Harper;female;6'], ['0;Mr', ' Svend Lauritz Jensen;male;17'], ['0;Mr', ' William Henry Gillespie;male;34'], ['0;Mr', ' Henry Price Hodges;male;50'], ['1;Mr', ' Norman Campbell Chambers;male;27'], ['0;Mr', ' Luka Oreskovic;male;20'], ['1;Mrs', ' Peter Henry (Lillian Jefferys) Renouf;female;30'], ['1;Miss', ' Margareth Mannion;female;28'], ['0;Mr', ' Kurt Arnold Gottfrid Bryhl;male;25'], ['0;Miss', ' Pieta Sofia Ilmakangas;female;25'], ['1;Miss', ' Elisabeth Walton Allen;female;29'], ['0;Mr', ' Houssein G N Hassan;male;11'], ['0;Mr', ' Robert J Knight;male;41'], ['0;Mr', ' William John Berriman;male;23'], ['0;Mr', ' Moses Aaron Troupiansky;male;23'], ['0;Mr', ' Leslie Williams;male;28'], ['0;Mrs', ' Edward (Margaret Ann Watson) Ford;female;48'], ['1;Mr', ' Gustave J Lesurer;male;35'], ['0;Mr', ' Kanio Ivanoff;male;20'], ['0;Mr', ' Minko Nankoff;male;32'], ['1;Mr', ' Walter James Hawksford;male;45'], ['0;Mr', ' Tyrell William Cavendish;male;36'], ['1;Miss', ' Susan Parker Ryerson;female;21'], ['0;Mr', ' Neal McNamee;male;24'], ['1;Mr', ' Juho Stranden;male;31'], ['0;Capt', ' Edward Gifford Crosby;male;70'], ['0;Mr', ' Rossmore Edward Abbott;male;16'], ['1;Miss', ' Anna Sinkkonen;female;30'], ['0;Mr', ' Daniel Warner Marvin;male;19'], ['0;Mr', ' Michael Connaghton;male;31'], ['1;Miss', ' Joan Wells;female;4'], ['1;Master', ' Meier Moor;male;6'], ['0;Mr', ' Johannes Joseph Vande Velde;male;33'], ['0;Mr', ' Lalio Jonkoff;male;23'], ['1;Mrs', ' Samuel (Jane Laver) Herman;female;48'], ['1;Master', ' Viljo Hamalainen;male;0', '67'], ['0;Mr', ' August Sigfrid Carlsson;male;28'], ['0;Mr', ' Percy Andrew Bailey;male;18'], ['0;Mr', ' Thomas Leonard Theobald;male;34'], ['1;the Countess', ' of (Lucy Noel Martha Dyer-Edwards) Rothes;female;33'], ['0;Mr', ' John Garfirth;male;23'], ['0;Mr', ' Iisakki Antino Aijo Nirva;male;41'], ['1;Mr', ' Hanna Assi Barah;male;20'], ['1;Mrs', ' William Ernest (Lucile Polk) Carter;female;36'], ['0;Mr', ' Hans Linus Eklund;male;16'], ['1;Mrs', ' John C (Anna Andrews) Hogeboom;female;51'], ['0;Dr', ' Arthur Jackson Brewe;male;46'], ['0;Miss', ' Mary Mangan;female;30'], ['0;Mr', ' Daniel J Moran;male;28'], ['0;Mr', ' Daniel Danielsen Gronnestad;male;32'], ['0;Mr', ' Rene Aime Lievens;male;24'], ['0;Mr', ' Niels Peder Jensen;male;48'], ['0;Mrs', ' (Mary) Mack;female;57'], ['0;Mr', ' Dibo Elias;male;29'], ['1;Mrs', ' Elizabeth (Eliza Needs) Hocking;female;54'], ['0;Mr', ' Pehr Fabian Oliver Malkolm Myhrman;male;18'], ['0;Mr', ' Roger Tobin;male;20'], ['1;Miss', ' Virginia Ethel Emanuel;female;5'], ['0;Mr', ' Thomas J Kilgannon;male;22'], ['1;Mrs', ' Edward Scott (Elisabeth Walton McMillan) Robert;female;43'], ['1;Miss', ' Banoura Ayoub;female;13'], ['1;Mrs', ' Albert Adrian (Vera Gillespie) Dick;female;17'], ['0;Mr', ' Milton Clyde Long;male;29'], ['0;Mr', ' Andrew G Johnston;male;35'], ['0;Mr', ' William Ali;male;25'], ['0;Mr', ' Abraham (David Lishin) Harmer;male;25'], ['1;Miss', ' Anna Sofia Sjoblom;female;18'], ['0;Master', ' George Hugh Rice;male;8'], ['1;Master', ' Bertram Vere Dean;male;1'], ['0;Mr', ' Benjamin Guggenheim;male;46'], ['0;Mr', ' Andrew Keane;male;20'], ['0;Mr', ' Alfred Gaskell;male;16'], ['0;Miss', ' Stella Anna Sage;female;21'], ['0;Mr', ' William Fisher Hoyt;male;43'], ['0;Mr', ' Ristiu Dantcheff;male;25'], ['0;Mr', ' Richard Otter;male;39'], ['1;Dr', ' Alice (Farnham) Leader;female;49'], ['1;Mrs', ' Mara Osman;female;31'], ['0;Mr', ' Yousseff Ibrahim Shawah;male;30'], ['0;Mrs', ' Jean Baptiste (Rosalie Paula Govaert) Van Impe;female;30'], ['0;Mr', ' Martin Ponesell;male;34'], ['1;Mrs', ' Harvey (Charlotte Annie Tate) Collyer;female;31'], ['1;Master', ' William Thornton II Carter;male;11'], ['1;Master', ' Assad Alexander Thomas;male;0', '42'], ['1;Mr', ' Oskar Arvid Hedman;male;27'], ['0;Mr', ' Karl Johan Johansson;male;31'], ['0;Mr', ' Thomas Jr Andrews;male;39'], ['0;Miss', ' Ellen Natalia Pettersson;female;18'], ['0;Mr', ' August Meyer;male;39'], ['1;Mrs', ' Norman Campbell (Bertha Griggs) Chambers;female;33'], ['0;Mr', ' William Alexander;male;26'], ['0;Mr', ' James Lester;male;39'], ['0;Mr', ' Richard James Slemen;male;35'], ['0;Miss', ' Ebba Iris Alfrida Andersson;female;6'], ['0;Mr', ' Ernest Portage Tomlin;male;30'], ['0;Mr', ' Richard Fry;male;39'], ['0;Miss', ' Wendla Maria Heininen;female;23'], ['0;Mr', ' Albert Mallet;male;31'], ['0;Mr', ' John Fredrik Alexander Holm;male;43'], ['0;Master', ' Karl Thorsten Skoog;male;10'], ['1;Mrs', ' Charles Melville (Clara Jennings Gregg) Hays;female;52'], ['1;Mr', ' Nikola Lulic;male;27'], ['0;Jonkheer', ' John George Reuchlin;male;38'], ['1;Mrs', ' (Beila) Moor;female;27'], ['0;Master', ' Urho Abraham Panula;male;2'], ['0;Mr', ' John Flynn;male;36'], ['0;Mr', ' Len Lam;male;23'], ['1;Master', ' Andre Mallet;male;1'], ['1;Mr', ' Thomas Joseph McCormack;male;19'], ['1;Mrs', ' George Nelson (Martha Evelyn) Stone;female;62'], ['1;Mrs', ' Antoni (Selini Alexander) Yasbeck;female;15'], ['1;Master', ' George Sibley Richards;male;0', '83'], ['0;Mr', ' Amin Saad;male;30'], ['0;Mr', ' Albert Augustsson;male;23'], ['0;Mr', ' Owen George Allum;male;18'], ['1;Miss', ' Sara Rebecca Compton;female;39'], ['0;Mr', ' Jakob Pasic;male;21'], ['0;Mr', ' Maurice Sirota;male;20'], ['1;Mr', ' Chang Chip;male;32'], ['1;Mr', ' Pierre Marechal;male;29'], ['0;Mr', ' Ilmari Rudolf Alhomaki;male;20'], ['0;Mr', ' Thomas Charles Mudd;male;16'], ['1;Miss', ' Augusta Serepeca;female;30'], ['0;Mr', ' Peter L Lemberopolous;male;34', '5'], ['0;Mr', ' Jeso Culumovic;male;17'], ['0;Mr', ' Anthony Abbing;male;42'], ['0;Mr', ' Douglas Bullen Sage;male;18'], ['0;Mr', ' Marin Markoff;male;35'], ['0;Rev', ' John Harper;male;28'], ['1;Mrs', ' Samuel L (Edwiga Grabowska) Goldenberg;female;40'], ['0;Master', ' Sigvard Harald Elias Andersson;male;4'], ['0;Mr', ' Johan Svensson;male;74'], ['0;Miss', ' Nourelain Boulos;female;9'], ['1;Miss', ' Mary Conover Lines;female;16'], ['0;Mrs', ' Ernest Courtenay (Lilian Hughes) Carter;female;44'], ['1;Mrs', ' Sam (Leah Rosen) Aks;female;18'], ['1;Mrs', ' George Dennick (Mary Hitchcock) Wick;female;45'], ['1;Mr', ' Peter Denis Daly;male;51'], ['1;Mrs', ' Solomon (Latifa Qurban) Baclini;female;24'], ['0;Mr', ' Raihed Razi;male;30'], ['0;Mr', ' Claus Peter Hansen;male;41'], ['0;Mr', ' Frederick Edward Giles;male;21'], ['1;Mrs', ' Frederick Joel (Margaret Welles Barron) Swift;female;48'], ['0;Miss', ' Dorothy Edith Sage;female;14'], ['0;Mr', ' John William Gill;male;24'], ['1;Mrs', ' (Karolina) Bystrom;female;42'], ['1;Miss', ' Asuncion Duran y More;female;27'], ['0;Mr', ' Washington Augustus II Roebling;male;31'], ['0;Mr', ' Philemon van Melkebeke;male;23'], ['1;Master', ' Harold Theodor Johnson;male;4'], ['0;Mr', ' Cerin Balkic;male;26'], ['1;Mrs', ' Richard Leonard (Sallie Monypeny) Beckwith;female;47'], ['0;Mr', ' Frans Olof Carlsson;male;33'], ['0;Mr', ' Victor Vander Cruyssen;male;47'], ['1;Mrs', ' Samuel (Hannah Wizosky) Abelson;female;28'], ['1;Miss', ' Adele Kiamie Najib;female;15'], ['0;Mr', ' Alfred Ossian Gustafsson;male;20'], ['0;Mr', ' Nedelio Petroff;male;19'], ['0;Mr', ' Kristo Laleff;male;23'], ['1;Mrs', ' Thomas Jr (Lily Alexenia Wilson) Potter;female;56'], ['1;Mrs', ' William (Imanita Parrish Hall) Shelley;female;25'], ['0;Mr', ' Johann Markun;male;33'], ['0;Miss', ' Gerda Ulrika Dahlberg;female;22'], ['0;Mr', ' Frederick James Banfield;male;28'], ['0;Mr', ' Henry Jr Sutehall;male;25'], ['0;Mrs', ' William (Margaret Norton) Rice;female;39'], ['0;Rev', ' Juozas Montvila;male;27'], ['1;Miss', ' Margaret Edith Graham;female;19'], ['0;Miss', ' Catherine Helen Johnston;female;7'], ['1;Mr', ' Karl Howell Behr;male;26'], ['0;Mr', ' Patrick Dooley;male;32']]\n"
     ]
    }
   ],
   "source": [
    "def filter_dump(filename, objects, typename):\n",
    "    list_obj = []\n",
    "    for obj in list(objects):\n",
    "        if isinstance(obj, typename):\n",
    "            list_obj.append(obj)\n",
    "    \n",
    "    with open(filename, 'wb') as file:    \n",
    "        pickle.dump(list_obj, file)"
   ]
  },
  {
   "cell_type": "markdown",
   "id": "c8b030c9",
   "metadata": {},
   "source": [
    "По каналу связи передаются **pickle файл**, содержащий сериализованный словарь или список, и целое число — контрольная сумма, которая вычисляется по следующему правилу:\n",
    "\n",
    "для словаря — сумма всех целочисленных ключей (тип int);\n",
    "для списка — произведение минимального и максимального целочисленных элементов (тип int).\n",
    "\n",
    "Напишите программу, которая вычисляет контрольную сумму для объекта, содержащегося в pickle файле, и сравнивает ее с данным целым числом."
   ]
  },
  {
   "cell_type": "code",
   "execution_count": null,
   "id": "3313c968",
   "metadata": {},
   "outputs": [],
   "source": [
    "pickle_file = input()\n",
    "summ_right = int(input())\n",
    "summ = 0\n",
    "\n",
    "with open(pickle_file, 'rb') as file: \n",
    "    data = pickle.load(file)\n",
    " \n",
    "    if isinstance(data, list):\n",
    "        data_int = [n for n in data if isinstance(n, int)]        \n",
    "        try:\n",
    "            summ = max(data_int) * min(data_int)\n",
    "        except:\n",
    "            summ = 0\n",
    "        \n",
    "    elif isinstance(data, dict):\n",
    "        for key in data.keys():\n",
    "            if isinstance(key, int):\n",
    "                summ += key\n",
    "    else:\n",
    "        pass\n",
    "    \n",
    "    if summ_right == summ:\n",
    "        print('Контрольные суммы совпадают')\n",
    "    else:\n",
    "        print('Контрольные суммы не совпадают')  "
   ]
  },
  {
   "cell_type": "markdown",
   "id": "9d2b7e55",
   "metadata": {},
   "source": [
    "Вам доступен **именованный кортеж** Animal, который содержит данные о животном. Первым элементом именованного кортежа является имя животного, вторым — семейство, третьим — пол, четвертым — цвет. Также доступен файл data.**pkl**, содержащий сериализованный список таких кортежей.\n",
    "\n",
    "Дополните приведенный ниже код, чтобы для каждого кортежа из этого списка он вывел названия его полей и значения этих полей в следующем формате:\n",
    "\n",
    "name: <значение>\n",
    "family: <значение>\n",
    "sex: <значение>\n",
    "color: <значение>\n",
    "\n",
    "Между полями и значениями двух разных кортежей должна располагаться пустая строка."
   ]
  },
  {
   "cell_type": "code",
   "execution_count": 9,
   "id": "3e163bfa",
   "metadata": {},
   "outputs": [
    {
     "name": "stdout",
     "output_type": "stream",
     "text": [
      "name: Alex\n",
      "family: dogs\n",
      "sex: m\n",
      "color: brown\n",
      "\n",
      "name: Nancy\n",
      "family: cats\n",
      "sex: w\n",
      "color: white\n",
      "\n",
      "name: Sam\n",
      "family: dogs\n",
      "sex: m\n",
      "color: brown\n",
      "\n",
      "name: Misha\n",
      "family: hedgehogs\n",
      "sex: m\n",
      "color: black\n",
      "\n",
      "name: Fredd\n",
      "family: cats\n",
      "sex: m\n",
      "color: white\n",
      "\n",
      "name: Python\n",
      "family: snakes\n",
      "sex: w\n",
      "color: white\n",
      "\n",
      "name: Crispy\n",
      "family: cats\n",
      "sex: w\n",
      "color: white\n",
      "\n",
      "name: Adam\n",
      "family: hedgehogs\n",
      "sex: m\n",
      "color: black\n",
      "\n",
      "name: Daddy\n",
      "family: snakes\n",
      "sex: m\n",
      "color: brown\n",
      "\n",
      "name: Mickey\n",
      "family: hedgehogs\n",
      "sex: m\n",
      "color: brown\n",
      "\n",
      "name: Tom\n",
      "family: cats\n",
      "sex: m\n",
      "color: white\n",
      "\n",
      "name: Jerry\n",
      "family: snakes\n",
      "sex: m\n",
      "color: brown\n",
      "\n",
      "name: Chip\n",
      "family: hedgehogs\n",
      "sex: m\n",
      "color: white\n",
      "\n"
     ]
    }
   ],
   "source": [
    "from collections import namedtuple\n",
    "import pickle\n",
    "\n",
    "Animal = namedtuple('Animal', ['name', 'family', 'sex', 'color'])\n",
    "\n",
    "with open('data.pkl', 'rb') as file:\n",
    "    animals = pickle.load(file)\n",
    "\n",
    "    for animal in animals:\n",
    "        for field, value in zip(Animal._fields, animal):\n",
    "            print(field, ': ', value, sep='')\n",
    "        print()"
   ]
  },
  {
   "cell_type": "markdown",
   "id": "81e1fefb",
   "metadata": {},
   "source": [
    "Дан список сотрудников организации, в котором указаны их фамилии, имена и даты рождения. Напишите программу, которая определяет самого молодого сотрудника, празднующего свой день рождения **в течение ближайших семи дней от текущей даты**."
   ]
  },
  {
   "cell_type": "code",
   "execution_count": null,
   "id": "1158d394",
   "metadata": {},
   "outputs": [],
   "source": [
    "from datetime import *\n",
    "from datetime import timedelta\n",
    "\n",
    "data_start = datetime.strptime(input(), '%d.%m.%Y')\n",
    "\n",
    "employee_cnt = int(input())\n",
    "employees = [input().split(' ') for _ in range(employee_cnt)]\n",
    "\n",
    "full_name_youngest = None\n",
    "birthday_youngest = datetime.strptime('1000-01-01',\"%Y-%m-%d\")\n",
    "\n",
    "for employee in employees:\n",
    "    full_name = employee[0] + ' ' +  employee[1]\n",
    "\n",
    "    dt_employee = datetime.strptime(employee[2], '%d.%m.%Y')\n",
    "    dt_calc = datetime(data_start.year, dt_employee.month, dt_employee.day)\n",
    "    \n",
    "    if 1 <= ((dt_calc - data_start).days + 365) % 365 <= 7:\n",
    "        if dt_employee > birthday_youngest:\n",
    "            full_name_youngest = full_name\n",
    "            birthday_youngest = dt_employee\n",
    "    \n",
    "if full_name_youngest:\n",
    "    print(full_name_youngest)\n",
    "else:\n",
    "    print('Дни рождения не планируются')"
   ]
  },
  {
   "cell_type": "markdown",
   "id": "f48f1aa0",
   "metadata": {},
   "source": [
    "Вам доступен **именованный кортеж** User, который содержит данные о пользователе некоторого ресурса. Первым элементом именованного кортежа является имя пользователя, вторым — фамилия, третьим — адрес электронной почты, четвертым — статус оформленной подписки. Также доступен список users, содержащий эти кортежи.\n",
    "\n",
    "Дополните приведенный ниже код, чтобы он вывел данные о каждом пользователе из этого списка, предварительно **отсортировав их по статусу подписки от дорогой к дешевой, а при совпадении статусов — в лексикографическом порядке** адресов электронных почт."
   ]
  },
  {
   "cell_type": "code",
   "execution_count": 14,
   "id": "ec405397",
   "metadata": {},
   "outputs": [],
   "source": [
    "\n",
    "from collections import namedtuple\n",
    "\n",
    "User = namedtuple('User', ['name', 'surname', 'email', 'plan'])\n",
    "\n",
    "users = [User('Mary', 'Griffin', 'sonnen@yahoo.com', 'Basic'),\n",
    "         User('Brenda', 'Young', 'retoh@outlook.com', 'Silver'),\n",
    "         User('Kathleen', 'Lyons', 'balchen@att.net', 'Gold'),\n",
    "         User('Pamela', 'Hicks', 'corrada@sbcglobal.net', 'Silver'),\n",
    "         User('William', 'Townsend', 'kosact@verizon.net', 'Gold'),\n",
    "         User('Clayton', 'Morris', 'berserk@yahoo.com', 'Silver'),\n",
    "         User('Dorothy', 'Dennis', 'sequin@live.com', 'Gold'),\n",
    "         User('Tyler', 'Walker', 'noahb@comcast.net', 'Basic'),\n",
    "         User('Joseph', 'Moore', 'ylchang@sbcglobal.net', 'Silver'),\n",
    "         User('Kenneth', 'Richardson', 'tbusch@me.com', 'Bronze'),\n",
    "         User('Stephanie', 'Bush', 'neuffer@live.com', 'Gold'),\n",
    "         User('Gregory', 'Hughes', 'juliano@att.net', 'Basic'),\n",
    "         User('Tracy', 'Wallace', 'sblack@me.com', 'Silver'),\n",
    "         User('Russell', 'Smith', 'isaacson@comcast.net', 'Bronze'),\n",
    "         User('Megan', 'Patterson', 'hoangle@outlook.com', 'Basic')]\n",
    "\n",
    "sd = {'Gold': 0, 'Silver': 1, 'Bronze': 2, 'Basic': 3}\n",
    "\n",
    "users = sorted(users, key = lambda x: (sd[x.plan], x.email))\n",
    "\n",
    "for user in users:\n",
    "    print(f'{user[0]} {user[1]}\\n  Email: {user[2]}\\n  Plan: {user[3]}\\n')"
   ]
  },
  {
   "cell_type": "markdown",
   "id": "e6072277",
   "metadata": {},
   "source": [
    "Вам доступен файл countries.json, содержащий список JSON-объектов c информацией о странах и исповедуемых в них религиях.Напишите программу, которая **создает единственный JSON-объект**, имеющий в качестве ключа название религии, а в качестве значения — список стран, в которых исповедуется данная религия. Полученный JSON-объект программа должна записать в файл religion.json."
   ]
  },
  {
   "cell_type": "code",
   "execution_count": 1,
   "id": "7cacb68a",
   "metadata": {},
   "outputs": [],
   "source": [
    "import json\n",
    "\n",
    "with open('countries.json', 'r', encoding='utf-8') as file:\n",
    "    data = json.load(file) # передаем файловый объект\n",
    "    \n",
    "    relegions_countries = {}\n",
    "    countries = []\n",
    "   \n",
    "\n",
    "    for d in data:\n",
    "            relegions_countries.setdefault(d[\"religion\"], []).append(d[\"country\"])\n",
    "                   \n",
    "        \n",
    "    with open('religion.json', 'w') as result:\n",
    "        json.dump(relegions_countries, result, indent=3) "
   ]
  },
  {
   "cell_type": "markdown",
   "id": "48efca83",
   "metadata": {},
   "source": [
    "Вам доступен файл playgrounds.**csv** с информацией о спортивных площадках Москвы. Напишите программу, создающую JSON-объект, ключом в котором является административный округ, а значением — **JSON-объект**, в котором, в свою очередь, ключом является название района, относящийся к этому административному округу, а значением — список адресов всех площадок в этом районе. Полученный JSON-объект программа должна записать в файл addresses.json."
   ]
  },
  {
   "cell_type": "code",
   "execution_count": null,
   "id": "457a18bd",
   "metadata": {},
   "outputs": [],
   "source": [
    "import json\n",
    "import csv\n",
    "\n",
    "with open('playgrounds.csv', encoding='utf-8') as file:\n",
    "    data = file.read()\n",
    "    \n",
    "    rows = [r.split(';') for r in data.splitlines()]\n",
    "    del rows[0]\n",
    "    \n",
    "    mydict = {}\n",
    "    for row in rows:\n",
    "        mydict.setdefault(row[1], {}).setdefault(row[2], []).append(row[3])\n",
    "        \n",
    "    with open('addresses.json', 'w') as result:\n",
    "        json.dump(mydict, result, indent=3, ensure_ascii=False)"
   ]
  },
  {
   "cell_type": "markdown",
   "id": "b5289368",
   "metadata": {},
   "source": [
    "Вам доступен файл students.**json**, содержащий список JSON-объектов, которые представляют данные о студентах некоторого курса.Напишите программу, которая определяет студентов, **удовлетворяющих следующим условиям**: возраст 18 лет или более, прогресс по курсу 75% или более. Программа должна создать файл data.**csv**"
   ]
  },
  {
   "cell_type": "code",
   "execution_count": 17,
   "id": "97c759d2",
   "metadata": {},
   "outputs": [
    {
     "data": {
      "text/plain": [
       "True"
      ]
     },
     "execution_count": 17,
     "metadata": {},
     "output_type": "execute_result"
    }
   ],
   "source": [
    "import json\n",
    "import csv\n",
    "\n",
    "with open('students.json', 'r', encoding='utf-8') as file1:\n",
    "    data = json.load(file1) # передаем файловый объект\n",
    "    \n",
    "    f_data = list(filter(lambda x: int(x.get('age')) >= 18 and int(x.get('progress')) >= 75, data))\n",
    "    \n",
    "    result = []\n",
    "    \n",
    "    for row in f_data:\n",
    "        result.append([row.get('name'), row.get('phone')])\n",
    "        \n",
    "    sorted_result = sorted(result, key=lambda x: x[0])\n",
    "            \n",
    "    columns = ['name','phone']\n",
    "\n",
    "    with open('data.csv', 'w', encoding='UTF-8', newline='') as file2:\n",
    "        writer = csv.writer(file2)\n",
    "        writer.writerow(columns)                 # запись заголовков\n",
    "        for row in sorted_result:                         # запись строк\n",
    "            writer.writerow(row)"
   ]
  },
  {
   "cell_type": "markdown",
   "id": "c7edf96f",
   "metadata": {},
   "source": [
    "Вам доступен архив workbook.**zip**, содержащий различные папки и файлы. Напишите программу, которая выводит **суммарный объем файлов этого архива в сжатом и не сжатом видах в байтах**.\n",
    "            \n",
    "    \n",
    "   \n",
    "    "
   ]
  },
  {
   "cell_type": "code",
   "execution_count": 18,
   "id": "2a5507c5",
   "metadata": {},
   "outputs": [
    {
     "name": "stdout",
     "output_type": "stream",
     "text": [
      "Kathleen Lyons \n",
      "  Email: balchen@att.net \n",
      "  Plan: Gold \n",
      "\n",
      "William Townsend \n",
      "  Email: kosact@verizon.net \n",
      "  Plan: Gold \n",
      "\n",
      "Dorothy Dennis \n",
      "  Email: sequin@live.com \n",
      "  Plan: Gold \n",
      "\n",
      "Stephanie Bush \n",
      "  Email: neuffer@live.com \n",
      "  Plan: Gold \n",
      "\n",
      "Brenda Young \n",
      "  Email: retoh@outlook.com \n",
      "  Plan: Silver \n",
      "\n",
      "Pamela Hicks \n",
      "  Email: corrada@sbcglobal.net \n",
      "  Plan: Silver \n",
      "\n",
      "Clayton Morris \n",
      "  Email: berserk@yahoo.com \n",
      "  Plan: Silver \n",
      "\n",
      "Joseph Moore \n",
      "  Email: ylchang@sbcglobal.net \n",
      "  Plan: Silver \n",
      "\n",
      "Tracy Wallace \n",
      "  Email: sblack@me.com \n",
      "  Plan: Silver \n",
      "\n",
      "Kenneth Richardson \n",
      "  Email: tbusch@me.com \n",
      "  Plan: Bronze \n",
      "\n",
      "Russell Smith \n",
      "  Email: isaacson@comcast.net \n",
      "  Plan: Bronze \n",
      "\n",
      "Mary Griffin \n",
      "  Email: sonnen@yahoo.com \n",
      "  Plan: Basic \n",
      "\n",
      "Tyler Walker \n",
      "  Email: noahb@comcast.net \n",
      "  Plan: Basic \n",
      "\n",
      "Gregory Hughes \n",
      "  Email: juliano@att.net \n",
      "  Plan: Basic \n",
      "\n",
      "Megan Patterson \n",
      "  Email: hoangle@outlook.com \n",
      "  Plan: Basic \n",
      "\n"
     ]
    }
   ],
   "source": [
    "from zipfile import ZipFile\n",
    "\n",
    "with ZipFile('workbook.zip') as zip_file:\n",
    "    sum_file = 0\n",
    "    sum_compress = 0\n",
    "            \n",
    "    for info in zip_file.infolist():\n",
    "        sum_file += info.file_size\n",
    "        sum_compress += info.compress_size\n",
    "        \n",
    "    print(f'Объем исходных файлов: {sum_file} байт(а)')\n",
    "    print(f'Объем сжатых файлов: {sum_compress} байт(а)')\n"
   ]
  },
  {
   "cell_type": "markdown",
   "id": "1bc47b84",
   "metadata": {},
   "source": [
    "Вам доступен архив workbook.zip, содержащий различные папки и файлы. Напишите программу, которая выводит название файла из этого архива, который имеет **наилучший показатель степени сжатия**."
   ]
  },
  {
   "cell_type": "code",
   "execution_count": null,
   "id": "daab4051",
   "metadata": {},
   "outputs": [],
   "source": [
    "from zipfile import ZipFile\n",
    "import os\n",
    "\n",
    "with ZipFile('workbook.zip') as zip_file:\n",
    "    \n",
    "    best_zip = 0\n",
    "    file_name = ''\n",
    "    \n",
    "    for info in zip_file.infolist():\n",
    "        if info.is_dir() == False and 100 - (info.compress_size / info.file_size * 100) > best_zip:\n",
    "            best_zip = 100 - (info.compress_size / info.file_size * 100)\n",
    "            file_name = os.path.basename(info.filename) # получаем имя файла без указания пути\n",
    "            \n",
    "    print(file_name)"
   ]
  },
  {
   "cell_type": "code",
   "execution_count": 43,
   "id": "5bd872aa",
   "metadata": {},
   "outputs": [
    {
     "name": "stdout",
     "output_type": "stream",
     "text": [
      "Books: $7969\n",
      "Courses: $3955\n",
      "Merch: $4083\n",
      "Tutorials: $3730\n"
     ]
    }
   ],
   "source": [
    "from collections import defaultdict\n",
    "\n",
    "data = [('Books', 1343), ('Books', 1166), ('Merch', 616), ('Courses', 966), ('Merch', 1145), ('Courses', 1061), ('Books', 848), ('Courses', 964), ('Tutorials', 832), ('Merch', 642), ('Books', 815), ('Tutorials', 1041), ('Books', 1218), ('Tutorials', 880), ('Books', 1003), ('Merch', 951), ('Books', 920), ('Merch', 729), ('Tutorials', 977), ('Books', 656)]\n",
    "\n",
    "profit = defaultdict(int, data)\n",
    "\n",
    "for elem in data[:-3]:\n",
    "    profit[elem[0]] += elem[1]\n",
    "\n",
    "profit = dict(sorted(profit.items()))\n",
    "    \n",
    "for key in profit:\n",
    "    print(f\"{key}: ${profit[key]}\")"
   ]
  },
  {
   "cell_type": "markdown",
   "id": "1005e917",
   "metadata": {
    "scrolled": true
   },
   "source": [
    "Вам доступен **словарь** data с четным количеством элементов. Дополните приведенный ниже код, чтобы он вывел данный словарь, **расположив его элементы по следующему правилу**: первый, последний, второй, предпоследний, третий, и так далее.\n",
    "\n",
    "\n"
   ]
  },
  {
   "cell_type": "code",
   "execution_count": 7,
   "id": "b570cf29",
   "metadata": {},
   "outputs": [
    {
     "name": "stdout",
     "output_type": "stream",
     "text": [
      "OrderedDict([('Name', 'Брусника'), ('SeatsCount', '10'), ('IsNetObject', 'да'), ('Address', 'город Москва, переулок Сивцев Вражек, дом 6/2'), ('OperatingCompany', 'Брусника'), ('District', 'район Арбат'), ('TypeObject', 'кафе'), ('AdmArea', 'Центральный административный округ')])\n"
     ]
    }
   ],
   "source": [
    "from collections import OrderedDict\n",
    "\n",
    "data = OrderedDict({'Name': 'Брусника', 'IsNetObject': 'да', 'OperatingCompany': 'Брусника', 'TypeObject': 'кафе', 'AdmArea': 'Центральный административный округ', 'District': 'район Арбат', 'Address': 'город Москва, переулок Сивцев Вражек, дом 6/2', 'SeatsCount': '10'})\n",
    "\n",
    "\n",
    "rule = [False if i % 2 == 0 else True for i in range(len(data))]\n",
    "result = OrderedDict()\n",
    "\n",
    "for r in rule:    \n",
    "    k, v = data.popitem(last=r)\n",
    "    result[k] = v\n",
    "    \n",
    "print(result)\n",
    "\n",
    "\n"
   ]
  },
  {
   "cell_type": "markdown",
   "id": "b5361a5e",
   "metadata": {},
   "source": [
    "**Реализуйте функцию** custom_sort(), которая принимает два аргумента в следующем порядке:\n",
    "ordered_dict — словарь OrderedDict\n",
    "by_values — булево значение, по умолчанию имеет значение False\n",
    "\n",
    "Функция должна сортировать словарь ordered_dict:\n",
    "по ключам, если by_values имеет значение False\n",
    "по значениям, если by_values имеет значение True\n",
    "\n",
    "Примечание 1. Функция должна **изменять переданный словарь**, а не возвращать новый. Возвращаемым значением функции должно быть None.\n",
    "\n",
    "Примечание 2. Гарантируется, что переданный в функцию **словарь можно отсортировать**, то есть он не содержит ключи, имеющие разные типы, а также значения, имеющие разные типы.\n",
    "\n",
    "Примечание 3. Если два элемента имеют равные значения, то следует сохранить их исходный порядок следования.\n",
    "\n",
    "Примечание 4. В тестирующую систему сдайте программу, содержащую только необходимую функцию custom_sort(), но не код, вызывающий ее."
   ]
  },
  {
   "cell_type": "code",
   "execution_count": null,
   "id": "322be83e",
   "metadata": {},
   "outputs": [],
   "source": [
    "from collections import OrderedDict\n",
    "\n",
    "\n",
    "def custom_sort(ordered_dict, by_values=False):\n",
    "    if by_values:\n",
    "        for key in sorted(ordered_dict, key=lambda x: ordered_dict[x]):\n",
    "            ordered_dict.move_to_end(key)   \n",
    "    else:\n",
    "        for key in sorted(ordered_dict): #сортировка по ключам\n",
    "            ordered_dict.move_to_end(key)\n",
    "                   \n",
    "    return None"
   ]
  },
  {
   "cell_type": "markdown",
   "id": "ff94bd09",
   "metadata": {},
   "source": [
    "Вам доступен список files, содержащий названия различных файлов. Дополните приведенный ниже код, чтобы он вывел все расширения файлов, присутствующие в списке files, **указав для каждого количество** файлов с данным расширением. Расширения должны быть **расположены в лексикографическом порядке**, каждый на отдельной строке"
   ]
  },
  {
   "cell_type": "code",
   "execution_count": 11,
   "id": "d977f1b6",
   "metadata": {},
   "outputs": [
    {
     "name": "stdout",
     "output_type": "stream",
     "text": [
      "csv: 5\n",
      "exe: 12\n",
      "jpeg: 7\n",
      "json: 4\n",
      "mp3: 5\n",
      "mp4: 6\n",
      "pkl: 1\n",
      "py: 4\n",
      "xml: 4\n",
      "zip: 4\n"
     ]
    }
   ],
   "source": [
    "from collections import Counter\n",
    "\n",
    "files = ['emoji_smile.jpeg', 'city-of-the-sun.mp3', 'dhook_hw.json', 'sample.xml',\n",
    "         'teamspeak3.exe', 'project_module3.py', 'math_lesson3.mp4', 'old_memories.mp4',\n",
    "         'spiritfarer.exe', 'backups.json', 'python_for_beg1.mp4', 'emoji_angry.jpeg',\n",
    "         'exam_results.csv', 'project_main.py', 'classes.csv', 'plants.xml',\n",
    "         'cant-help-myself.mp3', 'microsoft_edge.exe', 'steam.exe', 'math_lesson4.mp4',\n",
    "         'city.jpeg', 'bad-disease.mp3', 'beauty.jpeg', 'hollow_knight_silksong.exe',\n",
    "         'whatsapp.exe', 'photoshop.exe', 'telegram.exe', 'yandex_browser.exe',\n",
    "         'math_lesson7.mp4', 'students.csv', 'emojis.zip', '7z.zip',\n",
    "         'bones.mp3', 'python3.zip', 'dhook_lsns.json', 'carl_backups.json',\n",
    "         'forest.jpeg', 'python_for_pro8.mp4', 'yandexdisc.exe', 'but-you.mp3',\n",
    "         'project_module1.py', 'nothing.xml', 'flowers.jpeg', 'grades.csv',\n",
    "         'nvidia_gf.exe', 'small_txt.zip', 'project_module2.py', 'tab.csv',\n",
    "         'note.xml', 'sony_vegas11.exe', 'friends.jpeg', 'data.pkl']\n",
    "\n",
    "\n",
    "extensions = []\n",
    "\n",
    "for i in files:\n",
    "    extensions.append(i.split('.')[-1])\n",
    "    \n",
    "counter = Counter(extensions)\n",
    "\n",
    "counter = sorted(counter.items(), key=lambda x: x[0])\n",
    "\n",
    "for i in counter:\n",
    "    print(f'{i[0]}: {i[1]}')\n",
    "\n"
   ]
  },
  {
   "cell_type": "markdown",
   "id": "992f8c4d",
   "metadata": {},
   "source": [
    "Вам доступен текстовый файл pythonzen.txt, содержащий текст на английском языке. Напишите программу, которая **определяет, сколько раз встречается каждая буква в этом тексте**. Буквы и их количество должны выводиться в лексикографическом порядке, каждая на отдельной строке."
   ]
  },
  {
   "cell_type": "code",
   "execution_count": null,
   "id": "17fc243e",
   "metadata": {},
   "outputs": [],
   "source": [
    "from collections import Counter\n",
    "\n",
    "with open('pythonzen.txt', encoding='utf-8') as file:\n",
    "    data = file.read()\n",
    "    \n",
    "    counter = Counter(filter(str.isalpha, data.lower()))\n",
    "    \n",
    "    counter = sorted(counter.items(), key=lambda x: x[0])\n",
    "\n",
    "    for i in counter:\n",
    "        print(f'{i[0]}: {i[1]}')"
   ]
  },
  {
   "cell_type": "markdown",
   "id": "d7f626ce",
   "metadata": {},
   "source": [
    "Дана последовательность слов. Напишите программу, которая выводит **наиболее часто встречаемое слово в этой последовательности**."
   ]
  },
  {
   "cell_type": "code",
   "execution_count": null,
   "id": "c20a9b19",
   "metadata": {},
   "outputs": [],
   "source": [
    "from collections import Counter\n",
    "\n",
    "letters = input().lower().split(' ')\n",
    "\n",
    "cnt = Counter(letters)\n",
    "\n",
    "print(cnt.most_common(1)[0][0])"
   ]
  },
  {
   "cell_type": "markdown",
   "id": "f715f093",
   "metadata": {},
   "source": [
    "Дана последовательность слов. Напишите программу, которая выводит **наименее часто встречаемое слово в этой последовательности**. Если таких слов несколько, программа должна вывести их все. Программа должна определить наименее часто встречаемое слово в введенной последовательности и вывести его в нижнем регистре. Если таких слов несколько, программа должна вывести их все **в лексикографическом порядке**, в нижнем регистре, разделяя запятой и пробелом."
   ]
  },
  {
   "cell_type": "code",
   "execution_count": null,
   "id": "64e4c382",
   "metadata": {},
   "outputs": [],
   "source": [
    "from collections import Counter\n",
    "\n",
    "letters = input().lower().split(' ')\n",
    "\n",
    "counter = Counter(letters)\n",
    "\n",
    "result = []\n",
    "\n",
    "for key,value in counter.items():\n",
    "    if value == min(counter.values()):\n",
    "        result.append(key)\n",
    "\n",
    "result = sorted(result)        \n",
    "print(*result, sep=', ')"
   ]
  },
  {
   "cell_type": "markdown",
   "id": "16e1d17a",
   "metadata": {},
   "source": [
    "Определить, какой общий доход принес каждый продукт и вывести названия всех продуктов, **указав для каждого соответствующую общую прибыль**. Продукты должны быть расположены в лексикографическом порядке, каждый на отдельной строке. Использовать **defaultdict**."
   ]
  },
  {
   "cell_type": "code",
   "execution_count": 1,
   "id": "410e7280",
   "metadata": {},
   "outputs": [
    {
     "name": "stdout",
     "output_type": "stream",
     "text": [
      "Books: $7969\n",
      "Courses: $2991\n",
      "Merch: $4083\n",
      "Tutorials: $3730\n"
     ]
    }
   ],
   "source": [
    "\n",
    "from collections import defaultdict\n",
    "\n",
    "data = [('Books', 1343), ('Books', 1166), ('Merch', 616), ('Courses', 966), ('Merch', 1145), ('Courses', 1061), ('Books', 848), ('Courses', 964), ('Tutorials', 832), ('Merch', 642), ('Books', 815), ('Tutorials', 1041), ('Books', 1218), ('Tutorials', 880), ('Books', 1003), ('Merch', 951), ('Books', 920), ('Merch', 729), ('Tutorials', 977), ('Books', 656)]\n",
    "\n",
    "d = defaultdict(int)\n",
    "\n",
    "for name, summ in data:\n",
    "        if name not in d:\n",
    "            d.setdefault(name, summ)\n",
    "        else:\n",
    "            d[name] += summ\n",
    "\n",
    "\n",
    "sorted_tuple = sorted(d.items(), key=lambda x: x[0])\n",
    "\n",
    "for k, v in sorted_tuple:\n",
    "    print(f'{k}: ${v}')\n"
   ]
  },
  {
   "cell_type": "markdown",
   "id": "78aff7cd",
   "metadata": {},
   "source": [
    "Реализуйте функцию flip_dict(), которая принимает один аргумент:\n",
    "dict_of_lists — словарь, в котором ключом является число или строка, а значением — список чисел или строк.\n",
    "Функция должна возвращать новый словарь (тип defaultdict с типом list в качестве значения по умолчанию), который представляет собой **«перевернутый» словарь** dict_of_lists (представив ключи в виде значений, а значения — в виде ключей)."
   ]
  },
  {
   "cell_type": "code",
   "execution_count": 27,
   "id": "c30907cb",
   "metadata": {},
   "outputs": [
    {
     "name": "stdout",
     "output_type": "stream",
     "text": [
      "Accounting\n"
     ]
    }
   ],
   "source": [
    "from collections import defaultdict\n",
    "\n",
    "def flip_dict(dict_of_lists):\n",
    "    dict_of_lists_flipped = defaultdict(list)\n",
    "    \n",
    "    for key, values in dict_of_lists.items():\n",
    "        for value in values:\n",
    "            dict_of_lists_flipped[value].append(key)\n",
    "            \n",
    "    return dict_of_lists_flipped\n",
    "\n",
    "\n",
    "\n"
   ]
  },
  {
   "cell_type": "markdown",
   "id": "52da5960",
   "metadata": {},
   "source": [
    "Реализуйте функцию best_sender(), которая принимает два аргумента в следующем порядке:\n",
    "messages — список сообщений,\n",
    "senders — список имен отправителей.\n",
    "Функция должна **определять отправителя, имеющего наибольшее количество слов, и возвращать его имя**. Если таких отправителей несколько, следует вернуть имя того, чье имя **больше в лексикографическом сравнении**."
   ]
  },
  {
   "cell_type": "code",
   "execution_count": null,
   "id": "a5aedaea",
   "metadata": {},
   "outputs": [],
   "source": [
    "from collections import defaultdict\n",
    "\n",
    "def best_sender(messages, senders):\n",
    "    \n",
    "    stats = defaultdict(int)\n",
    "    \n",
    "    for k, v in zip(senders, messages):\n",
    "        stats[k]+= int(len(v.split()))\n",
    "        \n",
    "    result =  max(stats, key=lambda x: (stats[x], x))\n",
    "    \n",
    "    return result"
   ]
  },
  {
   "cell_type": "markdown",
   "id": "84028637",
   "metadata": {},
   "source": [
    "Дана последовательность слов. Напишите программу, которая **группирует слова из этой последовательности по их длине и определяет количество слов в каждой полученной группе**."
   ]
  },
  {
   "cell_type": "code",
   "execution_count": null,
   "id": "d0a4cdea",
   "metadata": {},
   "outputs": [],
   "source": [
    "from collections import Counter\n",
    "\n",
    "letters = input().split(' ')\n",
    "\n",
    "lens = []\n",
    "\n",
    "for i in letters:\n",
    "    lens.append(len(i))\n",
    "\n",
    "counter = Counter(lens) #ключ - длина слова, значение - количество этих цифр в списке    \n",
    "\n",
    "sorted_counter = sorted(counter.items(), key=lambda item: item[1])\n",
    "\n",
    "for key, value in sorted_counter:\n",
    "    print(f'Слов длины {key}: {value}')"
   ]
  },
  {
   "cell_type": "markdown",
   "id": "077eac2c",
   "metadata": {},
   "source": [
    "Дан список имен учеников и их оценок за экзамен. Напишите программу, которая **определяет второго по счету ученика, имеющего самую низкую оценку**."
   ]
  },
  {
   "cell_type": "code",
   "execution_count": null,
   "id": "02964e23",
   "metadata": {},
   "outputs": [],
   "source": [
    "import sys\n",
    "\n",
    "from collections import defaultdict\n",
    "\n",
    "\n",
    "inp = [s.strip() for s in sys.stdin]\n",
    "\n",
    "d = {k: v for k, v in map(str.split, inp)}\n",
    "\n",
    "sorted_d = sorted(d.items(), key=lambda x: int(x[1])) \n",
    "\n",
    "print(sorted_d[1][0])"
   ]
  },
  {
   "cell_type": "markdown",
   "id": "a45b235a",
   "metadata": {},
   "source": [
    "Вам доступен архив workbook.**zip**, содержащий различные папки и файлы. Напишите программу, которая **выводит названия файлов из этого архива, которые были созданы или изменены позднее 2021-11-30 14:22:00**. Названия файлов должны быть расположены **в лексикографическом порядке**, каждое на отдельной строке."
   ]
  },
  {
   "cell_type": "code",
   "execution_count": 1,
   "id": "4dca4285",
   "metadata": {},
   "outputs": [
    {
     "data": {
      "text/plain": [
       "['countries.json',\n",
       " 'data_sample.csv',\n",
       " 'readme.txt',\n",
       " 'task_results.xlsx',\n",
       " 'earth.jpg',\n",
       " 'python.pdf',\n",
       " 'shopping_list.txt',\n",
       " 'exam.txt',\n",
       " 'fipi_demo_2022.pdf',\n",
       " 'homework.py']"
      ]
     },
     "execution_count": 1,
     "metadata": {},
     "output_type": "execute_result"
    }
   ],
   "source": [
    "from zipfile import ZipFile\n",
    "from datetime import *\n",
    "import os\n",
    "\n",
    "date = datetime(2021, 11, 30, 14, 22, 0)\n",
    "file_names = []\n",
    "\n",
    "with ZipFile('workbook.zip') as zip_file:\n",
    "    for info in zip_file.infolist():\n",
    "        name_file = os.path.basename(info.filename)\n",
    "        \n",
    "        if datetime(*info.date_time) >= date and name_file != '':\n",
    "            file_names.append(name_file)\n",
    "            \n",
    "file_names"
   ]
  },
  {
   "cell_type": "markdown",
   "id": "2997aa91",
   "metadata": {},
   "source": [
    "Вам доступен список кортежей staff с данными о сотрудниках некоторой компании. Первым элементом кортежа является название отдела, вторым — имя и фамилия сотрудника, работающего в этом отделе.\n",
    "\n",
    "Дополните приведенный ниже код, чтобы он определил, **какое число сотрудников работает в каждом отделе и вывел названия всех отделов, указав для каждого соответствующее количество сотрудников**. Отделы должны быть расположены в лексикографическом порядке, каждый на отдельной строке"
   ]
  },
  {
   "cell_type": "code",
   "execution_count": 2,
   "id": "f4864354",
   "metadata": {},
   "outputs": [
    {
     "name": "stdout",
     "output_type": "stream",
     "text": [
      "Accounting: Aaron Ferguson, Ann Bell, Brenda Davis, Casey Jenkins, Craig Wood, Dale Houston, Edna Cunningham, Gloria Higgins, James Wilkins, Jane Jackson, John Watts, Kay Scott, Kimberly Reynolds, Linda Hudson, Michelle Wright, Rosemary Garcia, Steven Diaz\n",
      "Developing: Arlene Gibson, Deborah George, Joyce Rivera, Miguel Norris, Nicole Watts, Thomas Porter, Wilma Woods\n",
      "Marketing: Andrew Clark, Bernice Ramos, Billy Lloyd, Carol Peters, Charles Bailey, Gail Hill, Helen Taylor, John Gonzalez, Joyce Lawrence, Mario Reynolds, Mary King, Ralph Morgan, Sam Davis\n",
      "Sales: Alicia Mendoza, Charlotte Cox, Chester Fernandez, Connie Reid, Evelyn Martin, Gladys Taylor, John Washington, John White, Jose Taylor, Joseph Lee, Katie Warner, Marie Cooper, Robert Barnes\n"
     ]
    }
   ],
   "source": [
    "from collections import defaultdict\n",
    "\n",
    "s = [('Developing', 'Miguel Norris'), ('Sales', 'Connie Reid'), ('Sales', 'Joseph Lee'), ('Marketing', 'Carol Peters'), ('Accounting', 'Linda Hudson'), ('Accounting', 'Ann Bell'), ('Marketing', 'Ralph Morgan'), ('Accounting', 'Gloria Higgins'), ('Developing', 'Wilma Woods'), ('Developing', 'Wilma Woods'), ('Marketing', 'Bernice Ramos'), ('Marketing', 'Joyce Lawrence'), ('Accounting', 'Craig Wood'), ('Developing', 'Nicole Watts'), ('Sales', 'Jose Taylor'), ('Accounting', 'Linda Hudson'), ('Accounting', 'Edna Cunningham'), ('Sales', 'Jose Taylor'), ('Marketing', 'Helen Taylor'), ('Accounting', 'Kimberly Reynolds'), ('Marketing', 'Mary King'), ('Sales', 'Joseph Lee'), ('Accounting', 'Gloria Higgins'), ('Marketing', 'Andrew Clark'), ('Accounting', 'John Watts'), ('Accounting', 'Rosemary Garcia'), ('Accounting', 'Steven Diaz'), ('Marketing', 'Mary King'), ('Sales', 'Gladys Taylor'), ('Developing', 'Thomas Porter'), ('Accounting', 'Brenda Davis'), ('Sales', 'Connie Reid'), ('Sales', 'Alicia Mendoza'), ('Marketing', 'Mario Reynolds'), ('Sales', 'John White'), ('Developing', 'Joyce Rivera'), ('Accounting', 'Steven Diaz'), ('Developing', 'Arlene Gibson'), ('Sales', 'Robert Barnes'), ('Sales', 'Charlotte Cox'), ('Accounting', 'Craig Wood'), ('Marketing', 'Carol Peters'), ('Marketing', 'Ralph Morgan'), ('Accounting', 'Kay Scott'), ('Sales', 'Evelyn Martin'), ('Marketing', 'Billy Lloyd'), ('Sales', 'Gladys Taylor'), ('Developing', 'Deborah George'), ('Sales', 'Charlotte Cox'), ('Marketing', 'Sam Davis'), ('Sales', 'John White'), ('Sales', 'Marie Cooper'), ('Marketing', 'John Gonzalez'), ('Sales', 'John Washington'), ('Sales', 'Chester Fernandez'), ('Sales', 'Alicia Mendoza'), ('Sales', 'Katie Warner'), ('Accounting', 'Jane Jackson'), ('Sales', 'Chester Fernandez'), ('Marketing', 'Charles Bailey'), ('Marketing', 'Gail Hill'), ('Accounting', 'Casey Jenkins'), ('Accounting', 'James Wilkins'), ('Accounting', 'Casey Jenkins'), ('Marketing', 'Mario Reynolds'), ('Accounting', 'Aaron Ferguson'), ('Accounting', 'Kimberly Reynolds'), ('Sales', 'Robert Barnes'), ('Accounting', 'Aaron Ferguson'), ('Accounting', 'Jane Jackson'), ('Developing', 'Deborah George'), ('Accounting', 'Michelle Wright'), ('Accounting', 'Dale Houston')]\n",
    "\n",
    "d = defaultdict(set)\n",
    "for k, v in s:\n",
    "    d[k].add(v)\n",
    "\n",
    "sorted_tuple = sorted(d.items(), key=lambda x: x[0])\n",
    "\n",
    "for k, v in sorted_tuple:\n",
    "    print(f\"{k}: {', '.join(sorted(list(v)))}\")"
   ]
  },
  {
   "cell_type": "markdown",
   "id": "eb0d544c",
   "metadata": {},
   "source": [
    "Реализуйте **функцию** extract_this(), которая принимает один или более аргументов в следующем порядке:\n",
    "zip_name — название zip архива, например, data.zip\n",
    "*args — переменное количество позиционных аргументов, каждый из которых является названием некоторого файла\n",
    "Функция должна **извлекать файлы** *args **из архива** zip_name **в папку с программой**. Если в функцию не передано ни одного названия файла для извлечения, то функция должна извлечь все файлы из архива."
   ]
  },
  {
   "cell_type": "code",
   "execution_count": null,
   "id": "adf45efe",
   "metadata": {},
   "outputs": [],
   "source": [
    "from zipfile import ZipFile\n",
    "\n",
    "\n",
    "def extract_this(zip_name, *args):\n",
    "    with ZipFile(zip_name, mode='a') as zip_file:\n",
    "        if len(args) == 0:\n",
    "            args_fullname = None\n",
    "            zip_file.extractall(members=args_fullname)\n",
    "        else:\n",
    "            zip_file.extractall(members=args)"
   ]
  },
  {
   "cell_type": "markdown",
   "id": "176abb3b",
   "metadata": {},
   "source": [
    "Вам доступен файл name_log.**csv**, в котором находятся логи изменения имени пользователя. В первом столбце записано измененное имя пользователя, во втором — адрес электронной почты, в третьем — дата и время изменения. При этом email пользователь менять не может, только имя. Напишите программу, которая **определяет, сколько раз пользователь менял имя**. Программа должна вывести адреса электронных почт пользователей, указав для каждого соответствующее количество смененных имен. Почтовые ящики должны быть расположены в лексикографическом порядке, каждый на отдельной строке."
   ]
  },
  {
   "cell_type": "code",
   "execution_count": null,
   "id": "716dd042",
   "metadata": {},
   "outputs": [],
   "source": [
    "import csv\n",
    "from collections import Counter\n",
    "\n",
    "with open('name_log.csv', encoding='utf-8') as file:\n",
    "    headers, *rows = csv.reader(file) #список без заголовка\n",
    "    \n",
    "    emails = map(lambda x: x[1], rows)\n",
    "    \n",
    "    counter = Counter(emails)\n",
    "    \n",
    "    sorted_counter = sorted(counter.items())\n",
    "    \n",
    "    for k, v in sorted_counter:\n",
    "        print(f'{k}: {v}')"
   ]
  },
  {
   "cell_type": "markdown",
   "id": "014ca6ca",
   "metadata": {},
   "source": [
    "**Реализуйте функцию** scrabble(), которая принимает два аргумента в следующем порядке: symbols — набор символов, word — слово.\n",
    "Функция должна **возвращать True, если из набора символов symbols можно составить слово word, или False в противном случае**.\n"
   ]
  },
  {
   "cell_type": "code",
   "execution_count": 8,
   "id": "0ce8a018",
   "metadata": {},
   "outputs": [
    {
     "data": {
      "text/plain": [
       "<_csv.reader at 0x2cdceced1e0>"
      ]
     },
     "execution_count": 8,
     "metadata": {},
     "output_type": "execute_result"
    }
   ],
   "source": [
    "from collections import Counter\n",
    "\n",
    "def scrabble(symbols, word):\n",
    "    word = word.lower()\n",
    "    symbols = symbols.lower()\n",
    "       \n",
    "    counter_w = Counter(word)\n",
    "    counter_s = Counter(symbols)\n",
    "    \n",
    "    empty = Counter()\n",
    "    \n",
    "    intersection = counter_w & counter_s\n",
    "    \n",
    "    if counter_w - intersection == empty:   \n",
    "        return True\n",
    "    else:\n",
    "        return False"
   ]
  },
  {
   "cell_type": "markdown",
   "id": "76147dde",
   "metadata": {},
   "source": [
    "Для дополнительного заработка Тимур решил заняться продажей овощей. У него имеются данные о продажах за год, разделенные на четыре файла по кварталам: quarter1.csv, quarter2.csv, quarter3.csv и quarter4.csv. В каждом файле в первом столбце указывается название продукта, а в последующих — количество проданного продукта в килограммах за определенный месяц. Также присутствует файл prices.json, содержащий словарь, в котором ключом является название продукта, а значением — цена за килограмм в рублях. Напишите программу, которая выводит единственное число — сумму, заработанную Тимуром за год на продаже овощей."
   ]
  },
  {
   "cell_type": "code",
   "execution_count": 21,
   "id": "01e3cf58",
   "metadata": {},
   "outputs": [],
   "source": [
    "import csv, json\n",
    "from collections import Counter\n",
    "\n",
    "with (open('quarter1.csv', encoding='utf-8') as q1,\n",
    "     open('quarter2.csv', encoding='utf-8') as q2, \n",
    "     open('quarter3.csv', encoding='utf-8') as q3, \n",
    "     open('quarter4.csv', encoding='utf-8') as q4,\n",
    "     open('prices.json', 'r', encoding='utf-8') as prices_file):\n",
    "    headers_1, *sales_1 = csv.reader(q1)  #список без заголовка\n",
    "    headers_2, *sales_2 = csv.reader(q2)\n",
    "    headers_3, *sales_3 = csv.reader(q3)\n",
    "    headers_4, *sales_4 = csv.reader(q4)\n",
    "    prices = json.load(prices_file) # передаем файловый объект\n",
    "\n",
    "total_sales = Counter()\n",
    "\n",
    "for sales_q in [sales_1, sales_2, sales_3, sales_4]:\n",
    "    counter_sales_q = Counter({x[0]: sum(map(int, x[1:])) for x in sales_q})\n",
    "    \n",
    "    total_sales += counter_sales_q\n",
    "\n",
    "total_sum = sum([total_sales[k] * prices[k] for k in total_sales.keys()])\n",
    "\n",
    "print(total_sum)"
   ]
  },
  {
   "cell_type": "markdown",
   "id": "930c6846",
   "metadata": {},
   "source": [
    "Вам доступен архив workbook.zip, содержащий различные папки и файлы. Напишите программу, которая **выводит названия всех файлов из этого архива в лексикографическом порядке, указывая для каждого его дату изменения, а также объем до и после сжатия**. Между данными о двух файлах должна располагаться пустая строка.\n",
    "Если файл находится в папке, вывести следует только название без пути.\n",
    "В качестве отступов используйте два пробела."
   ]
  },
  {
   "cell_type": "code",
   "execution_count": null,
   "id": "6fbbd9af",
   "metadata": {},
   "outputs": [],
   "source": [
    "\n",
    "from zipfile import ZipFile\n",
    "from datetime import datetime\n",
    "\n",
    "with ZipFile('workbook.zip') as file:\n",
    "    k = [(i.filename.split('/')[-1], i.date_time, i.file_size, i.compress_size) for i in ZipFile.infolist(file) \n",
    "         if i.is_dir() == False]\n",
    "    k = sorted(k)\n",
    "    \n",
    "    for i in k:\n",
    "        print(f'{i[0]}')\n",
    "        print(f'  Дата модификации файла: {datetime(*i[1])}')\n",
    "        print(f'  Объем исходного файла: {i[2]} байт(а)')\n",
    "        print(f'  Объем сжатого файла: {i[3]} байт(а)\\n')"
   ]
  },
  {
   "cell_type": "markdown",
   "id": "887a9c33",
   "metadata": {},
   "source": [
    "Тимур продает книги по математике за 1 - 11 класс. У него есть список, в котором указаны все книги, имеющиеся в наличии. К Тимуру приходят n покупателей, называют номер класса, за который они хотят приобрести книгу, и сумму, которую они готовы заплатить, и если книга есть в наличии, Тимур ее продает.\n",
    "Напишите программу, которая **вычисляет общую сумму денег**, которую Тимур заработает на продаже книг. (using **Counter**)"
   ]
  },
  {
   "cell_type": "code",
   "execution_count": null,
   "id": "bf67cf72",
   "metadata": {},
   "outputs": [],
   "source": [
    "from collections import Counter\n",
    "\n",
    "availability = [int(x) for x in input().split()]\n",
    "\n",
    "availability_counter = Counter(availability)\n",
    "\n",
    "sales_data = list()\n",
    "\n",
    "n = int(input()) #кол-во покупателей\n",
    "\n",
    "for i in range(n):\n",
    "    sales_data.append(input().split()) \n",
    "    \n",
    "for element in sales_data:\n",
    "    element[0] = int(element[0])\n",
    "    element[1] = int(element[1])\n",
    "    \n",
    "\n",
    "cash_sum = 0\n",
    "\n",
    "for buyer in sales_data:\n",
    "    if not availability_counter:\n",
    "        break\n",
    "    else:\n",
    "        if buyer[0] in +availability_counter:\n",
    "            cash_sum += buyer[1]\n",
    "            availability_counter.subtract({buyer[0]:1})\n",
    "                   \n",
    "print(cash_sum)\n"
   ]
  },
  {
   "cell_type": "markdown",
   "id": "e3d561c1",
   "metadata": {},
   "source": [
    "**Реализуйте функцию** deep_update(), которая принимает три аргумента в следующем порядке: chainmap — объект типа ChainMap, элементами которого являются словари; key — хешируемый объект; value — произвольный объект. Функция должна **изменять все значения по ключу key во всех словарях в chainmap на value**. Если ключ key отсутствует в chainmap, функция должна добавить пару key: value в первый словарь. Функция должна изменять передаваемый объект типа ChainMap и возвращать значение None. Гарантируется, что передаваемый в функцию объект типа ChainMap содержит хотя бы один словарь."
   ]
  },
  {
   "cell_type": "code",
   "execution_count": null,
   "id": "62d69cbd",
   "metadata": {},
   "outputs": [],
   "source": [
    "from collections import ChainMap\n",
    "from collections import defaultdict \n",
    "\n",
    "def deep_update(chainmap, key, value):\n",
    "    \n",
    "    for element in chainmap.maps:\n",
    "        for k, v in element.items():\n",
    "            if k == key:\n",
    "                element[k] = value\n",
    "        chainmap.setdefault(key, value)\n",
    "                \n",
    "                \n",
    "    return None"
   ]
  },
  {
   "cell_type": "markdown",
   "id": "c8be9f30",
   "metadata": {},
   "source": [
    "**Реализуйте функцию** get_value(), которая принимает три аргумента в следующем порядке: chainmap — объект типа ChainMap, элементами которого являются словари; key — произвольный объект; from_left — булево значение, по умолчанию равное True. Функция должна **возвращать значение по ключу key из chainmap**, причем: если from_left имеет значение True, поиск ключа в chainmap должен происходить от первого словаря к последнему; если from_left имеет значение False, поиск ключа в chainmap должен происходить от последнего словаря к первому. Если ключ key отсутствует в chainmap, функция должна вернуть значение None."
   ]
  },
  {
   "cell_type": "code",
   "execution_count": null,
   "id": "2de5de2d",
   "metadata": {},
   "outputs": [],
   "source": [
    "from collections import ChainMap\n",
    "\n",
    "\n",
    "def get_value(chainmap, key, from_left = True):        \n",
    "    if from_left == True:\n",
    "        if key in chainmap:\n",
    "            return chainmap.get(key)\n",
    "        else:\n",
    "            return None\n",
    "    else:\n",
    "        if key in chainmap:\n",
    "                chainmap.maps.reverse()\n",
    "                return chainmap.get(key)\n",
    "        else:\n",
    "            return None"
   ]
  },
  {
   "cell_type": "markdown",
   "id": "dab7ced8",
   "metadata": {},
   "source": [
    "Напишите программу с использованием конструкции **try-except**, которая принимает на вход название текстового файла и выводит его содержимое. Если файла с данным названием нет в папке с программой, программа должна вывести текст: Файл не найден."
   ]
  },
  {
   "cell_type": "code",
   "execution_count": null,
   "id": "9ff48afe",
   "metadata": {},
   "outputs": [],
   "source": [
    "inp = input()\n",
    "\n",
    "try:\n",
    "    file = open(inp, 'r', encoding='utf-8')\n",
    "    try:\n",
    "        text = file.read()\n",
    "        print(text)\n",
    "    finally:\n",
    "        file.close()\n",
    "except FileNotFoundError:\n",
    "    print('Файл не найден')"
   ]
  },
  {
   "cell_type": "markdown",
   "id": "448c501c",
   "metadata": {},
   "source": [
    "**Реализуйте функцию** get_weekday(), которая принимает один аргумент: number — целое число (от 1 до 7 включительно).\n",
    "Функция должна возвращать полное название дня недели на русском, который соответствует числу number, при этом: если number не является целым числом, функция должна **возбуждать исключение** TypeError('Аргумент не является целым числом'); \n",
    "если number является целым числом, но не принадлежит отрезку, функция должна возбуждать исключение: ValueError('Аргумент не принадлежит требуемому диапазону')."
   ]
  },
  {
   "cell_type": "code",
   "execution_count": null,
   "id": "cb65aced",
   "metadata": {},
   "outputs": [],
   "source": [
    "def get_weekday(number):\n",
    "    week = { 1: \"Понедельник\", 2: \"Вторник\", 3: \"Среда\", 4: \"Четверг\", 5: \"Пятница\", \n",
    "            6: \"Суббота\", 7: \"Воскресенье\", }\n",
    "    \n",
    "    if not type(number) == int:\n",
    "        raise TypeError('Аргумент не является целым числом')\n",
    "        \n",
    "    elif not 1 <= number <= 7:\n",
    "        raise ValueError('Аргумент не принадлежит требуемому диапазону')\n",
    "    \n",
    "    else:\n",
    "        return week[number]"
   ]
  },
  {
   "cell_type": "markdown",
   "id": "951e8473",
   "metadata": {},
   "source": [
    "Напишите программу, которая принимает на вход название JSON файла, десериализует содержащийся в этом файле объект и выводит его.\n",
    "Если файла с данным названием нет в папке с программой, программа должна вывести текст: Файл не найден. Если файл с данным названием содержит некорректные данные (то есть не удовлетворяющие формату JSON), программа должна вывести текст: **Ошибка при десериализации**."
   ]
  },
  {
   "cell_type": "code",
   "execution_count": null,
   "id": "f1f197a0",
   "metadata": {},
   "outputs": [],
   "source": [
    "import json\n",
    "\n",
    "try:\n",
    "    file = open(input(), 'r', encoding='utf-8')\n",
    "    text = json.load(file)\n",
    "    print(text)\n",
    "except OSError:\n",
    "    print('Файл не найден')\n",
    "except ValueError:\n",
    "    print('Ошибка при десериализации')\n",
    "finally:\n",
    "    file.close()"
   ]
  },
  {
   "cell_type": "markdown",
   "id": "ee46de80",
   "metadata": {},
   "source": [
    "Реализуйте def recursive_sum() с использованием **рекурсии**, которая принимает один аргумент: nested_lists — список, элементами которого являются целые числа или списки, элементами которых, в свою очередь, также являются либо целые числа, либо списки; вложенность может быть произвольной.\n",
    "Функция должна вычислять сумму всех чисел во всех списках и возвращать полученный результат. Если список nested_lists пуст, функция должна вернуть число 0."
   ]
  },
  {
   "cell_type": "markdown",
   "id": "3934a90c",
   "metadata": {},
   "source": [
    "def recursive_sum(nested_lists):\n",
    "    total = 0\n",
    "    if len(nested_lists) == 0:\n",
    "        return 0\n",
    "    else:\n",
    "        for i in nested_lists:\n",
    "            if type(i) == int:\n",
    "                total += i\n",
    "            else:\n",
    "                total += recursive_sum(i)\n",
    "    return total\n"
   ]
  },
  {
   "cell_type": "markdown",
   "id": "ac247d64",
   "metadata": {},
   "source": [
    "Реализуйте linear() с использованием **рекурсии**, которая принимает один аргумент: nested_lists — список, элементами которого являются целые числа или списки, элементами которых, в свою очередь, также являются либо целые числа, либо списки; вложенность может быть произвольной. Функция должна возвращать новый список, представляющий собой **линеаризованный список** nested_lists."
   ]
  },
  {
   "cell_type": "markdown",
   "id": "94b4465f",
   "metadata": {},
   "source": [
    "def linear(nested_lists):\n",
    "    total = []\n",
    "    if len(nested_lists) == 0:\n",
    "        return []\n",
    "    else:\n",
    "        for i in nested_lists:\n",
    "            if type(i) == int:\n",
    "                total.append(i)\n",
    "            else:\n",
    "                total.extend(linear(i))\n",
    "    \n",
    "    return total"
   ]
  },
  {
   "cell_type": "markdown",
   "id": "91472a19",
   "metadata": {},
   "source": [
    "Реализуйте функцию get_all_values(), которая принимает два аргумента в следующем порядке: nested_dicts — словарь, содержащий в качестве значений произвольные объекты или словари, которые, в свою очередь, так же содержат в качестве значений произвольные объекты или словари, вложенность может быть произвольной; key — хешируемый объект. Функция должна определять все значения, которые соответствуют ключу key в словаре nested_dicts и всех его вложенных словарях, и возвращать их в виде множества. Если ключа key нет ни в одном словаре, функция должна вернуть пустое множество. **Рекурсия**"
   ]
  },
  {
   "cell_type": "code",
   "execution_count": null,
   "id": "36f2256b",
   "metadata": {},
   "outputs": [],
   "source": [
    "def get_all_values(nested_dicts, key):\n",
    "    total = set()\n",
    "    if key in nested_dicts:\n",
    "        total.add(nested_dicts[key])               # базовый случай\n",
    "    \n",
    "    for v in nested_dicts.values():\n",
    "        if type(v) == dict:\n",
    "            value = get_all_values(v, key)    # рекурсивный случай\n",
    "            if value is not None:\n",
    "                total.update(value) \n",
    "    return total\n"
   ]
  },
  {
   "cell_type": "markdown",
   "id": "8d9cc63a",
   "metadata": {},
   "source": [
    "Дана строка, содержащая латинские буквы и цифры. Напишите программу, которая сортирует символы в строке согласно следующим правилам: 1. все отсортированные строчные буквы стоят перед заглавными буквами; 2. все отсортированные заглавные буквы стоят перед цифрами; 3. все отсортированные нечетные цифры стоят перед отсортированными четными. **сортировка по нескольким условиям**"
   ]
  },
  {
   "cell_type": "code",
   "execution_count": null,
   "id": "3624fdfe",
   "metadata": {},
   "outputs": [],
   "source": [
    "string = input()\n",
    "\n",
    "sorted_string = sorted(string, key=lambda x: (x.isdigit() and int(x) % 2 == 0, x.isdigit() and int(x) % 2 == 1, \n",
    "                                              x.isalpha and x.isupper(), x, x.isalpha and x.islower()))\n",
    "\n",
    "print(''.join(x for x in sorted_string))"
   ]
  },
  {
   "cell_type": "markdown",
   "id": "8326965e",
   "metadata": {},
   "source": [
    "Напишите программу, которая определяет минимальное и максимальное значения функции на отрезке в целых точках. **eval**"
   ]
  },
  {
   "cell_type": "code",
   "execution_count": null,
   "id": "c450f848",
   "metadata": {},
   "outputs": [],
   "source": [
    "f = input()\n",
    "b = [int(x) for x in input().split()]\n",
    "\n",
    "print(f'Минимальное значение функции {f} на отрезке [{b[0]}; {b[1]}] равно {min([eval(f) for x in range(b[0], b[1]+1)])}')\n",
    "\n",
    "print(f'Максимальное значение функции {f} на отрезке [{b[0]}; {b[1]}] равно {max([eval(f) for x in range(b[0], b[1]+1)])}')"
   ]
  },
  {
   "cell_type": "markdown",
   "id": "3654c20d",
   "metadata": {},
   "source": [
    "**Замыкание.** Реализуйте функцию sourcetemplate(), которая принимает один аргумент: url — URL адрес.Функция sourcetemplate() должна возвращать функцию, которая принимает произвольное количество именованных аргументов и возвращает url адрес, объединенный со строкой запроса, сформированной из переданных аргументов. При вызове без аргументов она должна возвращать исходный url адрес без изменений."
   ]
  },
  {
   "cell_type": "code",
   "execution_count": null,
   "id": "26480a68",
   "metadata": {},
   "outputs": [],
   "source": [
    "def sourcetemplate(url):\n",
    "    def f(**kwargs):\n",
    "        if kwargs:\n",
    "            l = []\n",
    "            \n",
    "            for k,v in kwargs.items():\n",
    "                l.append(f'{k}={v}')\n",
    "                \n",
    "            l = sorted(l)\n",
    "            \n",
    "            result = '&'.join(l)\n",
    "            \n",
    "            return url + '?' + result\n",
    "        \n",
    "        else:\n",
    "            return url\n",
    "        \n",
    "    return f"
   ]
  },
  {
   "cell_type": "markdown",
   "id": "1ecb84a8",
   "metadata": {},
   "source": [
    "Реализуйте функцию top_grade() c использованием аннотаций типов, которая принимает один аргумент:grades — словарь, содержащий данные об ученике, а именно имя по ключу name и список оценок по ключу grades. Функция должна возвращать словарь, содержащий имя ученика по ключу name и его самую высокую оценку по ключу top_grade. **Аннотации типов**"
   ]
  },
  {
   "cell_type": "code",
   "execution_count": null,
   "id": "8a257e92",
   "metadata": {},
   "outputs": [],
   "source": [
    "def top_grade(grades: dict[str, str | list[int]]) -> dict[str, str | int]:\n",
    "    key_list = list(grades.keys())\n",
    "    \n",
    "    if isinstance(grades.get(key_list[1]), str):\n",
    "        max_grade = grades.get(key_list[1])\n",
    "    else:\n",
    "        max_grade = max(grades.get(key_list[1]))\n",
    "        \n",
    "    return {'name': grades.get(key_list[0]), 'top_grade': max_grade}"
   ]
  },
  {
   "cell_type": "markdown",
   "id": "e2591d7e",
   "metadata": {},
   "source": [
    "Реализуйте **декоратор** exception_decorator, который возвращает: кортеж (value, 'Функция выполнилась без ошибок'), если декорируемая функция завершила свою работу без ошибок, где value — возвращаемое значение декорируемой функции \\ кортеж (None, 'При вызове функции произошла ошибка'), если при выполнении декорируемой функции возникла ошибка."
   ]
  },
  {
   "cell_type": "code",
   "execution_count": null,
   "id": "2d7fd67d",
   "metadata": {},
   "outputs": [],
   "source": [
    "def exception_decorator(func):\n",
    "    def wrapper(*args, **kwargs):\n",
    "        try:\n",
    "            m = func(*args, **kwargs)\n",
    "            return (m, 'Функция выполнилась без ошибок')\n",
    "        except:\n",
    "            return (None, 'При вызове функции произошла ошибка')\n",
    "    return wrapper"
   ]
  },
  {
   "cell_type": "markdown",
   "id": "d13f1e15",
   "metadata": {},
   "source": [
    "Реализуйте **декоратор** takes_positive, который проверяет, что все аргументы, передаваемые в декорируемую функцию, являются положительными целыми числами. Если хотя бы один аргумент не удовлетворяет данному условию, декоратор должен **возбуждать исключение**: TypeError, если аргумент не является целым числом; ValueError, если аргумент является целым числом, но отрицательным или равным нулю."
   ]
  },
  {
   "cell_type": "code",
   "execution_count": null,
   "id": "a78d9556",
   "metadata": {},
   "outputs": [],
   "source": [
    "def takes_positive(func):\n",
    "    def wrapper(*args, **kwargs):\n",
    "        if all (isinstance(x, int) for x in  [*args, *kwargs.values()]):\n",
    "            if all(y > 0 for y in [*args, *kwargs.values()]):\n",
    "                m = func(*args, **kwargs) \n",
    "                return m\n",
    "            else:\n",
    "                raise ValueError\n",
    "        else:\n",
    "            raise TypeError\n",
    "                \n",
    "    return wrapper"
   ]
  },
  {
   "cell_type": "markdown",
   "id": "d9cc3e32",
   "metadata": {},
   "source": [
    "Реализуйте **декоратор** takes, который принимает произвольное количество позиционных аргументов, каждый из которых является типом данных.Декоратор должен проверять, что аргументы, передаваемые в декорируемую функцию, принадлежат одному из этих типов. Если хотя бы один аргумент не принадлежит одному из данных типов, декоратор должен возбуждать исключение TypeError. Также декоратор должен сохранять имя и строку документации декорируемой функции."
   ]
  },
  {
   "cell_type": "code",
   "execution_count": null,
   "id": "1f02a153",
   "metadata": {},
   "outputs": [],
   "source": [
    "import functools\n",
    "\n",
    "def takes(*args, **kwargs):\n",
    "    d = [i for i in args]\n",
    "    \n",
    "    def decorator(func):\n",
    "        @functools.wraps(func)\n",
    "        \n",
    "        def wrapper(*args, **kwargs):\n",
    "            value = func(*args, **kwargs)\n",
    "            flag = True\n",
    "            \n",
    "            for i in (*args, *kwargs.values()):\n",
    "                if type(i) in d:\n",
    "                    flag = True\n",
    "                else:\n",
    "                    flag = False\n",
    "                    break\n",
    "                    \n",
    "            if flag:\n",
    "                return value\n",
    "            else:\n",
    "                raise TypeError \n",
    "                \n",
    "        return wrapper\n",
    "    \n",
    "    return decorator"
   ]
  },
  {
   "cell_type": "markdown",
   "id": "48ae8312",
   "metadata": {},
   "source": [
    "Реализуйте **декоратор** ignore_exception, который принимает произвольное количество позиционных аргументов — типов исключений, и выводит текст: Исключение <тип исключения> обработано. если во время выполнения декорируемой функции было возбуждено **исключение**, принадлежащее одному из переданных типов. Если возбужденное исключение не принадлежит ни одному из переданных типов, оно должно быть возбуждено снова. Также декоратор должен сохранять имя и строку документации декорируемой функции."
   ]
  },
  {
   "cell_type": "code",
   "execution_count": null,
   "id": "89f38448",
   "metadata": {},
   "outputs": [],
   "source": [
    "import functools\n",
    "\n",
    "\n",
    "def ignore_exception(*args, **kwargs):\n",
    "    er = tuple([a for a in args])\n",
    "    \n",
    "    def decorator(func):\n",
    "        @functools.wraps(func)\n",
    "        \n",
    "        def wrapper(*args, **kwargs):\n",
    "            try:\n",
    "                value = func(*args, **kwargs)\n",
    "                return  value\n",
    "            except er as e:\n",
    "                print(f'Исключение {type(e).__name__} обработано')            \n",
    "        return wrapper\n",
    "    \n",
    "    return decorator"
   ]
  },
  {
   "cell_type": "markdown",
   "id": "694ca106",
   "metadata": {},
   "source": [
    "Вам доступна уже реализованная функция send_email(), которая принимает три аргумента в следующем порядке: name — имя, email_address — адрес электронной почты, text — содержание письма. Функция отправляет письмо пользователю с именем name на адрес email_address с содержанием text.\n",
    "\n",
    "1. Реализуйте функцию to_Timur() с помощью функции partial(), которая принимает один аргумент: \n",
    "text — содержание письма. Функция должна отправлять письмо пользователю с именем Тимур на адрес timyrik20@beegeek.ru с содержанием text.\n",
    "\n",
    "2. Реализуйте функцию send_an_invitation() с помощью функции partial(), которая принимает два аргумента в следующем порядке:\n",
    "name — имя, email_address — адрес электронной почты. Функция должна отправлять письмо на имя name и на адрес email_address со следующим содержанием: Школа BEEGEEK приглашает Вас на новый курс по программированию на языке Python. тутут....\n",
    "\n",
    "**partial**"
   ]
  },
  {
   "cell_type": "code",
   "execution_count": null,
   "id": "0f2f3cc1",
   "metadata": {},
   "outputs": [],
   "source": [
    "from functools import partial\n",
    "\n",
    "to_Timur = partial(send_email, 'Тимур', 'timyrik20@beegeek.ru')\n",
    "\n",
    "send_an_invitation = partial(send_email, text = 'Школа BEEGEEK приглашает Вас на новый курс по программированию на языке Python. тутут....')"
   ]
  },
  {
   "cell_type": "markdown",
   "id": "d9671a08",
   "metadata": {},
   "source": [
    "**Реализуйте класс** Square, **порождающий итераторы**, конструктор которого принимает один аргумент: n — натуральное число. \n",
    "Итератор класса Square должен генерировать последовательность из n чисел, каждое из которых является квадратом очередного натурального числа, а затем возбуждать исключение StopIteration."
   ]
  },
  {
   "cell_type": "code",
   "execution_count": null,
   "id": "a325216d",
   "metadata": {},
   "outputs": [],
   "source": [
    "class Square:\n",
    "    def __init__(self, n):\n",
    "        self.n = n\n",
    "        self.counter = 1\n",
    "        \n",
    "\n",
    "    def __iter__(self):\n",
    "        return self\n",
    "\n",
    "    def __next__(self):\n",
    "        if self.counter - self.n == 1:\n",
    "            raise StopIteration\n",
    "        else:\n",
    "            self.value = self.counter ** 2\n",
    "            self.counter += 1\n",
    "            return self.value"
   ]
  },
  {
   "cell_type": "markdown",
   "id": "86cb4740",
   "metadata": {},
   "source": [
    "**Реализуйте генераторную функцию** dates(), которая принимает два аргумента в следующем порядке: start — дата, тип date\n",
    "count — натуральное число, по умолчанию имеет значение None. Если count имеет значение None, функция должна возвращать генератор, порождающий последовательность из максимально допустимого количества дат (тип date), начиная с даты start. Если count имеет в качестве значения натуральное число, функция должна возвращать генератор, порождающий последовательность из count дат (тип date), начиная с даты start, а затем возбуждающий исключение StopIteration."
   ]
  },
  {
   "cell_type": "code",
   "execution_count": null,
   "id": "9f2571a5",
   "metadata": {},
   "outputs": [],
   "source": [
    "import datetime\n",
    "from datetime import date, timedelta\n",
    "\n",
    "def dates(start, count = None):\n",
    "    n = 0\n",
    "    while True:\n",
    "        if count == None:\n",
    "            yield start\n",
    "            if start == date.max:\n",
    "                return\n",
    "                break\n",
    "            else:\n",
    "                start += datetime.timedelta(days=1)\n",
    "        \n",
    "        else:\n",
    "            yield start  \n",
    "            if n == count - 1:\n",
    "                return\n",
    "                break\n",
    "            else:\n",
    "                start += datetime.timedelta(days=1)\n",
    "                n += 1"
   ]
  },
  {
   "cell_type": "markdown",
   "id": "7bf34b34",
   "metadata": {},
   "source": [
    "Реализуйте **генераторную функцию** palindromes(), которая не принимает никаких аргументов. Функция должна возвращать генератор, порождающий бесконечную последовательность натуральных чисел-палиндромов."
   ]
  },
  {
   "cell_type": "code",
   "execution_count": null,
   "id": "5cbc61ad",
   "metadata": {},
   "outputs": [],
   "source": [
    "def palindromes():\n",
    "    n = 1\n",
    "    while True:\n",
    "        num_test = int(str(n)[::-1])\n",
    "        if n == num_test:\n",
    "            yield n\n",
    "        n += 1\n",
    "    yield from palindromes()"
   ]
  },
  {
   "cell_type": "markdown",
   "id": "83481405",
   "metadata": {},
   "source": [
    "Реализуйте генераторную функцию flatten(), которая принимает один аргумент: nested_list — список, элементами которого являются целые числа или списки, элементами которых, в свою очередь, также являются либо целые числа, либо списки; вложенность может быть произвольной. Функция должна возвращать генератор, порождающий все числа, содержащиеся в nested_list, включая все числа из всех вложенных списков, а затем возбуждает исключение StopIteration. **генераторная функция, рекурсия**"
   ]
  },
  {
   "cell_type": "code",
   "execution_count": null,
   "id": "511d163f",
   "metadata": {},
   "outputs": [],
   "source": [
    "def flatten(nested_list):\n",
    "    for elem in nested_list:\n",
    "            if type(elem) == int:\n",
    "                yield elem\n",
    "            else:\n",
    "                yield from flatten(elem)"
   ]
  },
  {
   "cell_type": "markdown",
   "id": "7c1a0b9a",
   "metadata": {},
   "source": [
    "Реализуйте **функцию** interleave() **с использованием генераторных выражений**, которая принимает произвольное количество позиционных аргументов, каждый из которых является последовательностью.\n",
    "\n",
    "Функция должна возвращать генератор, порождающий каждый элемент всех переданных последовательностей: сначала первый элемент первой последовательности, затем первый элемент второй последовательности, и так далее; после второй элемент первой последовательности, затем второй элемент второй последовательности, и так далее."
   ]
  },
  {
   "cell_type": "code",
   "execution_count": null,
   "id": "6b34aaac",
   "metadata": {},
   "outputs": [],
   "source": [
    "def interleave(*args):\n",
    "    yield from (i for it in zip(*args) for i in it)"
   ]
  },
  {
   "cell_type": "markdown",
   "id": "31d18988",
   "metadata": {},
   "source": [
    "Реализуйте функцию first_largest(), которая принимает два аргумента в следующем порядке: iterable — итерируемый объект, элементами которого являются целые числа; number — произвольное число.\n",
    "Функция должна возвращать индекс первого элемента итерируемого объекта iterable, который больше number. Если таких элементов нет, функция должна вернуть число −1. **генераторные выражения, генераторные фильтрующие функции**"
   ]
  },
  {
   "cell_type": "code",
   "execution_count": 13,
   "id": "fdab0f39",
   "metadata": {},
   "outputs": [
    {
     "name": "stdout",
     "output_type": "stream",
     "text": [
      "36\n"
     ]
    }
   ],
   "source": [
    "from itertools import dropwhile\n",
    "\n",
    "def  first_largest(iterable, number):\n",
    "    value = enumerate(iterable)\n",
    "    result = dropwhile(lambda x: x[1] <= number, value)\n",
    "    try:\n",
    "        return next(result)[0]\n",
    "    except:\n",
    "        return -1\n",
    "    \n",
    "    \n",
    "        \n",
    "    \n",
    "   "
   ]
  },
  {
   "cell_type": "markdown",
   "id": "7bf9fed9",
   "metadata": {},
   "source": [
    "Реализуйте функцию take_nth(), которая принимает два аргумента в следующем порядке: iterable — итерируемый объект; n — натуральное число. \n",
    "Функция должна возвращать n-ый по счету элемент итерируемого объекта iterable. Если итерируемый объект iterable содержит менее n элементов, функция должна вернуть значение None. **генераторные выражения, генераторные фильтрующие функции**"
   ]
  },
  {
   "cell_type": "code",
   "execution_count": 2,
   "id": "731db4c1",
   "metadata": {},
   "outputs": [
    {
     "ename": "ValueError",
     "evalue": "I/O operation on closed file.",
     "output_type": "error",
     "traceback": [
      "\u001b[1;31m---------------------------------------------------------------------------\u001b[0m",
      "\u001b[1;31mValueError\u001b[0m                                Traceback (most recent call last)",
      "Cell \u001b[1;32mIn[2], line 1\u001b[0m\n\u001b[1;32m----> 1\u001b[0m \u001b[38;5;28mprint\u001b[39m(\u001b[38;5;241m*\u001b[39mfile_lines)\n",
      "Cell \u001b[1;32mIn[1], line 2\u001b[0m, in \u001b[0;36m<genexpr>\u001b[1;34m(.0)\u001b[0m\n\u001b[0;32m      1\u001b[0m \u001b[38;5;28;01mwith\u001b[39;00m \u001b[38;5;28mopen\u001b[39m(\u001b[38;5;124m'\u001b[39m\u001b[38;5;124mplanets.txt\u001b[39m\u001b[38;5;124m'\u001b[39m, \u001b[38;5;124m'\u001b[39m\u001b[38;5;124mr\u001b[39m\u001b[38;5;124m'\u001b[39m, encoding\u001b[38;5;241m=\u001b[39m\u001b[38;5;124m'\u001b[39m\u001b[38;5;124mutf-8\u001b[39m\u001b[38;5;124m'\u001b[39m) \u001b[38;5;28;01mas\u001b[39;00m file:\n\u001b[1;32m----> 2\u001b[0m     file_lines \u001b[38;5;241m=\u001b[39m (line\u001b[38;5;241m.\u001b[39msplit(\u001b[38;5;124m'\u001b[39m\u001b[38;5;124m = \u001b[39m\u001b[38;5;124m'\u001b[39m) \u001b[38;5;28;01mfor\u001b[39;00m line \u001b[38;5;129;01min\u001b[39;00m file \u001b[38;5;28;01mif\u001b[39;00m line\u001b[38;5;241m.\u001b[39misspace() \u001b[38;5;241m==\u001b[39m \u001b[38;5;28;01mFalse\u001b[39;00m)\n",
      "\u001b[1;31mValueError\u001b[0m: I/O operation on closed file."
     ]
    }
   ],
   "source": [
    "from itertools import islice\n",
    "\n",
    "def take_nth(iterable, n):\n",
    "    value = islice(iterable, n - 1, n)\n",
    "    return next(value, None)"
   ]
  },
  {
   "cell_type": "markdown",
   "id": "29477899",
   "metadata": {},
   "source": [
    "Реализуйте **генераторную функцию**, которая принимает один аргумент: iterable — итерируемый объект.\n",
    "Функция должна возвращать генератор, порождающий последовательность кортежей, каждый из которых содержит очередной элемент итерируемого объекта iterable, а также предыдущий и следующий за ним элементы: (<предыдущий элемент>, <очередной элемент>, <следующий элемент>). \n",
    "Для первого элемента предыдущим считается значение None, для последнего элемента следующим считается так же значение None."
   ]
  },
  {
   "cell_type": "code",
   "execution_count": null,
   "id": "5c0c18de",
   "metadata": {},
   "outputs": [],
   "source": [
    "def around(iterable, previous=None):\n",
    "    it = iter(iterable)\n",
    "    i = next(it, None)\n",
    "    \n",
    "    \n",
    "    while i != None:\n",
    "        i, el = next(it, None), i\n",
    "        yield (previous, el, i)\n",
    "        previous = el"
   ]
  },
  {
   "cell_type": "markdown",
   "id": "a740c486",
   "metadata": {},
   "source": [
    "Реализуйте функцию roundrobin(), которая принимает произвольное количество позиционных аргументов, каждый из которых является итерируемым объектом.\n",
    "\n",
    "Функция должна возвращать итератор, генерирующий последовательность из элементов всех переданных итерируемых объектов: сначала первый элемент первого итерируемого объекта, затем первый элемент второго итерируемого объекта, и так далее; после второй элемент первого итерируемого объекта, затем второй элемент второго итерируемого объекта, и так далее. **объединяющие генераторные функции**"
   ]
  },
  {
   "cell_type": "code",
   "execution_count": null,
   "id": "83405cdf",
   "metadata": {},
   "outputs": [],
   "source": [
    "from itertools import zip_longest\n",
    "\n",
    "def  roundrobin(*args):\n",
    "    yield from (i for x in zip_longest(*args, fillvalue='') for i in x if i != '')"
   ]
  },
  {
   "cell_type": "markdown",
   "id": "bdcb3c4b",
   "metadata": {},
   "source": [
    "Реализуйте функцию group_anagrams(), которая принимает один аргумент: words — список слов.\n",
    "Функция должна **группировать** в кортежи слова из списка words, являющиеся анаграммами, и возвращать список полученных кортежей."
   ]
  },
  {
   "cell_type": "code",
   "execution_count": null,
   "id": "8aedc171",
   "metadata": {},
   "outputs": [],
   "source": [
    "from itertools import groupby\n",
    "\n",
    "def group_anagrams(words):   \n",
    "    s = groupby(sorted(words, key=sorted), key=sorted)\n",
    "    \n",
    "    for i in s:\n",
    "        yield tuple(i[1])"
   ]
  },
  {
   "cell_type": "markdown",
   "id": "382e0c3e",
   "metadata": {},
   "source": [
    "Тимур пришел в книжный магазин, чтобы приобрести новую книгу по математике, стоимость которой равна 100$. У него в кошельке имеется множество купюр различного номинала, которые представлены в списке wallet. \n",
    "\n",
    "Дополните приведенный ниже код, чтобы он вывел **количество способов**, которыми Тимур может приобрести книгу стоимостью 100$."
   ]
  },
  {
   "cell_type": "code",
   "execution_count": 11,
   "id": "9bf9e6f9",
   "metadata": {},
   "outputs": [
    {
     "name": "stdout",
     "output_type": "stream",
     "text": [
      "0\n"
     ]
    }
   ],
   "source": [
    "from itertools import combinations\n",
    "\n",
    "wallet = [100, 100, 50, 50, 50, 50, 20, 20, 20, 10, 10, 10, 10, 10, 5, 5, 1, 1, 1, 1, 1]\n",
    "\n",
    "s = 0\n",
    "\n",
    "for i in range(len(wallet)):\n",
    "    g = set(combinations(wallet, i))\n",
    "    for x in g:\n",
    "        if sum(x) == 100:\n",
    "            s += 1\n",
    "            \n",
    "print(s)"
   ]
  },
  {
   "cell_type": "markdown",
   "id": "d3a2b660",
   "metadata": {},
   "source": [
    "номер начинается с 0 - 3 строчных латинских букв включительно;\n",
    "далее следует последовательность цифр, длина которой должна быть от 2 до 8 включительно;\n",
    "после цифр указываются 3 или более заглавные латинские буквы;\n",
    "**regex**"
   ]
  },
  {
   "cell_type": "code",
   "execution_count": null,
   "id": "00bad031",
   "metadata": {},
   "outputs": [],
   "source": [
    "regex = r'[a-z]{0,3}[0-9]{2,8}[A-Z]{3,}'"
   ]
  },
  {
   "cell_type": "markdown",
   "id": "324bfc89",
   "metadata": {},
   "source": [
    "строка начинается с Mr., Mrs., Ms., Dr. или Er;\n",
    "оставшаяся часть строки состоит только из одной или более букв латинского алфавита в произвольном регистре. **regex**"
   ]
  },
  {
   "cell_type": "code",
   "execution_count": null,
   "id": "49a92686",
   "metadata": {},
   "outputs": [],
   "source": [
    "regex = r'^[MDE]r\\.[a-zA-Z]+$|^Mr?s\\.[a-zA-Z]+$'"
   ]
  },
  {
   "cell_type": "markdown",
   "id": "cf971ae8",
   "metadata": {},
   "source": [
    "строка начинается с одной или двух цифр;\n",
    "после следуют три или более буквы латинского алфавита в произвольном регистре; \n",
    "оставшаяся часть строки содержит от 0 до 3 точек включительно. **regex**"
   ]
  },
  {
   "cell_type": "code",
   "execution_count": null,
   "id": "d9ea70ad",
   "metadata": {},
   "outputs": [],
   "source": [
    "regex = r'^\\d{1,2}[a-zA-Z]{3,}\\.{0,3}$'"
   ]
  },
  {
   "cell_type": "markdown",
   "id": "3c7f14d9",
   "metadata": {},
   "source": [
    "номер телефона начинается из трехцифрового кода города, который может заключаться в круглые скобки;\n",
    "далее через пробел или дефис следует номер с семью цифрами, разделенный на трехцифровой префикс и четырехцифровой номер линии, между которыми указывается дефис.\n",
    "В номере телефона могут использоваться любые цифры за двумя исключениями: первая цифра кода города и первая цифра префикса не могут быть 0 или 1. **regex**"
   ]
  },
  {
   "cell_type": "code",
   "execution_count": null,
   "id": "04a95476",
   "metadata": {},
   "outputs": [],
   "source": [
    "regex = r'(([2-9]\\d{2})|(\\([2-9]\\d{2}\\)))(\\s|-)[2-9]\\d{2}-\\d{4}'\n"
   ]
  },
  {
   "cell_type": "markdown",
   "id": "44a8fedb",
   "metadata": {},
   "source": [
    "1.последовательность должна состоять только из bee и geek;\n",
    "2.последовательность должна содержать хотя бы один geek;\n",
    "3.bee не может находиться рядом с самим собой (не может быть beebee);\n",
    "4.geek может появиться только после того, как до этого было записано bee;\n",
    "5.после каждого bee когда-нибудь должен появиться geek. **regex**"
   ]
  },
  {
   "cell_type": "code",
   "execution_count": null,
   "id": "17846af0",
   "metadata": {},
   "outputs": [],
   "source": [
    "regex = r'((bee){1}(geek)+)+'"
   ]
  },
  {
   "cell_type": "markdown",
   "id": "22f0e2b8",
   "metadata": {},
   "source": [
    "Чтобы переменная **regex** содержала регулярное выражение, которому соответствуют слова, содержащие повторяющиеся буквы."
   ]
  },
  {
   "cell_type": "code",
   "execution_count": null,
   "id": "70f275fd",
   "metadata": {},
   "outputs": [],
   "source": [
    "regex = r'\\b\\w*(\\w)\\w*\\1\\w*\\b'"
   ]
  },
  {
   "cell_type": "markdown",
   "id": "ee4f771d",
   "metadata": {},
   "source": [
    "соответствуют последовательности из 8 цифр, удовлетворяющие следующим условиям:\n",
    "последовательность может содержать символы -, --- или . в качестве разделителей, только если они делят ее на группы по 2 цифры;\n",
    "последовательность должна содержать только один тип разделителя, если он присутствует. **regex**"
   ]
  },
  {
   "cell_type": "code",
   "execution_count": null,
   "id": "06ab3135",
   "metadata": {},
   "outputs": [],
   "source": [
    "regex = r'\\d{2}(-?|(---)?|\\.?)\\d{2}\\1\\d{2}\\1\\d{2}'"
   ]
  },
  {
   "cell_type": "markdown",
   "id": "4a9da9f6",
   "metadata": {},
   "source": [
    "Чтобы переменная **regex** содержала регулярное выражение, которому соответствуют слова, записанные дважды подряд. Слова могут быть разделены одним или несколькими пробелами."
   ]
  },
  {
   "cell_type": "code",
   "execution_count": null,
   "id": "c1eef56a",
   "metadata": {},
   "outputs": [],
   "source": [
    "regex = r'\\b(\\w+)\\s+\\1\\b'"
   ]
  },
  {
   "cell_type": "markdown",
   "id": "20b408db",
   "metadata": {},
   "source": [
    "Напишите программу, которая принимает произвольное количество телефонных номеров и для каждого выводит отдельно его код страны, код города и номер. **regex**"
   ]
  },
  {
   "cell_type": "code",
   "execution_count": null,
   "id": "97a32bd6",
   "metadata": {},
   "outputs": [],
   "source": [
    "import sys, re\n",
    "from re import fullmatch\n",
    "\n",
    "\n",
    "data = [line.strip() for line in sys.stdin]\n",
    "\n",
    "for i in data:\n",
    "    t = re.fullmatch(r'(?P<код_страны>\\d{1,3})(-| )(?P<код_города>\\d{1,3})\\2(?P<номер>\\d{4,10})', i)\n",
    "    print(f'Код страны: {t.group(\"код_страны\")}', end=', ')\n",
    "    print(f'Код города: {t.group(\"код_города\")}', end=', ')\n",
    "    print(f'Номер: {t.group(\"номер\")}', end='\\n')"
   ]
  },
  {
   "cell_type": "markdown",
   "id": "f427502f",
   "metadata": {},
   "source": [
    "Напишите программу, которая выводит слова, состоящие из двух одинаковых слогов. **regex**"
   ]
  },
  {
   "cell_type": "code",
   "execution_count": null,
   "id": "1af11d1a",
   "metadata": {},
   "outputs": [],
   "source": [
    "import sys, re\n",
    "from re import fullmatch\n",
    "\n",
    "data = [line.strip() for line in sys.stdin]\n",
    "\n",
    "for i in data:\n",
    "    t = re.fullmatch(r'(\\w+)\\1', i)\n",
    "    if bool(t):\n",
    "        print(i)\n"
   ]
  },
  {
   "cell_type": "markdown",
   "id": "b1c48704",
   "metadata": {},
   "source": [
    "Напишите программу, определяющую: количество строк, в которых bee встречается в качестве подстроки не менее двух раз;\n",
    "количество строк, в которых geek встречается в качестве слова хотя бы один раз. **regex**"
   ]
  },
  {
   "cell_type": "code",
   "execution_count": null,
   "id": "26ad7ffe",
   "metadata": {},
   "outputs": [],
   "source": [
    "import sys, re\n",
    "from re import fullmatch, search, findall\n",
    "\n",
    "data = [line.strip() for line in sys.stdin]\n",
    "\n",
    "b_count = 0\n",
    "g_count = 0\n",
    "\n",
    "for i in data:\n",
    "    b = re.findall(r'bee.*bee', i)\n",
    "    g = re.search(r'\\bgeek\\b', i)\n",
    "    if bool(b):\n",
    "        b_count += 1\n",
    "    if bool(g):\n",
    "        g_count += 1\n",
    "\n",
    "print(b_count)\n",
    "print(g_count)"
   ]
  },
  {
   "cell_type": "markdown",
   "id": "d0b957d6",
   "metadata": {},
   "source": [
    "Напишите программу, которая определяет популярность онлайн-школы BEEGEEK путем суммирования баллов всех публикаций.\n",
    "3 балла, если она начинается и заканчивается строкой beegeek;\n",
    "2 балла, если она только начинается или только заканчивается строкой beegeek;\n",
    "1 балл, если она содержит строку beegeek только внутри;\n",
    "0 баллов, если она не содержит строку beegeek.\n",
    "**regex**\n"
   ]
  },
  {
   "cell_type": "code",
   "execution_count": null,
   "id": "96dfc491",
   "metadata": {},
   "outputs": [],
   "source": [
    "import sys, re\n",
    "from re import fullmatch, search, findall\n",
    "\n",
    "data = [line.rstrip() for line in sys.stdin]\n",
    "\n",
    "balls = 0\n",
    "\n",
    "for i in data:\n",
    "    three = re.search(r'^beegeek.*beegeek$', i)\n",
    "    two = re.search(r'(^beegeek.+$)|(^.+beegeek$)', i)\n",
    "    one = re.search(r'^.+beegeek.+$', i)\n",
    "    if bool(three):\n",
    "        balls += 3\n",
    "        continue\n",
    "    if bool(two):\n",
    "        balls += 2\n",
    "        continue\n",
    "    if bool(one):\n",
    "        balls += 1\n",
    "        continue\n",
    "        \n",
    "print(balls)"
   ]
  },
  {
   "cell_type": "markdown",
   "id": "91d68113",
   "metadata": {},
   "source": [
    "На электронную почту Тимура нередко приходят письма с предложением о сотрудничестве. Тимур ценит взаимное уважение и считает письмо достойным внимания, если оно начинается с одного из следующих выражений: Здравствуйте; Доброе утро; Добрый день; Добрый вечер. \n",
    "Напишите программу, которая определяет, является ли письмо достойным внимания Тимура. **regex**"
   ]
  },
  {
   "cell_type": "code",
   "execution_count": null,
   "id": "1358bfaa",
   "metadata": {},
   "outputs": [],
   "source": [
    "import re\n",
    "from re import search, MULTILINE, IGNORECASE\n",
    "\n",
    "text = input()\n",
    "\n",
    "match1 = search('(^Здравствуйте)|(^Доброе\\sутро)|(^Добрый\\sдень)|(^Добрый\\sвечер)', text, flags=MULTILINE | IGNORECASE)\n",
    "\n",
    "print(True if match1 else False)\n"
   ]
  },
  {
   "cell_type": "markdown",
   "id": "d8a94407",
   "metadata": {},
   "source": [
    "Напишите программу, которая меняет местами первые две буквы в каждом слове, состоящем из двух или более букв."
   ]
  },
  {
   "cell_type": "code",
   "execution_count": null,
   "id": "b090146b",
   "metadata": {},
   "outputs": [],
   "source": [
    "import re\n",
    "from re import sub\n",
    "\n",
    "s = input()\n",
    "\n",
    "result = sub(r'\\b(\\w)(\\w)(\\w*)\\b', r'\\2\\1\\3', s)\n",
    "\n",
    "print(result)"
   ]
  },
  {
   "cell_type": "markdown",
   "id": "b80759d5",
   "metadata": {},
   "source": [
    "Напишите программу, которая складывает все натуральные числа в строке, находящиеся в указанном диапазоне индексов. **regex**"
   ]
  },
  {
   "cell_type": "code",
   "execution_count": null,
   "id": "e688f022",
   "metadata": {},
   "outputs": [],
   "source": [
    "import re\n",
    "digits = input().split()\n",
    "a = int(digits[0])\n",
    "b = int(digits[1])\n",
    "\n",
    "string = input()\n",
    "\n",
    "regex_obj = re.compile(r'\\d+')\n",
    "result = regex_obj.findall(string, pos=a, endpos=b)\n",
    "\n",
    "\n",
    "print(sum(int(i) for i in result))"
   ]
  },
  {
   "cell_type": "code",
   "execution_count": null,
   "id": "4a84edd9",
   "metadata": {},
   "outputs": [],
   "source": []
  },
  {
   "cell_type": "code",
   "execution_count": null,
   "id": "5e3ec5be",
   "metadata": {},
   "outputs": [],
   "source": []
  },
  {
   "cell_type": "code",
   "execution_count": null,
   "id": "0825d779",
   "metadata": {},
   "outputs": [],
   "source": []
  },
  {
   "cell_type": "code",
   "execution_count": null,
   "id": "6c9a421e",
   "metadata": {},
   "outputs": [],
   "source": []
  },
  {
   "cell_type": "code",
   "execution_count": null,
   "id": "a28abdaa",
   "metadata": {},
   "outputs": [],
   "source": []
  },
  {
   "cell_type": "code",
   "execution_count": null,
   "id": "62a11c07",
   "metadata": {},
   "outputs": [],
   "source": []
  },
  {
   "cell_type": "code",
   "execution_count": null,
   "id": "7a8056d1",
   "metadata": {},
   "outputs": [],
   "source": []
  },
  {
   "cell_type": "code",
   "execution_count": null,
   "id": "47b9ba76",
   "metadata": {},
   "outputs": [],
   "source": []
  },
  {
   "cell_type": "code",
   "execution_count": null,
   "id": "d5412327",
   "metadata": {},
   "outputs": [],
   "source": []
  },
  {
   "cell_type": "code",
   "execution_count": null,
   "id": "371c4e25",
   "metadata": {},
   "outputs": [],
   "source": []
  },
  {
   "cell_type": "code",
   "execution_count": null,
   "id": "942ffd37",
   "metadata": {},
   "outputs": [],
   "source": []
  },
  {
   "cell_type": "code",
   "execution_count": null,
   "id": "a7f700aa",
   "metadata": {},
   "outputs": [],
   "source": []
  },
  {
   "cell_type": "code",
   "execution_count": null,
   "id": "2d7ec44e",
   "metadata": {},
   "outputs": [],
   "source": []
  },
  {
   "cell_type": "code",
   "execution_count": null,
   "id": "59abc7de",
   "metadata": {},
   "outputs": [],
   "source": []
  },
  {
   "cell_type": "code",
   "execution_count": null,
   "id": "c7b88dbf",
   "metadata": {},
   "outputs": [],
   "source": []
  },
  {
   "cell_type": "code",
   "execution_count": null,
   "id": "dcc787eb",
   "metadata": {},
   "outputs": [],
   "source": []
  },
  {
   "cell_type": "code",
   "execution_count": null,
   "id": "802d54db",
   "metadata": {},
   "outputs": [],
   "source": []
  },
  {
   "cell_type": "code",
   "execution_count": null,
   "id": "4a4b8456",
   "metadata": {},
   "outputs": [],
   "source": []
  },
  {
   "cell_type": "code",
   "execution_count": null,
   "id": "e2e136cf",
   "metadata": {},
   "outputs": [],
   "source": []
  },
  {
   "cell_type": "code",
   "execution_count": null,
   "id": "1551edd9",
   "metadata": {},
   "outputs": [],
   "source": []
  },
  {
   "cell_type": "code",
   "execution_count": null,
   "id": "4ee4c0dc",
   "metadata": {},
   "outputs": [],
   "source": []
  },
  {
   "cell_type": "code",
   "execution_count": null,
   "id": "0d7a1764",
   "metadata": {},
   "outputs": [],
   "source": []
  }
 ],
 "metadata": {
  "kernelspec": {
   "display_name": "Python 3 (ipykernel)",
   "language": "python",
   "name": "python3"
  },
  "language_info": {
   "codemirror_mode": {
    "name": "ipython",
    "version": 3
   },
   "file_extension": ".py",
   "mimetype": "text/x-python",
   "name": "python",
   "nbconvert_exporter": "python",
   "pygments_lexer": "ipython3",
   "version": "3.11.5"
  }
 },
 "nbformat": 4,
 "nbformat_minor": 5
}
