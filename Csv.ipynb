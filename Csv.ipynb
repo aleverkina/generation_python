{
 "cells": [
  {
   "cell_type": "markdown",
   "id": "fb87e350",
   "metadata": {},
   "source": [
    "1.  Напишите программу, которая упорядочивает компании по возрастанию средней зарплаты ее сотрудников и выводит их названия, каждое на отдельной строке. Если две компании имеют одинаковые средние зарплаты, они должны быть расположены в лексикографическом порядке их названий."
   ]
  },
  {
   "cell_type": "code",
   "execution_count": null,
   "id": "e06869ad",
   "metadata": {},
   "outputs": [],
   "source": [
    "with open('salary_data.csv', encoding='utf-8') as file:\n",
    "    data = file.read()\n",
    "    \n",
    "    table = [r.split(';') for r in data.splitlines()]\n",
    "    del table[0]\n",
    "    \n",
    "    sal_sum = {}\n",
    "    sal_count = {}\n",
    "    \n",
    "    for name, salary in table:\n",
    "        if name not in sal_sum:\n",
    "            sal_sum.setdefault(name, 0)\n",
    "            sal_count.setdefault(name, 0)\n",
    "        \n",
    "        sal_sum[name] += int(salary)\n",
    "        sal_count[name] += 1\n",
    "        \n",
    "    sal_mean = []\n",
    "    for name, sum_salary in sal_sum.items():\n",
    "        cnt_employees = sal_count[name]\n",
    "        \n",
    "        sal_mean.append([name, sum_salary / cnt_employe es])\n",
    "        \n",
    "    sal_mean = sorted(sal_mean, key=lambda x: (x[1], x[0]))\n",
    "    \n",
    "    for name, _ in sal_mean:\n",
    "        print(name)"
   ]
  },
  {
   "cell_type": "markdown",
   "id": "c5970f33",
   "metadata": {},
   "source": [
    "2. Напишите программу, которая сортирует содержимое данного файла по указанному столбцу. Причем данные должны быть отсортированы в порядке возрастания чисел, если столбец содержит числа, и в лексикографическом порядке слов, если столбец содержит слова."
   ]
  },
  {
   "cell_type": "code",
   "execution_count": null,
   "id": "aecbb123",
   "metadata": {},
   "outputs": [],
   "source": [
    "import csv\n",
    "\n",
    "with open('deniro.csv', encoding='utf-8') as file:\n",
    "    rows = list(csv.reader(file))                               # создаем reader объект\n",
    "    \n",
    "    sorting_col = int(input()) - 1\n",
    "       \n",
    "    rows = sorted(rows, key=lambda x: int(x[sorting_col]) if x[sorting_col].isdigit() else x[sorting_col])\n",
    "    \n",
    "    for row in rows:\n",
    "        print(*row,sep=',')"
   ]
  },
  {
   "cell_type": "markdown",
   "id": "8b993a2d",
   "metadata": {},
   "source": [
    "3. **Реализуйте функцию** csv_columns(), которая принимает один аргумент: filename — название csv файла. Функция должна **возвращать словарь**, в котором ключом является название столбца файла filename, а значением — список элементов этого столбца."
   ]
  },
  {
   "cell_type": "code",
   "execution_count": null,
   "id": "045d8d69",
   "metadata": {},
   "outputs": [],
   "source": [
    "def csv_columns(filename):\n",
    "    import csv\n",
    "    dict = {}\n",
    "    \n",
    "    with open(filename, encoding='utf-8') as file:\n",
    "        rows = csv.DictReader(file, delimiter=',')\n",
    "        for row in rows:\n",
    "            for key in list(row.keys()):\n",
    "                dict[key] = dict.get(key, []) + [row[key]]\n",
    "    \n",
    "    return dict"
   ]
  },
  {
   "cell_type": "markdown",
   "id": "0f3ed9bc",
   "metadata": {},
   "source": [
    "4. Напишите программу, которая создает файл domain_usage.csv, где в первом столбце записано название почтового домена, а во втором — количество пользователей, использующих данный домен. Домены в файле должны быть расположены в порядке возрастания количества их использований, при совпадении количества использований — в лексикографическом порядке."
   ]
  },
  {
   "cell_type": "code",
   "execution_count": null,
   "id": "40da755b",
   "metadata": {},
   "outputs": [],
   "source": [
    "import csv\n",
    "\n",
    "with open('data.csv', encoding='utf-8') as file:\n",
    "    data = file.read()\n",
    "    \n",
    "    rows = [r.split('@') for r in data.splitlines()]\n",
    "    del rows[0]\n",
    "    \n",
    "    \n",
    "    domain_count = {}\n",
    "    \n",
    "    for name, domain in rows:\n",
    "        if domain not in domain_count:\n",
    "            domain_count.setdefault(domain, 0)\n",
    "        \n",
    "        domain_count[domain] += 1\n",
    "        \n",
    "    sorted_domain = sorted(domain_count.items(), key=lambda x: (x[1], x[0]))\n",
    "    \n",
    "    columns = ['domain', 'count']\n",
    "    \n",
    "    with open('domain_usage.csv', 'w', encoding='utf-8', newline='') as file:\n",
    "        writer = csv.writer(file)\n",
    "        writer.writerow(columns)                 # запись заголовков\n",
    "        for row in sorted_domain:                         # запись строк\n",
    "            writer.writerow(row)"
   ]
  },
  {
   "cell_type": "markdown",
   "id": "bd391aa6",
   "metadata": {},
   "source": [
    "5. Вам доступен файл students.**json**, содержащий список JSON-объектов, которые представляют данные о студентах некоторого курса.Напишите программу, которая определяет студентов, **удовлетворяющих следующим условиям**: возраст 18 лет или более, прогресс по курсу 75% или более. Программа должна создать файл data.**csv**"
   ]
  },
  {
   "cell_type": "code",
   "execution_count": null,
   "id": "70b04651",
   "metadata": {},
   "outputs": [],
   "source": [
    "import json\n",
    "import csv\n",
    "\n",
    "with open('students.json', 'r', encoding='utf-8') as file1:\n",
    "    data = json.load(file1) # передаем файловый объект\n",
    "    \n",
    "    f_data = list(filter(lambda x: int(x.get('age')) >= 18 and int(x.get('progress')) >= 75, data))\n",
    "    \n",
    "    result = []\n",
    "    \n",
    "    for row in f_data:\n",
    "        result.append([row.get('name'), row.get('phone')])\n",
    "        \n",
    "    sorted_result = sorted(result, key=lambda x: x[0])\n",
    "            \n",
    "    columns = ['name','phone']\n",
    "\n",
    "    with open('data.csv', 'w', encoding='UTF-8', newline='') as file2:\n",
    "        writer = csv.writer(file2)\n",
    "        writer.writerow(columns)                 # запись заголовков\n",
    "        for row in sorted_result:                         # запись строк\n",
    "            writer.writerow(row)"
   ]
  }
 ],
 "metadata": {
  "kernelspec": {
   "display_name": "Python 3 (ipykernel)",
   "language": "python",
   "name": "python3"
  },
  "language_info": {
   "codemirror_mode": {
    "name": "ipython",
    "version": 3
   },
   "file_extension": ".py",
   "mimetype": "text/x-python",
   "name": "python",
   "nbconvert_exporter": "python",
   "pygments_lexer": "ipython3",
   "version": "3.11.5"
  }
 },
 "nbformat": 4,
 "nbformat_minor": 5
}
