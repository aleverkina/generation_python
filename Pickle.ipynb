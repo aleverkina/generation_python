{
 "cells": [
  {
   "cell_type": "markdown",
   "id": "4cee2a95",
   "metadata": {},
   "source": [
    "1. Дан pickle файл, содержащий единственную сериализованную функцию. Напишите программу, которая вызывает данную функцию с заданными аргументами и выводит возвращаемое значение функции."
   ]
  },
  {
   "cell_type": "code",
   "execution_count": null,
   "id": "fefb85ba",
   "metadata": {},
   "outputs": [],
   "source": [
    "import sys\n",
    "\n",
    "with open(input(), 'rb') as file: \n",
    "    func = pickle.load(file)\n",
    "    print(func(*list(map(str.strip, sys.stdin))))"
   ]
  },
  {
   "cell_type": "markdown",
   "id": "3ef44ca5",
   "metadata": {},
   "source": [
    "2. Реализуйте функцию filter_dump(), которая принимает три аргумента в следующем порядке: filename — название pickle файла, например, data.pkl objects — список произвольных объектов typename — тип данных.\n",
    "\n",
    "Функция должна создавать pickle файл с названием filename, который содержит сериализованный список только тех объектов из списка objects, тип которых равен typename."
   ]
  },
  {
   "cell_type": "code",
   "execution_count": null,
   "id": "cf75fa98",
   "metadata": {},
   "outputs": [],
   "source": [
    "def filter_dump(filename, objects, typename):\n",
    "    list_obj = []\n",
    "    for obj in list(objects):\n",
    "        if isinstance(obj, typename):\n",
    "            list_obj.append(obj)\n",
    "    \n",
    "    with open(filename, 'wb') as file:    \n",
    "        pickle.dump(list_obj, file)"
   ]
  },
  {
   "cell_type": "markdown",
   "id": "c81370a8",
   "metadata": {},
   "source": [
    "3. По каналу связи передаются pickle файл, содержащий сериализованный словарь или список, и целое число — контрольная сумма, которая вычисляется по следующему правилу:\n",
    "\n",
    "для словаря — сумма всех целочисленных ключей (тип int); для списка — произведение минимального и максимального целочисленных элементов (тип int).\n",
    "\n",
    "Напишите программу, которая вычисляет контрольную сумму для объекта, содержащегося в pickle файле, и сравнивает ее с данным целым числом."
   ]
  },
  {
   "cell_type": "code",
   "execution_count": null,
   "id": "6441daba",
   "metadata": {},
   "outputs": [],
   "source": [
    "pickle_file = input()\n",
    "summ_right = int(input())\n",
    "summ = 0\n",
    "\n",
    "with open(pickle_file, 'rb') as file: \n",
    "    data = pickle.load(file)\n",
    " \n",
    "    if isinstance(data, list):\n",
    "        data_int = [n for n in data if isinstance(n, int)]        \n",
    "        try:\n",
    "            summ = max(data_int) * min(data_int)\n",
    "        except:\n",
    "            summ = 0\n",
    "        \n",
    "    elif isinstance(data, dict):\n",
    "        for key in data.keys():\n",
    "            if isinstance(key, int):\n",
    "                summ += key\n",
    "    else:\n",
    "        pass\n",
    "    \n",
    "    if summ_right == summ:\n",
    "        print('Контрольные суммы совпадают')\n",
    "    else:\n",
    "        print('Контрольные суммы не совпадают') "
   ]
  },
  {
   "cell_type": "markdown",
   "id": "c7d31e3d",
   "metadata": {},
   "source": [
    "4. Вам доступен именованный кортеж Animal, который содержит данные о животном. Первым элементом именованного кортежа является имя животного, вторым — семейство, третьим — пол, четвертым — цвет. Также доступен файл data.pkl, содержащий сериализованный список таких кортежей.\n",
    "\n",
    "Дополните приведенный ниже код, чтобы для каждого кортежа из этого списка он вывел названия его полей и значения этих полей в следующем формате:\n",
    "\n",
    "name: <значение> family: <значение> sex: <значение> color: <значение>\n",
    "\n",
    "Между полями и значениями двух разных кортежей должна располагаться пустая строка."
   ]
  },
  {
   "cell_type": "code",
   "execution_count": null,
   "id": "db106e04",
   "metadata": {},
   "outputs": [],
   "source": [
    "from collections import namedtuple\n",
    "import pickle\n",
    "\n",
    "Animal = namedtuple('Animal', ['name', 'family', 'sex', 'color'])\n",
    "\n",
    "with open('data.pkl', 'rb') as file:\n",
    "    animals = pickle.load(file)\n",
    "\n",
    "    for animal in animals:\n",
    "        for field, value in zip(Animal._fields, animal):\n",
    "            print(field, ': ', value, sep='')\n",
    "        print()"
   ]
  }
 ],
 "metadata": {
  "kernelspec": {
   "display_name": "Python 3 (ipykernel)",
   "language": "python",
   "name": "python3"
  },
  "language_info": {
   "codemirror_mode": {
    "name": "ipython",
    "version": 3
   },
   "file_extension": ".py",
   "mimetype": "text/x-python",
   "name": "python",
   "nbconvert_exporter": "python",
   "pygments_lexer": "ipython3",
   "version": "3.11.5"
  }
 },
 "nbformat": 4,
 "nbformat_minor": 5
}
