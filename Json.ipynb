{
 "cells": [
  {
   "cell_type": "markdown",
   "id": "cf9a52ca",
   "metadata": {},
   "source": [
    "1. Напишите программу, которая принимает на вход описание одного объекта в формате JSON и выводит все пары ключ-значение этого объекта."
   ]
  },
  {
   "cell_type": "code",
   "execution_count": null,
   "id": "a73a5d81",
   "metadata": {},
   "outputs": [],
   "source": [
    "import sys\n",
    "import json\n",
    "\n",
    "py_str = json.loads(sys.stdin.read())\n",
    "\n",
    "for key,value in py_str.items():\n",
    "    if type(value) is not list:\n",
    "        print(f'{key}: {value}')\n",
    "    else:\n",
    "        value = \", \".join(map(str,value))\n",
    "        print(f'{key}: {value}')"
   ]
  },
  {
   "cell_type": "markdown",
   "id": "97eec2d1",
   "metadata": {},
   "source": [
    "2. Вам доступны два файла data1.json и data2.json, каждый из которых содержит по единственному JSON-объекту. Напишите программу, которая объединяет два данных JSON-объекта в один JSON-объект, причем если пары из первого и второго объектов имеют совпадающие ключи, то значение следует взять из второго объекта. Полученный JSON-объект программа должна записать в файл data_merge.json."
   ]
  },
  {
   "cell_type": "code",
   "execution_count": null,
   "id": "fc61bc50",
   "metadata": {},
   "outputs": [],
   "source": [
    "import json\n",
    "\n",
    "with open('data1.json', 'r', encoding='utf-8') as file1:\n",
    "    data1 = json.load(file1)                # передаем файловый объект\n",
    "    \n",
    "    with open('data2.json', 'r', encoding='utf-8') as file2:\n",
    "        data2 = json.load(file2)\n",
    "        \n",
    "        data_total = {**data1, **data2}\n",
    "        \n",
    "        data_total = dict(data_total)\n",
    "        \n",
    "        with open('data_merge.json', 'w') as file3:\n",
    "            json.dump(data_total, file3, indent=3)"
   ]
  },
  {
   "cell_type": "markdown",
   "id": "3f68cc2f",
   "metadata": {},
   "source": [
    "3. Вам доступен файл countries.json, содержащий список JSON-объектов c информацией о странах и исповедуемых в них религиях.Напишите программу, которая создает единственный JSON-объект, имеющий в качестве ключа название религии, а в качестве значения — список стран, в которых исповедуется данная религия. Полученный JSON-объект программа должна записать в файл religion.json."
   ]
  },
  {
   "cell_type": "code",
   "execution_count": null,
   "id": "9b4aa346",
   "metadata": {},
   "outputs": [],
   "source": [
    "import json\n",
    "\n",
    "with open('countries.json', 'r', encoding='utf-8') as file:\n",
    "    data = json.load(file) # передаем файловый объект\n",
    "    \n",
    "    relegions_countries = {}\n",
    "    countries = []\n",
    "   \n",
    "\n",
    "    for d in data:\n",
    "            relegions_countries.setdefault(d[\"religion\"], []).append(d[\"country\"])\n",
    "                   \n",
    "        \n",
    "    with open('religion.json', 'w') as result:\n",
    "        json.dump(relegions_countries, result, indent=3) "
   ]
  },
  {
   "cell_type": "markdown",
   "id": "457d01b1",
   "metadata": {},
   "source": [
    "4. Вам доступен файл playgrounds.csv с информацией о спортивных площадках Москвы. Напишите программу, создающую JSON-объект, ключом в котором является административный округ, а значением — JSON-объект, в котором, в свою очередь, ключом является название района, относящийся к этому административному округу, а значением — список адресов всех площадок в этом районе. Полученный JSON-объект программа должна записать в файл addresses.json."
   ]
  },
  {
   "cell_type": "code",
   "execution_count": null,
   "id": "c676b3eb",
   "metadata": {},
   "outputs": [],
   "source": [
    "import json\n",
    "import csv\n",
    "\n",
    "with open('playgrounds.csv', encoding='utf-8') as file:\n",
    "    data = file.read()\n",
    "    \n",
    "    rows = [r.split(';') for r in data.splitlines()]\n",
    "    del rows[0]\n",
    "    \n",
    "    mydict = {}\n",
    "    for row in rows:\n",
    "        mydict.setdefault(row[1], {}).setdefault(row[2], []).append(row[3])\n",
    "        \n",
    "    with open('addresses.json', 'w') as result:\n",
    "        json.dump(mydict, result, indent=3, ensure_ascii=False)"
   ]
  },
  {
   "cell_type": "markdown",
   "id": "5408d6b9",
   "metadata": {},
   "source": [
    "5. Напишите программу, которая принимает на вход название JSON файла, десериализует содержащийся в этом файле объект и выводит его. Если файла с данным названием нет в папке с программой, программа должна вывести текст: Файл не найден. Если файл с данным названием содержит некорректные данные (то есть не удовлетворяющие формату JSON), программа должна вывести текст: Ошибка при десериализации."
   ]
  },
  {
   "cell_type": "code",
   "execution_count": null,
   "id": "17f383d5",
   "metadata": {},
   "outputs": [],
   "source": [
    "import json\n",
    "\n",
    "try:\n",
    "    file = open(input(), 'r', encoding='utf-8')\n",
    "    text = json.load(file)\n",
    "    print(text)\n",
    "except OSError:\n",
    "    print('Файл не найден')\n",
    "except ValueError:\n",
    "    print('Ошибка при десериализации')\n",
    "finally:\n",
    "    file.close()"
   ]
  }
 ],
 "metadata": {
  "kernelspec": {
   "display_name": "Python 3 (ipykernel)",
   "language": "python",
   "name": "python3"
  },
  "language_info": {
   "codemirror_mode": {
    "name": "ipython",
    "version": 3
   },
   "file_extension": ".py",
   "mimetype": "text/x-python",
   "name": "python",
   "nbconvert_exporter": "python",
   "pygments_lexer": "ipython3",
   "version": "3.11.5"
  }
 },
 "nbformat": 4,
 "nbformat_minor": 5
}
