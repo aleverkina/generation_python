{
 "cells": [
  {
   "cell_type": "markdown",
   "id": "1e098644",
   "metadata": {},
   "source": [
    "1. Вам доступен список files, содержащий названия различных файлов. Дополните приведенный ниже код, чтобы он вывел все расширения файлов, присутствующие в списке files, указав для каждого количество файлов с данным расширением. Расширения должны быть расположены в лексикографическом порядке, каждый на отдельной строке"
   ]
  },
  {
   "cell_type": "code",
   "execution_count": null,
   "id": "8dfbabf8",
   "metadata": {},
   "outputs": [],
   "source": [
    "from collections import Counter\n",
    "\n",
    "files = ['emoji_smile.jpeg', 'city-of-the-sun.mp3', 'dhook_hw.json', 'sample.xml',\n",
    "         'teamspeak3.exe', 'project_module3.py', 'math_lesson3.mp4', 'old_memories.mp4',\n",
    "         'spiritfarer.exe', 'backups.json', 'python_for_beg1.mp4', 'emoji_angry.jpeg',\n",
    "         'exam_results.csv', 'project_main.py', 'classes.csv', 'plants.xml',\n",
    "         'cant-help-myself.mp3', 'microsoft_edge.exe', 'steam.exe', 'math_lesson4.mp4',\n",
    "         'city.jpeg', 'bad-disease.mp3', 'beauty.jpeg', 'hollow_knight_silksong.exe',\n",
    "         'whatsapp.exe', 'photoshop.exe', 'telegram.exe', 'yandex_browser.exe',\n",
    "         'math_lesson7.mp4', 'students.csv', 'emojis.zip', '7z.zip',\n",
    "         'bones.mp3', 'python3.zip', 'dhook_lsns.json', 'carl_backups.json',\n",
    "         'forest.jpeg', 'python_for_pro8.mp4', 'yandexdisc.exe', 'but-you.mp3',\n",
    "         'project_module1.py', 'nothing.xml', 'flowers.jpeg', 'grades.csv',\n",
    "         'nvidia_gf.exe', 'small_txt.zip', 'project_module2.py', 'tab.csv',\n",
    "         'note.xml', 'sony_vegas11.exe', 'friends.jpeg', 'data.pkl']\n",
    "\n",
    "\n",
    "extensions = []\n",
    "\n",
    "for i in files:\n",
    "    extensions.append(i.split('.')[-1])\n",
    "    \n",
    "counter = Counter(extensions)\n",
    "\n",
    "counter = sorted(counter.items(), key=lambda x: x[0])\n",
    "\n",
    "for i in counter:\n",
    "    print(f'{i[0]}: {i[1]}')\n"
   ]
  },
  {
   "cell_type": "markdown",
   "id": "b551c5f1",
   "metadata": {},
   "source": [
    "2. Вам доступен текстовый файл pythonzen.txt, содержащий текст на английском языке. Напишите программу, которая **определяет, сколько раз встречается каждая буква в этом тексте**. Буквы и их количество должны выводиться в лексикографическом порядке, каждая на отдельной строке."
   ]
  },
  {
   "cell_type": "code",
   "execution_count": null,
   "id": "f8d9bd64",
   "metadata": {},
   "outputs": [],
   "source": [
    "from collections import Counter\n",
    "\n",
    "with open('pythonzen.txt', encoding='utf-8') as file:\n",
    "    data = file.read()\n",
    "    \n",
    "    counter = Counter(filter(str.isalpha, data.lower()))\n",
    "    \n",
    "    counter = sorted(counter.items(), key=lambda x: x[0])\n",
    "\n",
    "    for i in counter:\n",
    "        print(f'{i[0]}: {i[1]}')"
   ]
  },
  {
   "cell_type": "markdown",
   "id": "1abcd4ea",
   "metadata": {},
   "source": [
    "3. Дана последовательность слов. Напишите программу, которая выводит **наиболее часто встречаемое слово в этой последовательности**."
   ]
  },
  {
   "cell_type": "code",
   "execution_count": null,
   "id": "15567f54",
   "metadata": {},
   "outputs": [],
   "source": [
    "from collections import Counter\n",
    "\n",
    "letters = input().lower().split(' ')\n",
    "\n",
    "cnt = Counter(letters)\n",
    "\n",
    "print(cnt.most_common(1)[0][0])"
   ]
  },
  {
   "cell_type": "markdown",
   "id": "33aadcc6",
   "metadata": {},
   "source": [
    "4. Дана последовательность слов. Напишите программу, которая выводит наименее часто встречаемое слово в этой последовательности. Если таких слов несколько, программа должна вывести их все. Программа должна определить наименее часто встречаемое слово в введенной последовательности и вывести его в нижнем регистре. Если таких слов несколько, программа должна вывести их все в лексикографическом порядке, в нижнем регистре, разделяя запятой и пробелом."
   ]
  },
  {
   "cell_type": "code",
   "execution_count": null,
   "id": "757c5966",
   "metadata": {},
   "outputs": [],
   "source": [
    "from collections import Counter\n",
    "\n",
    "letters = input().lower().split(' ')\n",
    "\n",
    "counter = Counter(letters)\n",
    "\n",
    "result = []\n",
    "\n",
    "for key,value in counter.items():\n",
    "    if value == min(counter.values()):\n",
    "        result.append(key)\n",
    "\n",
    "result = sorted(result)        \n",
    "print(*result, sep=', ')"
   ]
  },
  {
   "cell_type": "markdown",
   "id": "1cbf6507",
   "metadata": {},
   "source": [
    "5. Дана последовательность слов. Напишите программу, которая группирует слова из этой последовательности по их длине и определяет количество слов в каждой полученной группе."
   ]
  },
  {
   "cell_type": "code",
   "execution_count": null,
   "id": "c3ff2d24",
   "metadata": {},
   "outputs": [],
   "source": [
    "from collections import Counter\n",
    "\n",
    "letters = input().split(' ')\n",
    "\n",
    "lens = []\n",
    "\n",
    "for i in letters:\n",
    "    lens.append(len(i))\n",
    "\n",
    "counter = Counter(lens) #ключ - длина слова, значение - количество этих цифр в списке    \n",
    "\n",
    "sorted_counter = sorted(counter.items(), key=lambda item: item[1])\n",
    "\n",
    "for key, value in sorted_counter:\n",
    "    print(f'Слов длины {key}: {value}')"
   ]
  },
  {
   "cell_type": "markdown",
   "id": "a790b4d5",
   "metadata": {},
   "source": [
    "6. Вам доступен файл name_log.csv, в котором находятся логи изменения имени пользователя. В первом столбце записано измененное имя пользователя, во втором — адрес электронной почты, в третьем — дата и время изменения. При этом email пользователь менять не может, только имя. Напишите программу, которая определяет, сколько раз пользователь менял имя. Программа должна вывести адреса электронных почт пользователей, указав для каждого соответствующее количество смененных имен. Почтовые ящики должны быть расположены в лексикографическом порядке, каждый на отдельной строке."
   ]
  },
  {
   "cell_type": "code",
   "execution_count": null,
   "id": "a1ea28cf",
   "metadata": {},
   "outputs": [],
   "source": [
    "import csv\n",
    "from collections import Counter\n",
    "\n",
    "with open('name_log.csv', encoding='utf-8') as file:\n",
    "    headers, *rows = csv.reader(file) #список без заголовка\n",
    "    \n",
    "    emails = map(lambda x: x[1], rows)\n",
    "    \n",
    "    counter = Counter(emails)\n",
    "    \n",
    "    sorted_counter = sorted(counter.items())\n",
    "    \n",
    "    for k, v in sorted_counter:\n",
    "        print(f'{k}: {v}')"
   ]
  },
  {
   "cell_type": "markdown",
   "id": "9f22952d",
   "metadata": {},
   "source": [
    "7.Реализуйте функцию scrabble(), которая принимает два аргумента в следующем порядке: symbols — набор символов, word — слово. Функция должна возвращать True, если из набора символов symbols можно составить слово word, или False в противном случае."
   ]
  },
  {
   "cell_type": "code",
   "execution_count": null,
   "id": "69cdea17",
   "metadata": {},
   "outputs": [],
   "source": [
    "from collections import Counter\n",
    "\n",
    "def scrabble(symbols, word):\n",
    "    word = word.lower()\n",
    "    symbols = symbols.lower()\n",
    "       \n",
    "    counter_w = Counter(word)\n",
    "    counter_s = Counter(symbols)\n",
    "    \n",
    "    empty = Counter()\n",
    "    \n",
    "    intersection = counter_w & counter_s\n",
    "    \n",
    "    if counter_w - intersection == empty:   \n",
    "        return True\n",
    "    else:\n",
    "        return False"
   ]
  },
  {
   "cell_type": "markdown",
   "id": "a402f5ff",
   "metadata": {},
   "source": [
    "8. Для дополнительного заработка Тимур решил заняться продажей овощей. У него имеются данные о продажах за год, разделенные на четыре файла по кварталам: quarter1.csv, quarter2.csv, quarter3.csv и quarter4.csv. В каждом файле в первом столбце указывается название продукта, а в последующих — количество проданного продукта в килограммах за определенный месяц. Также присутствует файл prices.json, содержащий словарь, в котором ключом является название продукта, а значением — цена за килограмм в рублях. Напишите программу, которая выводит единственное число — сумму, заработанную Тимуром за год на продаже овощей."
   ]
  },
  {
   "cell_type": "code",
   "execution_count": null,
   "id": "2fa131d1",
   "metadata": {},
   "outputs": [],
   "source": [
    "import csv, json\n",
    "from collections import Counter\n",
    "\n",
    "with (open('quarter1.csv', encoding='utf-8') as q1,\n",
    "     open('quarter2.csv', encoding='utf-8') as q2, \n",
    "     open('quarter3.csv', encoding='utf-8') as q3, \n",
    "     open('quarter4.csv', encoding='utf-8') as q4,\n",
    "     open('prices.json', 'r', encoding='utf-8') as prices_file):\n",
    "    headers_1, *sales_1 = csv.reader(q1)  #список без заголовка\n",
    "    headers_2, *sales_2 = csv.reader(q2)\n",
    "    headers_3, *sales_3 = csv.reader(q3)\n",
    "    headers_4, *sales_4 = csv.reader(q4)\n",
    "    prices = json.load(prices_file) # передаем файловый объект\n",
    "\n",
    "total_sales = Counter()\n",
    "\n",
    "for sales_q in [sales_1, sales_2, sales_3, sales_4]:\n",
    "    counter_sales_q = Counter({x[0]: sum(map(int, x[1:])) for x in sales_q})\n",
    "    \n",
    "    total_sales += counter_sales_q\n",
    "\n",
    "total_sum = sum([total_sales[k] * prices[k] for k in total_sales.keys()])\n",
    "\n",
    "print(total_sum)"
   ]
  },
  {
   "cell_type": "markdown",
   "id": "6131ba6a",
   "metadata": {},
   "source": [
    "9. Тимур продает книги по математике за 1 - 11 класс. У него есть список, в котором указаны все книги, имеющиеся в наличии. К Тимуру приходят n покупателей, называют номер класса, за который они хотят приобрести книгу, и сумму, которую они готовы заплатить, и если книга есть в наличии, Тимур ее продает. Напишите программу, которая вычисляет общую сумму денег, которую Тимур заработает на продаже книг. "
   ]
  },
  {
   "cell_type": "code",
   "execution_count": null,
   "id": "164b0e9e",
   "metadata": {},
   "outputs": [],
   "source": [
    "from collections import Counter\n",
    "\n",
    "availability = [int(x) for x in input().split()]\n",
    "\n",
    "availability_counter = Counter(availability)\n",
    "\n",
    "sales_data = list()\n",
    "\n",
    "n = int(input()) #кол-во покупателей\n",
    "\n",
    "for i in range(n):\n",
    "    sales_data.append(input().split()) \n",
    "    \n",
    "for element in sales_data:\n",
    "    element[0] = int(element[0])\n",
    "    element[1] = int(element[1])\n",
    "    \n",
    "\n",
    "cash_sum = 0\n",
    "\n",
    "for buyer in sales_data:\n",
    "    if not availability_counter:\n",
    "        break\n",
    "    else:\n",
    "        if buyer[0] in +availability_counter:\n",
    "            cash_sum += buyer[1]\n",
    "            availability_counter.subtract({buyer[0]:1})\n",
    "                   \n",
    "print(cash_sum)"
   ]
  }
 ],
 "metadata": {
  "kernelspec": {
   "display_name": "Python 3 (ipykernel)",
   "language": "python",
   "name": "python3"
  },
  "language_info": {
   "codemirror_mode": {
    "name": "ipython",
    "version": 3
   },
   "file_extension": ".py",
   "mimetype": "text/x-python",
   "name": "python",
   "nbconvert_exporter": "python",
   "pygments_lexer": "ipython3",
   "version": "3.11.5"
  }
 },
 "nbformat": 4,
 "nbformat_minor": 5
}
