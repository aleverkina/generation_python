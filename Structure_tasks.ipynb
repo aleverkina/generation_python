{
 "cells": [
  {
   "cell_type": "markdown",
   "id": "2fc8e5f4",
   "metadata": {},
   "source": [
    "1. Дано натуральное число. Напишите программу, которая вычисляет:\n",
    "\n",
    "количество цифр 3 в нем; сколько раз в нем встречается последняя цифра; количество четных цифр; сумму его цифр, больших пяти; произведение цифр, больших семи (если цифр больших семи нет, то вывести 1, если такая цифра одна, то вывести ее); сколько раз в нем встречается цифры 0 и 5 (всего суммарно)"
   ]
  },
  {
   "cell_type": "code",
   "execution_count": null,
   "id": "6afb0e50",
   "metadata": {},
   "outputs": [],
   "source": [
    "n = int(input())\n",
    "l = n % 10\n",
    "a = 0  # переменная для последней цифры\n",
    "three = 0 #количество цифр 3 в нем\n",
    "last = 0 #сколько раз в нем встречается последняя цифра\n",
    "chet = 0 #количество четных цифр\n",
    "sum_five = 0 #сумму его цифр, больших пяти\n",
    "proiv_seven = 1 #произведение цифр, больших семи (если цифр больших семи нет, то вывести 1, если такая цифра одна, то вывести ее)\n",
    "o_f = 0 #сколько раз в нем встречается цифры 0 и 5 (всего суммарно)\n",
    "\n",
    "while n > 0:         \n",
    "    a = n % 10  # находим и в переменную перезаписываем последнию цифру\n",
    "    n = n // 10      # убираем последнюю цифру\n",
    "    if a == 3:\n",
    "        three += 1\n",
    "    if a == l:\n",
    "        last += 1\n",
    "    if a % 2 == 0:\n",
    "        chet += 1\n",
    "    if a >5:\n",
    "        sum_five += a\n",
    "    if a > 7:\n",
    "        proiv_seven *= a\n",
    "    if a == 0 or a == 5:\n",
    "        o_f += 1\n",
    "print(three)\n",
    "print(last)\n",
    "print(chet)\n",
    "print(sum_five)\n",
    "print(proiv_seven)\n",
    "print(o_f)"
   ]
  },
  {
   "cell_type": "markdown",
   "id": "49b702de",
   "metadata": {},
   "source": [
    "2. Анри и Дима, имея на руках ящик с бесконечным количеством носков, решили сыграть в игру. Ребята по очереди достают из ящика произвольное количество носков, и после неопределенного числа ходов игра заканчивается. Если тот, кто сделал последний ход, вытащил четное количество носков — он побеждает, в противном случае проигрывает.\n",
    "\n",
    "Напишите программу, которая определяет победителя в данной игре, если первый ход делает Анри."
   ]
  },
  {
   "cell_type": "code",
   "execution_count": null,
   "id": "fef00c81",
   "metadata": {},
   "outputs": [],
   "source": [
    "import sys\n",
    "\n",
    "names = ['Анри', 'Дима']\n",
    "count = 1\n",
    "number = 0 \n",
    "\n",
    "for line in sys.stdin:\n",
    "    number = line\n",
    "    count += 1\n",
    "\n",
    "if int(number) % 2 == 0:\n",
    "    print(names[count % 2])\n",
    "else:\n",
    "    print(names[(count - 1) % 2])"
   ]
  },
  {
   "cell_type": "markdown",
   "id": "9f27d38b",
   "metadata": {},
   "source": [
    "3. Файлы ввода - вывода. Дана последовательность целых чисел. Напишите программу, которая определяет, является ли данная последовательность прогрессией, и если да, то определяет её вид."
   ]
  },
  {
   "cell_type": "code",
   "execution_count": null,
   "id": "34693736",
   "metadata": {},
   "outputs": [],
   "source": [
    "import sys\n",
    "inp = [line.strip() for line in sys.stdin]\n",
    "\n",
    "difference =[]\n",
    "quotient  =[]\n",
    "\n",
    "for number in range(len(inp) - 1):\n",
    "    difference.append(int(inp[number + 1]) - int(inp[number]))\n",
    "    quotient.append(int(inp[number + 1]) / int(inp[number]))                  \n",
    "                      \n",
    "if len(set(difference)) == 1:\n",
    "    print('Арифметическая прогрессия')\n",
    "elif len(set(quotient)) == 1:\n",
    "    print('Геометрическая прогрессия')\n",
    "else:\n",
    "    print('Не прогрессия')"
   ]
  },
  {
   "cell_type": "markdown",
   "id": "cb3740ed",
   "metadata": {},
   "source": [
    "4. Напишите программу с использованием конструкции try-except, которая принимает на вход название текстового файла и выводит его содержимое. Если файла с данным названием нет в папке с программой, программа должна вывести текст: Файл не найден."
   ]
  },
  {
   "cell_type": "code",
   "execution_count": null,
   "id": "beaec0fe",
   "metadata": {},
   "outputs": [],
   "source": [
    "inp = input()\n",
    "\n",
    "try:\n",
    "    file = open(inp, 'r', encoding='utf-8')\n",
    "    try:\n",
    "        text = file.read()\n",
    "        print(text)\n",
    "    finally:\n",
    "        file.close()\n",
    "except FileNotFoundError:\n",
    "    print('Файл не найден')"
   ]
  },
  {
   "cell_type": "markdown",
   "id": "2f6c84a9",
   "metadata": {},
   "source": [
    "5. Реализуйте функцию get_weekday(), которая принимает один аргумент: number — целое число (от 1 до 7 включительно). Функция должна возвращать полное название дня недели на русском, который соответствует числу number, при этом: если number не является целым числом, функция должна возбуждать исключение TypeError('Аргумент не является целым числом'); если number является целым числом, но не принадлежит отрезку, функция должна возбуждать исключение: ValueError('Аргумент не принадлежит требуемому диапазону')."
   ]
  },
  {
   "cell_type": "code",
   "execution_count": null,
   "id": "ce6826bd",
   "metadata": {},
   "outputs": [],
   "source": [
    "def get_weekday(number):\n",
    "    week = { 1: \"Понедельник\", 2: \"Вторник\", 3: \"Среда\", 4: \"Четверг\", 5: \"Пятница\", \n",
    "            6: \"Суббота\", 7: \"Воскресенье\", }\n",
    "    \n",
    "    if not type(number) == int:\n",
    "        raise TypeError('Аргумент не является целым числом')\n",
    "        \n",
    "    elif not 1 <= number <= 7:\n",
    "        raise ValueError('Аргумент не принадлежит требуемому диапазону')\n",
    "    \n",
    "    else:\n",
    "        return week[number]"
   ]
  },
  {
   "cell_type": "markdown",
   "id": "3a70e70e",
   "metadata": {},
   "source": [
    "6. Реализуйте def recursive_sum() с использованием рекурсии, которая принимает один аргумент: nested_lists — список, элементами которого являются целые числа или списки, элементами которых, в свою очередь, также являются либо целые числа, либо списки; вложенность может быть произвольной. Функция должна вычислять сумму всех чисел во всех списках и возвращать полученный результат. Если список nested_lists пуст, функция должна вернуть число 0."
   ]
  },
  {
   "cell_type": "code",
   "execution_count": null,
   "id": "d39b73cb",
   "metadata": {},
   "outputs": [],
   "source": [
    "def recursive_sum(nested_lists):\n",
    "    total = 0\n",
    "    if len(nested_lists) == 0:\n",
    "        return 0\n",
    "    else:\n",
    "        for i in nested_lists:\n",
    "            if type(i) == int:\n",
    "                total += i\n",
    "            else:\n",
    "                total += recursive_sum(i)\n",
    "    return total"
   ]
  },
  {
   "cell_type": "markdown",
   "id": "c8bf6989",
   "metadata": {},
   "source": [
    "7. Реализуйте linear() с использованием рекурсии, которая принимает один аргумент: nested_lists — список, элементами которого являются целые числа или списки, элементами которых, в свою очередь, также являются либо целые числа, либо списки; вложенность может быть произвольной. Функция должна возвращать новый список, представляющий собой линеаризованный список nested_lists."
   ]
  },
  {
   "cell_type": "code",
   "execution_count": null,
   "id": "d0ed74d7",
   "metadata": {},
   "outputs": [],
   "source": [
    "def linear(nested_lists):\n",
    "    total = []\n",
    "    if len(nested_lists) == 0:\n",
    "        return []\n",
    "    else:\n",
    "        for i in nested_lists:\n",
    "            if type(i) == int:\n",
    "                total.append(i)\n",
    "            else:\n",
    "                total.extend(linear(i))\n",
    "    \n",
    "    return total"
   ]
  },
  {
   "cell_type": "markdown",
   "id": "82778397",
   "metadata": {},
   "source": [
    "8. Реализуйте функцию get_all_values(), которая принимает два аргумента в следующем порядке: nested_dicts — словарь, содержащий в качестве значений произвольные объекты или словари, которые, в свою очередь, так же содержат в качестве значений произвольные объекты или словари, вложенность может быть произвольной; key — хешируемый объект. Функция должна определять все значения, которые соответствуют ключу key в словаре nested_dicts и всех его вложенных словарях, и возвращать их в виде множества. Если ключа key нет ни в одном словаре, функция должна вернуть пустое множество. \n"
   ]
  },
  {
   "cell_type": "code",
   "execution_count": null,
   "id": "18fadf97",
   "metadata": {},
   "outputs": [],
   "source": [
    "def get_all_values(nested_dicts, key):\n",
    "    total = set()\n",
    "    if key in nested_dicts:\n",
    "        total.add(nested_dicts[key])               # базовый случай\n",
    "    \n",
    "    for v in nested_dicts.values():\n",
    "        if type(v) == dict:\n",
    "            value = get_all_values(v, key)    # рекурсивный случай\n",
    "            if value is not None:\n",
    "                total.update(value) \n",
    "    return total"
   ]
  },
  {
   "cell_type": "markdown",
   "id": "db831fc4",
   "metadata": {},
   "source": [
    "9. Напишите программу, которая определяет минимальное и максимальное значения функции на отрезке в целых точках. "
   ]
  },
  {
   "cell_type": "code",
   "execution_count": null,
   "id": "ccf4b41f",
   "metadata": {},
   "outputs": [],
   "source": [
    "f = input()\n",
    "b = [int(x) for x in input().split()]\n",
    "\n",
    "print(f'Минимальное значение функции {f} на отрезке [{b[0]}; {b[1]}] равно {min([eval(f) for x in range(b[0], b[1]+1)])}')\n",
    "\n",
    "print(f'Максимальное значение функции {f} на отрезке [{b[0]}; {b[1]}] равно {max([eval(f) for x in range(b[0], b[1]+1)])}')"
   ]
  },
  {
   "cell_type": "markdown",
   "id": "67f5a555",
   "metadata": {},
   "source": [
    "10. Замыкание. Реализуйте функцию sourcetemplate(), которая принимает один аргумент: url — URL адрес.Функция sourcetemplate() должна возвращать функцию, которая принимает произвольное количество именованных аргументов и возвращает url адрес, объединенный со строкой запроса, сформированной из переданных аргументов. При вызове без аргументов она должна возвращать исходный url адрес без изменений."
   ]
  },
  {
   "cell_type": "code",
   "execution_count": null,
   "id": "348e0945",
   "metadata": {},
   "outputs": [],
   "source": [
    "def sourcetemplate(url):\n",
    "    def f(**kwargs):\n",
    "        if kwargs:\n",
    "            l = []\n",
    "            \n",
    "            for k,v in kwargs.items():\n",
    "                l.append(f'{k}={v}')\n",
    "                \n",
    "            l = sorted(l)\n",
    "            \n",
    "            result = '&'.join(l)\n",
    "            \n",
    "            return url + '?' + result\n",
    "        \n",
    "        else:\n",
    "            return url\n",
    "        \n",
    "    return f"
   ]
  },
  {
   "cell_type": "markdown",
   "id": "a9dd46ed",
   "metadata": {},
   "source": [
    "11. Реализуйте функцию top_grade() c использованием аннотаций типов, которая принимает один аргумент:grades — словарь, содержащий данные об ученике, а именно имя по ключу name и список оценок по ключу grades. Функция должна возвращать словарь, содержащий имя ученика по ключу name и его самую высокую оценку по ключу top_grade."
   ]
  },
  {
   "cell_type": "code",
   "execution_count": null,
   "id": "d9ea0f94",
   "metadata": {},
   "outputs": [],
   "source": [
    "def top_grade(grades: dict[str, str | list[int]]) -> dict[str, str | int]:\n",
    "    key_list = list(grades.keys())\n",
    "    \n",
    "    if isinstance(grades.get(key_list[1]), str):\n",
    "        max_grade = grades.get(key_list[1])\n",
    "    else:\n",
    "        max_grade = max(grades.get(key_list[1]))\n",
    "        \n",
    "    return {'name': grades.get(key_list[0]), 'top_grade': max_grade}"
   ]
  },
  {
   "cell_type": "markdown",
   "id": "ddc38eef",
   "metadata": {},
   "source": [
    "12. Реализуйте декоратор exception_decorator, который возвращает: кортеж (value, 'Функция выполнилась без ошибок'), если декорируемая функция завершила свою работу без ошибок, где value — возвращаемое значение декорируемой функции \\ кортеж (None, 'При вызове функции произошла ошибка'), если при выполнении декорируемой функции возникла ошибка."
   ]
  },
  {
   "cell_type": "code",
   "execution_count": null,
   "id": "58afbe33",
   "metadata": {},
   "outputs": [],
   "source": [
    "def exception_decorator(func):\n",
    "    def wrapper(*args, **kwargs):\n",
    "        try:\n",
    "            m = func(*args, **kwargs)\n",
    "            return (m, 'Функция выполнилась без ошибок')\n",
    "        except:\n",
    "            return (None, 'При вызове функции произошла ошибка')\n",
    "    return wrapper"
   ]
  },
  {
   "cell_type": "markdown",
   "id": "33bb1514",
   "metadata": {},
   "source": [
    "13. Реализуйте декоратор takes_positive, который проверяет, что все аргументы, передаваемые в декорируемую функцию, являются положительными целыми числами. Если хотя бы один аргумент не удовлетворяет данному условию, декоратор должен возбуждать исключение: TypeError, если аргумент не является целым числом; ValueError, если аргумент является целым числом, но отрицательным или равным нулю."
   ]
  },
  {
   "cell_type": "code",
   "execution_count": null,
   "id": "c6d19cc4",
   "metadata": {},
   "outputs": [],
   "source": [
    "def takes_positive(func):\n",
    "    def wrapper(*args, **kwargs):\n",
    "        if all (isinstance(x, int) for x in  [*args, *kwargs.values()]):\n",
    "            if all(y > 0 for y in [*args, *kwargs.values()]):\n",
    "                m = func(*args, **kwargs) \n",
    "                return m\n",
    "            else:\n",
    "                raise ValueError\n",
    "        else:\n",
    "            raise TypeError\n",
    "                \n",
    "    return wrapper"
   ]
  },
  {
   "cell_type": "markdown",
   "id": "41d9e850",
   "metadata": {},
   "source": [
    "14. Реализуйте декоратор takes, который принимает произвольное количество позиционных аргументов, каждый из которых является типом данных.Декоратор должен проверять, что аргументы, передаваемые в декорируемую функцию, принадлежат одному из этих типов. Если хотя бы один аргумент не принадлежит одному из данных типов, декоратор должен возбуждать исключение TypeError. Также декоратор должен сохранять имя и строку документации декорируемой функции."
   ]
  },
  {
   "cell_type": "code",
   "execution_count": null,
   "id": "1a83206a",
   "metadata": {},
   "outputs": [],
   "source": [
    "import functools\n",
    "\n",
    "def takes(*args, **kwargs):\n",
    "    d = [i for i in args]\n",
    "    \n",
    "    def decorator(func):\n",
    "        @functools.wraps(func)\n",
    "        \n",
    "        def wrapper(*args, **kwargs):\n",
    "            value = func(*args, **kwargs)\n",
    "            flag = True\n",
    "            \n",
    "            for i in (*args, *kwargs.values()):\n",
    "                if type(i) in d:\n",
    "                    flag = True\n",
    "                else:\n",
    "                    flag = False\n",
    "                    break\n",
    "                    \n",
    "            if flag:\n",
    "                return value\n",
    "            else:\n",
    "                raise TypeError \n",
    "                \n",
    "        return wrapper\n",
    "    \n",
    "    return decorator"
   ]
  },
  {
   "cell_type": "markdown",
   "id": "de080fe1",
   "metadata": {},
   "source": [
    "15. Реализуйте декоратор ignore_exception, который принимает произвольное количество позиционных аргументов — типов исключений, и выводит текст: Исключение <тип исключения> обработано. если во время выполнения декорируемой функции было возбуждено исключение, принадлежащее одному из переданных типов. Если возбужденное исключение не принадлежит ни одному из переданных типов, оно должно быть возбуждено снова. Также декоратор должен сохранять имя и строку документации декорируемой функции."
   ]
  },
  {
   "cell_type": "code",
   "execution_count": null,
   "id": "010c2f78",
   "metadata": {},
   "outputs": [],
   "source": [
    "import functools\n",
    "\n",
    "\n",
    "def ignore_exception(*args, **kwargs):\n",
    "    er = tuple([a for a in args])\n",
    "    \n",
    "    def decorator(func):\n",
    "        @functools.wraps(func)\n",
    "        \n",
    "        def wrapper(*args, **kwargs):\n",
    "            try:\n",
    "                value = func(*args, **kwargs)\n",
    "                return  value\n",
    "            except er as e:\n",
    "                print(f'Исключение {type(e).__name__} обработано')            \n",
    "        return wrapper\n",
    "    \n",
    "    return decorator"
   ]
  },
  {
   "cell_type": "markdown",
   "id": "0809cd21",
   "metadata": {},
   "source": [
    "16. Вам доступна уже реализованная функция send_email(), которая принимает три аргумента в следующем порядке: name — имя, email_address — адрес электронной почты, text — содержание письма. Функция отправляет письмо пользователю с именем name на адрес email_address с содержанием text.\n",
    "\n",
    "Реализуйте функцию to_Timur() с помощью функции partial(), которая принимает один аргумент: text — содержание письма. Функция должна отправлять письмо пользователю с именем Тимур на адрес timyrik20@beegeek.ru с содержанием text.\n",
    "\n",
    "Реализуйте функцию send_an_invitation() с помощью функции partial(), которая принимает два аргумента в следующем порядке: name — имя, email_address — адрес электронной почты. Функция должна отправлять письмо на имя name и на адрес email_address со следующим содержанием: Школа BEEGEEK приглашает Вас на новый курс по программированию на языке Python. тутут...."
   ]
  },
  {
   "cell_type": "code",
   "execution_count": null,
   "id": "5ee314f2",
   "metadata": {},
   "outputs": [],
   "source": [
    "from functools import partial\n",
    "\n",
    "to_Timur = partial(send_email, 'Тимур', 'timyrik20@beegeek.ru')\n",
    "\n",
    "send_an_invitation = partial(send_email, text = 'Школа BEEGEEK приглашает Вас на новый курс по программированию на языке Python. тутут....')"
   ]
  },
  {
   "cell_type": "markdown",
   "id": "c972b675",
   "metadata": {},
   "source": [
    "17. Реализуйте класс Square, порождающий итераторы, конструктор которого принимает один аргумент: n — натуральное число. Итератор класса Square должен генерировать последовательность из n чисел, каждое из которых является квадратом очередного натурального числа, а затем возбуждать исключение StopIteration."
   ]
  },
  {
   "cell_type": "code",
   "execution_count": null,
   "id": "004d1689",
   "metadata": {},
   "outputs": [],
   "source": [
    "class Square:\n",
    "    def __init__(self, n):\n",
    "        self.n = n\n",
    "        self.counter = 1\n",
    "        \n",
    "\n",
    "    def __iter__(self):\n",
    "        return self\n",
    "\n",
    "    def __next__(self):\n",
    "        if self.counter - self.n == 1:\n",
    "            raise StopIteration\n",
    "        else:\n",
    "            self.value = self.counter ** 2\n",
    "            self.counter += 1\n",
    "            return self.value"
   ]
  },
  {
   "cell_type": "markdown",
   "id": "87a2a18e",
   "metadata": {},
   "source": [
    "18. Тимур пришел в книжный магазин, чтобы приобрести новую книгу по математике, стоимость которой равна 100$. У него в кошельке имеется множество купюр различного номинала, которые представлены в списке wallet.\n",
    "\n",
    "Дополните приведенный ниже код, чтобы он вывел количество способов, которыми Тимур может приобрести книгу стоимостью 100$."
   ]
  },
  {
   "cell_type": "code",
   "execution_count": null,
   "id": "72a83373",
   "metadata": {},
   "outputs": [],
   "source": [
    "from itertools import combinations\n",
    "\n",
    "wallet = [100, 100, 50, 50, 50, 50, 20, 20, 20, 10, 10, 10, 10, 10, 5, 5, 1, 1, 1, 1, 1]\n",
    "\n",
    "s = 0\n",
    "\n",
    "for i in range(len(wallet)):\n",
    "    g = set(combinations(wallet, i))\n",
    "    for x in g:\n",
    "        if sum(x) == 100:\n",
    "            s += 1\n",
    "            \n",
    "print(s)"
   ]
  }
 ],
 "metadata": {
  "kernelspec": {
   "display_name": "Python 3 (ipykernel)",
   "language": "python",
   "name": "python3"
  },
  "language_info": {
   "codemirror_mode": {
    "name": "ipython",
    "version": 3
   },
   "file_extension": ".py",
   "mimetype": "text/x-python",
   "name": "python",
   "nbconvert_exporter": "python",
   "pygments_lexer": "ipython3",
   "version": "3.11.5"
  }
 },
 "nbformat": 4,
 "nbformat_minor": 5
}
