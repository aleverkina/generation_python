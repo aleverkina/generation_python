{
 "cells": [
  {
   "cell_type": "markdown",
   "id": "e46dbd73",
   "metadata": {},
   "source": [
    "1. Вам доступен именованный кортеж User, который содержит данные о пользователе некоторого ресурса. Первым элементом именованного кортежа является имя пользователя, вторым — фамилия, третьим — адрес электронной почты, четвертым — статус оформленной подписки. Также доступен список users, содержащий эти кортежи.\n",
    "\n",
    "Дополните приведенный ниже код, чтобы он вывел данные о каждом пользователе из этого списка, предварительно отсортировав их по статусу подписки от дорогой к дешевой, а при совпадении статусов — в лексикографическом порядке адресов электронных почт."
   ]
  },
  {
   "cell_type": "code",
   "execution_count": null,
   "id": "81892e99",
   "metadata": {},
   "outputs": [],
   "source": [
    "from collections import namedtuple\n",
    "\n",
    "User = namedtuple('User', ['name', 'surname', 'email', 'plan'])\n",
    "\n",
    "users = [User('Mary', 'Griffin', 'sonnen@yahoo.com', 'Basic'),\n",
    "         User('Brenda', 'Young', 'retoh@outlook.com', 'Silver'),\n",
    "         User('Kathleen', 'Lyons', 'balchen@att.net', 'Gold'),\n",
    "         User('Pamela', 'Hicks', 'corrada@sbcglobal.net', 'Silver'),\n",
    "         User('William', 'Townsend', 'kosact@verizon.net', 'Gold'),\n",
    "         User('Clayton', 'Morris', 'berserk@yahoo.com', 'Silver'),\n",
    "         User('Dorothy', 'Dennis', 'sequin@live.com', 'Gold'),\n",
    "         User('Tyler', 'Walker', 'noahb@comcast.net', 'Basic'),\n",
    "         User('Joseph', 'Moore', 'ylchang@sbcglobal.net', 'Silver'),\n",
    "         User('Kenneth', 'Richardson', 'tbusch@me.com', 'Bronze'),\n",
    "         User('Stephanie', 'Bush', 'neuffer@live.com', 'Gold'),\n",
    "         User('Gregory', 'Hughes', 'juliano@att.net', 'Basic'),\n",
    "         User('Tracy', 'Wallace', 'sblack@me.com', 'Silver'),\n",
    "         User('Russell', 'Smith', 'isaacson@comcast.net', 'Bronze'),\n",
    "         User('Megan', 'Patterson', 'hoangle@outlook.com', 'Basic')]\n",
    "\n",
    "sd = {'Gold': 0, 'Silver': 1, 'Bronze': 2, 'Basic': 3}\n",
    "\n",
    "users = sorted(users, key = lambda x: (sd[x.plan], x.email))\n",
    "\n",
    "for user in users:\n",
    "    print(f'{user[0]} {user[1]}\\n  Email: {user[2]}\\n  Plan: {user[3]}\\n')"
   ]
  },
  {
   "cell_type": "markdown",
   "id": "bbe09a58",
   "metadata": {},
   "source": [
    "2. Реализуйте функцию group_anagrams(), которая принимает один аргумент: words — список слов. Функция должна группировать в кортежи слова из списка words, являющиеся анаграммами, и возвращать список полученных кортежей."
   ]
  },
  {
   "cell_type": "code",
   "execution_count": null,
   "id": "bae5f528",
   "metadata": {},
   "outputs": [],
   "source": [
    "from itertools import groupby\n",
    "\n",
    "def group_anagrams(words):   \n",
    "    s = groupby(sorted(words, key=sorted), key=sorted)\n",
    "    \n",
    "    for i in s:\n",
    "        yield tuple(i[1])"
   ]
  }
 ],
 "metadata": {
  "kernelspec": {
   "display_name": "Python 3 (ipykernel)",
   "language": "python",
   "name": "python3"
  },
  "language_info": {
   "codemirror_mode": {
    "name": "ipython",
    "version": 3
   },
   "file_extension": ".py",
   "mimetype": "text/x-python",
   "name": "python",
   "nbconvert_exporter": "python",
   "pygments_lexer": "ipython3",
   "version": "3.11.5"
  }
 },
 "nbformat": 4,
 "nbformat_minor": 5
}
