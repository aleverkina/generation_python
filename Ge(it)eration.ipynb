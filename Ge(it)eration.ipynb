{
 "cells": [
  {
   "cell_type": "markdown",
   "id": "23d35b34",
   "metadata": {},
   "source": [
    "1. Реализуйте генераторную функцию dates(), которая принимает два аргумента в следующем порядке: start — дата, тип date count — натуральное число, по умолчанию имеет значение None. Если count имеет значение None, функция должна возвращать генератор, порождающий последовательность из максимально допустимого количества дат (тип date), начиная с даты start. Если count имеет в качестве значения натуральное число, функция должна возвращать генератор, порождающий последовательность из count дат (тип date), начиная с даты start, а затем возбуждающий исключение StopIteration."
   ]
  },
  {
   "cell_type": "code",
   "execution_count": null,
   "id": "132fd991",
   "metadata": {},
   "outputs": [],
   "source": [
    "import datetime\n",
    "from datetime import date, timedelta\n",
    "\n",
    "def dates(start, count = None):\n",
    "    n = 0\n",
    "    while True:\n",
    "        if count == None:\n",
    "            yield start\n",
    "            if start == date.max:\n",
    "                return\n",
    "                break\n",
    "            else:\n",
    "                start += datetime.timedelta(days=1)\n",
    "        \n",
    "        else:\n",
    "            yield start  \n",
    "            if n == count - 1:\n",
    "                return\n",
    "                break\n",
    "            else:\n",
    "                start += datetime.timedelta(days=1)\n",
    "                n += 1"
   ]
  },
  {
   "cell_type": "markdown",
   "id": "4847428b",
   "metadata": {},
   "source": [
    "2. Реализуйте генераторную функцию palindromes(), которая не принимает никаких аргументов. Функция должна возвращать генератор, порождающий бесконечную последовательность натуральных чисел-палиндромов."
   ]
  },
  {
   "cell_type": "code",
   "execution_count": null,
   "id": "465c2403",
   "metadata": {},
   "outputs": [],
   "source": [
    "def palindromes():\n",
    "    n = 1\n",
    "    while True:\n",
    "        num_test = int(str(n)[::-1])\n",
    "        if n == num_test:\n",
    "            yield n\n",
    "        n += 1\n",
    "    yield from palindromes()"
   ]
  },
  {
   "cell_type": "markdown",
   "id": "c6461c27",
   "metadata": {},
   "source": [
    "3. Реализуйте генераторную функцию flatten(), которая принимает один аргумент: nested_list — список, элементами которого являются целые числа или списки, элементами которых, в свою очередь, также являются либо целые числа, либо списки; вложенность может быть произвольной. Функция должна возвращать генератор, порождающий все числа, содержащиеся в nested_list, включая все числа из всех вложенных списков, а затем возбуждает исключение StopIteration. "
   ]
  },
  {
   "cell_type": "code",
   "execution_count": null,
   "id": "c7911dcf",
   "metadata": {},
   "outputs": [],
   "source": [
    "def flatten(nested_list):\n",
    "    for elem in nested_list:\n",
    "            if type(elem) == int:\n",
    "                yield elem\n",
    "            else:\n",
    "                yield from flatten(elem)"
   ]
  },
  {
   "cell_type": "markdown",
   "id": "166b2441",
   "metadata": {},
   "source": [
    "4. Реализуйте функцию interleave() с использованием генераторных выражений, которая принимает произвольное количество позиционных аргументов, каждый из которых является последовательностью.\n",
    "\n",
    "Функция должна возвращать генератор, порождающий каждый элемент всех переданных последовательностей: сначала первый элемент первой последовательности, затем первый элемент второй последовательности, и так далее; после второй элемент первой последовательности, затем второй элемент второй последовательности, и так далее."
   ]
  },
  {
   "cell_type": "code",
   "execution_count": null,
   "id": "d68b8360",
   "metadata": {},
   "outputs": [],
   "source": [
    "def interleave(*args):\n",
    "    yield from (i for it in zip(*args) for i in it)"
   ]
  },
  {
   "cell_type": "markdown",
   "id": "a9579a37",
   "metadata": {},
   "source": [
    "5. Реализуйте функцию first_largest(), которая принимает два аргумента в следующем порядке: iterable — итерируемый объект, элементами которого являются целые числа; number — произвольное число. Функция должна возвращать индекс первого элемента итерируемого объекта iterable, который больше number. Если таких элементов нет, функция должна вернуть число −1."
   ]
  },
  {
   "cell_type": "code",
   "execution_count": null,
   "id": "ca310b00",
   "metadata": {},
   "outputs": [],
   "source": [
    "from itertools import dropwhile\n",
    "\n",
    "def  first_largest(iterable, number):\n",
    "    value = enumerate(iterable)\n",
    "    result = dropwhile(lambda x: x[1] <= number, value)\n",
    "    try:\n",
    "        return next(result)[0]\n",
    "    except:\n",
    "        return -1"
   ]
  },
  {
   "cell_type": "markdown",
   "id": "73681f72",
   "metadata": {},
   "source": [
    "6. Реализуйте функцию take_nth(), которая принимает два аргумента в следующем порядке: iterable — итерируемый объект; n — натуральное число. Функция должна возвращать n-ый по счету элемент итерируемого объекта iterable. Если итерируемый объект iterable содержит менее n элементов, функция должна вернуть значение None"
   ]
  },
  {
   "cell_type": "code",
   "execution_count": null,
   "id": "d79b5e2a",
   "metadata": {},
   "outputs": [],
   "source": [
    "from itertools import islice\n",
    "\n",
    "def take_nth(iterable, n):\n",
    "    value = islice(iterable, n - 1, n)\n",
    "    return next(value, None)"
   ]
  },
  {
   "cell_type": "markdown",
   "id": "388d636e",
   "metadata": {},
   "source": [
    "7. Реализуйте генераторную функцию, которая принимает один аргумент: iterable — итерируемый объект. Функция должна возвращать генератор, порождающий последовательность кортежей, каждый из которых содержит очередной элемент итерируемого объекта iterable, а также предыдущий и следующий за ним элементы: (<предыдущий элемент>, <очередной элемент>, <следующий элемент>). Для первого элемента предыдущим считается значение None, для последнего элемента следующим считается так же значение None."
   ]
  },
  {
   "cell_type": "code",
   "execution_count": null,
   "id": "0e484348",
   "metadata": {},
   "outputs": [],
   "source": [
    "def around(iterable, previous=None):\n",
    "    it = iter(iterable)\n",
    "    i = next(it, None)\n",
    "    \n",
    "    \n",
    "    while i != None:\n",
    "        i, el = next(it, None), i\n",
    "        yield (previous, el, i)\n",
    "        previous = el"
   ]
  },
  {
   "cell_type": "markdown",
   "id": "d91c5bc8",
   "metadata": {},
   "source": [
    "8. Реализуйте функцию roundrobin(), которая принимает произвольное количество позиционных аргументов, каждый из которых является итерируемым объектом.\n",
    "\n",
    "Функция должна возвращать итератор, генерирующий последовательность из элементов всех переданных итерируемых объектов: сначала первый элемент первого итерируемого объекта, затем первый элемент второго итерируемого объекта, и так далее; после второй элемент первого итерируемого объекта, затем второй элемент второго итерируемого объекта, и так далее."
   ]
  },
  {
   "cell_type": "code",
   "execution_count": null,
   "id": "9ea55a18",
   "metadata": {},
   "outputs": [],
   "source": [
    "from itertools import zip_longest\n",
    "\n",
    "def  roundrobin(*args):\n",
    "    yield from (i for x in zip_longest(*args, fillvalue='') for i in x if i != '')"
   ]
  }
 ],
 "metadata": {
  "kernelspec": {
   "display_name": "Python 3 (ipykernel)",
   "language": "python",
   "name": "python3"
  },
  "language_info": {
   "codemirror_mode": {
    "name": "ipython",
    "version": 3
   },
   "file_extension": ".py",
   "mimetype": "text/x-python",
   "name": "python",
   "nbconvert_exporter": "python",
   "pygments_lexer": "ipython3",
   "version": "3.11.5"
  }
 },
 "nbformat": 4,
 "nbformat_minor": 5
}
